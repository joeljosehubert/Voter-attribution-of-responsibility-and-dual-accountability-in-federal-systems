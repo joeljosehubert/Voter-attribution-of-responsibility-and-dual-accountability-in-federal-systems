{
 "cells": [
  {
   "cell_type": "code",
   "execution_count": 1,
   "id": "af37db51",
   "metadata": {},
   "outputs": [],
   "source": [
    "import os\n",
    "import subprocess\n",
    "\n",
    "import json\n",
    "import csv\n",
    "\n",
    "import uuid\n",
    "\n",
    "\n",
    "from IPython.display import display_javascript, display_html, display\n",
    "\n",
    "import pandas as pd\n",
    "import numpy as np\n",
    "\n",
    "from datetime import datetime, date, time"
   ]
  },
  {
   "cell_type": "code",
   "execution_count": 2,
   "id": "d89e89f6",
   "metadata": {},
   "outputs": [],
   "source": [
    "import snscrape.modules.twitter as sntwitter"
   ]
  },
  {
   "cell_type": "code",
   "execution_count": 3,
   "id": "157232f6",
   "metadata": {
    "scrolled": true
   },
   "outputs": [
    {
     "name": "stderr",
     "output_type": "stream",
     "text": [
      "Scraping, 100 results so far\n",
      "Scraping, 200 results so far\n",
      "Scraping, 300 results so far\n",
      "Scraping, 400 results so far\n",
      "Scraping, 500 results so far\n",
      "Scraping, 600 results so far\n",
      "Scraping, 700 results so far\n",
      "Scraping, 800 results so far\n",
      "Scraping, 900 results so far\n",
      "Scraping, 1000 results so far\n",
      "Scraping, 1100 results so far\n",
      "Scraping, 1200 results so far\n",
      "Scraping, 1300 results so far\n",
      "Scraping, 1400 results so far\n",
      "Scraping, 1500 results so far\n",
      "Scraping, 1600 results so far\n",
      "Scraping, 1700 results so far\n",
      "Scraping, 1800 results so far\n",
      "Scraping, 1900 results so far\n",
      "Scraping, 2000 results so far\n",
      "Scraping, 2100 results so far\n",
      "Scraping, 2200 results so far\n",
      "Scraping, 2300 results so far\n",
      "Scraping, 2400 results so far\n",
      "Scraping, 2500 results so far\n",
      "Scraping, 2600 results so far\n",
      "Scraping, 2700 results so far\n",
      "Scraping, 2800 results so far\n",
      "Scraping, 2900 results so far\n",
      "Scraping, 3000 results so far\n",
      "Scraping, 3100 results so far\n",
      "Scraping, 3200 results so far\n",
      "Scraping, 3300 results so far\n",
      "Scraping, 3400 results so far\n",
      "Scraping, 3500 results so far\n",
      "Scraping, 3600 results so far\n",
      "Scraping, 3700 results so far\n",
      "Scraping, 3800 results so far\n",
      "Scraping, 3900 results so far\n",
      "Scraping, 4000 results so far\n",
      "Scraping, 4100 results so far\n",
      "Scraping, 4200 results so far\n",
      "Scraping, 4300 results so far\n",
      "Scraping, 4400 results so far\n",
      "Scraping, 4500 results so far\n",
      "Scraping, 4600 results so far\n",
      "Scraping, 4700 results so far\n",
      "Scraping, 4800 results so far\n",
      "Scraping, 4900 results so far\n",
      "Scraping, 5000 results so far\n",
      "Scraping, 5100 results so far\n",
      "Scraping, 5200 results so far\n",
      "Scraping, 5300 results so far\n"
     ]
    },
    {
     "data": {
      "text/plain": [
       "0"
      ]
     },
     "execution_count": 3,
     "metadata": {},
     "output_type": "execute_result"
    }
   ],
   "source": [
    "out_folder = '/Users/noeljoseph/'\n",
    "in_folder = '../input'\n",
    "\n",
    "json_filename = out_folder + '/tweetfinalelectricitykerala2.json'\n",
    "\n",
    "#Using the OS library to call CLI commands in Python\n",
    "os.system(f'snscrape --max-results 20000 --jsonl --progress --since 2017-12-01 twitter-search \"Kerala + electricity\" > {json_filename}')"
   ]
  }
 ],
 "metadata": {
  "kernelspec": {
   "display_name": "Python 3",
   "language": "python",
   "name": "python3"
  },
  "language_info": {
   "codemirror_mode": {
    "name": "ipython",
    "version": 3
   },
   "file_extension": ".py",
   "mimetype": "text/x-python",
   "name": "python",
   "nbconvert_exporter": "python",
   "pygments_lexer": "ipython3",
   "version": "3.8.8"
  }
 },
 "nbformat": 4,
 "nbformat_minor": 5
}
