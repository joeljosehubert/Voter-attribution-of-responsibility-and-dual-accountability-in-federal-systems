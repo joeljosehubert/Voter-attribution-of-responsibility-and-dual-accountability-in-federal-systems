{
 "cells": [
  {
   "cell_type": "code",
   "execution_count": 1,
   "id": "369d5f9a",
   "metadata": {},
   "outputs": [],
   "source": [
    "#Import the necessary libraries (numpy and pandas)\n",
    "import pandas as pd\n",
    "import numpy as np\n",
    "import matplotlib.pyplot as plt\n",
    "import seaborn as sns\n",
    "from matplotlib import style\n",
    "style.use('ggplot')\n",
    "from sklearn import datasets\n",
    "from sklearn.preprocessing import StandardScaler\n",
    "from sklearn.svm import LinearSVC\n",
    "from sklearn.model_selection import train_test_split\n",
    "from sklearn.multiclass import OneVsRestClassifier\n",
    "from sklearn.multiclass import OneVsOneClassifier\n",
    "from sklearn.svm import SVC\n",
    "from sklearn.metrics import confusion_matrix\n",
    "from sklearn.metrics import ConfusionMatrixDisplay\n",
    "from sklearn.metrics import classification_report\n",
    "from sklearn.metrics import precision_score, recall_score\n",
    "from sklearn.model_selection import cross_val_score\n",
    "%matplotlib inline"
   ]
  },
  {
   "cell_type": "code",
   "execution_count": 2,
   "id": "349951cb",
   "metadata": {},
   "outputs": [
    {
     "name": "stderr",
     "output_type": "stream",
     "text": [
      "/Users/noeljoseph/opt/anaconda3/lib/python3.8/site-packages/IPython/core/interactiveshell.py:3165: DtypeWarning: Columns (28,54,162,163,164,165,166,168,169,171,172,173,174,175,176,183,184,185,186,187,188,190,196,197,198,199,200,201,202,207,210,212,213,214,215) have mixed types.Specify dtype option on import or set low_memory=False.\n",
      "  has_raised = await self.run_ast_nodes(code_ast.body, cell_name,\n"
     ]
    }
   ],
   "source": [
    "#read the scraped file\n",
    "df = pd.read_csv('tweetfinalhealthkerala.csv')"
   ]
  },
  {
   "cell_type": "code",
   "execution_count": 3,
   "id": "8b3b27cf",
   "metadata": {},
   "outputs": [
    {
     "name": "stdout",
     "output_type": "stream",
     "text": [
      "<class 'pandas.core.frame.DataFrame'>\n",
      "RangeIndex: 20000 entries, 0 to 19999\n",
      "Columns: 217 entries, Unnamed: 0 to user.label.longDescription\n",
      "dtypes: bool(2), float64(64), int64(14), object(137)\n",
      "memory usage: 32.8+ MB\n"
     ]
    }
   ],
   "source": [
    "df.info()"
   ]
  },
  {
   "cell_type": "code",
   "execution_count": 4,
   "id": "e631fcf0",
   "metadata": {},
   "outputs": [],
   "source": [
    "# drop the columns that are not required\n",
    "df = df.drop(['_type', 'url', 'renderedContent', 'id', 'user',\n",
    "                 'quoteCount', 'conversationId', 'source', 'sourceUrl',\n",
    "                 'outlinks', 'tcooutlinks', 'media', 'retweetedTweet',\n",
    "                 'quotedTweet', 'inReplyToTweetId','inReplyToUser',\n",
    "                 'mentionedUsers', 'coordinates', 'place', 'cashtags',\n",
    "                 'user_type', 'userID', 'user_description_urls',\n",
    "                 'user_protected', 'user_link_url', 'user_linkTcourl',\n",
    "                 'user_profile_imageUrl', 'user_profile_bannerUrl', 'user_label',\n",
    "                 'user_url', 'label._type', 'label.description', 'label.url',\n",
    "                 'label.badgeUrl', 'label.longDescription', '_type', 'id',\n",
    "                 'quotedTweet.mentionedUsers', 'quotedTweet.coordinates',\n",
    "                 'quotedTweet.place', 'quotedTweet.hashtags', 'quotedTweet.cashtags',\n",
    "                 'user.label._type', 'user.label.description', 'user.label.url',\n",
    "                 'user.label.badgeUrl','user.label.longDescription', 'quotedTweet.source',\n",
    "                 'quotedTweet.sourceUrl', 'quotedTweet.sourceLabel', 'quotedTweet.outlinks',\n",
    "                 'quotedTweet.tcooutlinks', 'quotedTweet.media', 'quotedTweet.retweetedTweet',\n",
    "                 'quotedTweet.quotedTweet', 'quotedTweet.inReplyToTweetId', 'quotedTweet.inReplyToUser'], axis = 'columns')"
   ]
  },
  {
   "cell_type": "code",
   "execution_count": 5,
   "id": "9bd6231e",
   "metadata": {},
   "outputs": [],
   "source": [
    "# drop additional columns that appear towards the right of the last relevant column\n",
    "df.drop(df.columns[[22,23, 24, 25, 26, 27, 28, 29, 30, 31, 32, 33, 34, 35, 36, 37, 38,\n",
    "                    39, 40, 41, 42, 43, 44, 45, 46, 47, 48, 49, 50, 51, 52, 53, 54, 55, 56,\n",
    "                    57, 58, 59, 60, 61, 62, 63, 64, 65, 66, 67, 68, 69, 70, 71, 72, 73, 74, 75,\n",
    "                    76, 77, 78, 79, 80, 81, 82, 83, 84, 85, 86, 87, 88, 89, 90, 91, 92, 93, 94,\n",
    "                    95, 96, 97, 98, 99, 100, 101, 102, 103, 104, 105, 106, 107, 108, 109, 110,\n",
    "                    111, 112, 113, 114, 115, 116, 117, 118, 119, 120, 121, 122, 123, 124, 125,\n",
    "                    126, 127, 128, 129, 130, 131, 132, 133, 134, 135, 136, 137, 138, 139, 140,\n",
    "                    141, 142, 143, 144, 145, 146, 147, 148, 149, 150, 151, 152, 153, 154, 155,\n",
    "                    156, 157, 158, 159, 160, 161]], axis=1, inplace=True)"
   ]
  },
  {
   "cell_type": "code",
   "execution_count": 6,
   "id": "e182674a",
   "metadata": {},
   "outputs": [
    {
     "name": "stdout",
     "output_type": "stream",
     "text": [
      "<class 'pandas.core.frame.DataFrame'>\n",
      "RangeIndex: 20000 entries, 0 to 19999\n",
      "Data columns (total 22 columns):\n",
      " #   Column                 Non-Null Count  Dtype \n",
      "---  ------                 --------------  ----- \n",
      " 0   Unnamed: 0             20000 non-null  int64 \n",
      " 1   date                   20000 non-null  object\n",
      " 2   content                20000 non-null  object\n",
      " 3   replyCount             20000 non-null  int64 \n",
      " 4   retweetCount           20000 non-null  int64 \n",
      " 5   likeCount              20000 non-null  int64 \n",
      " 6   lang                   20000 non-null  object\n",
      " 7   sourceLabel            20000 non-null  object\n",
      " 8   hashtags               7826 non-null   object\n",
      " 9   username               20000 non-null  object\n",
      " 10  user_dispaly_name      19999 non-null  object\n",
      " 11  user_description       17983 non-null  object\n",
      " 12  user_raw_description   17983 non-null  object\n",
      " 13  user_verified          20000 non-null  bool  \n",
      " 14  user_created           20000 non-null  object\n",
      " 15  user_followers_count   20000 non-null  int64 \n",
      " 16  user_friends_count     20000 non-null  int64 \n",
      " 17  user_status_count      20000 non-null  int64 \n",
      " 18  user_favourites_count  20000 non-null  int64 \n",
      " 19  user_listed_count      20000 non-null  int64 \n",
      " 20  user_media_count       20000 non-null  int64 \n",
      " 21  user_location          15109 non-null  object\n",
      "dtypes: bool(1), int64(10), object(11)\n",
      "memory usage: 3.2+ MB\n"
     ]
    }
   ],
   "source": [
    "df.info()"
   ]
  },
  {
   "cell_type": "code",
   "execution_count": 7,
   "id": "e9c0abfb",
   "metadata": {},
   "outputs": [],
   "source": [
    "# drop the rows\n",
    "#df.drop(df.index[10000:20000],0,inplace=True)"
   ]
  },
  {
   "cell_type": "code",
   "execution_count": null,
   "id": "2f4e29cc",
   "metadata": {},
   "outputs": [],
   "source": []
  },
  {
   "cell_type": "code",
   "execution_count": 8,
   "id": "1a330dd6",
   "metadata": {},
   "outputs": [],
   "source": [
    "#df.info()"
   ]
  },
  {
   "cell_type": "code",
   "execution_count": 9,
   "id": "c4ae2a61",
   "metadata": {},
   "outputs": [
    {
     "data": {
      "image/png": "[encoded data removed]",
      "text/plain": [
       "<Figure size 1440x1080 with 12 Axes>"
      ]
     },
     "metadata": {
      "needs_background": "light"
     },
     "output_type": "display_data"
    }
   ],
   "source": [
    "#visualising for better undertanding of the spread of the variables\n",
    "df.hist(bins=100, figsize=(20,15))\n",
    "plt.show()"
   ]
  },
  {
   "cell_type": "code",
   "execution_count": 10,
   "id": "e9d1489f",
   "metadata": {},
   "outputs": [],
   "source": [
    "# IMPORT modules for natural language processing"
   ]
  },
  {
   "cell_type": "code",
   "execution_count": 11,
   "id": "34b16970",
   "metadata": {},
   "outputs": [],
   "source": [
    "import re\n",
    "import string\n",
    "import nltk"
   ]
  },
  {
   "cell_type": "code",
   "execution_count": 12,
   "id": "0ad670dc",
   "metadata": {},
   "outputs": [],
   "source": [
    "from nltk.corpus import stopwords\n",
    "from nltk.tokenize import word_tokenize\n",
    "from nltk.stem import PorterStemmer\n",
    "from nltk.stem import WordNetLemmatizer\n",
    "from sklearn.model_selection import train_test_split"
   ]
  },
  {
   "cell_type": "code",
   "execution_count": 13,
   "id": "e1429411",
   "metadata": {
    "scrolled": true
   },
   "outputs": [
    {
     "name": "stderr",
     "output_type": "stream",
     "text": [
      "[nltk_data] Downloading package stopwords to\n",
      "[nltk_data]     /Users/noeljoseph/nltk_data...\n",
      "[nltk_data]   Package stopwords is already up-to-date!\n"
     ]
    }
   ],
   "source": [
    "#creating a stopwords set\n",
    "import nltk\n",
    "nltk.download('stopwords')\n",
    "stop_words = set(stopwords.words('english'))"
   ]
  },
  {
   "cell_type": "code",
   "execution_count": 14,
   "id": "0420db6b",
   "metadata": {},
   "outputs": [
    {
     "data": {
      "text/plain": [
       "Index(['Unnamed: 0', 'date', 'content', 'replyCount', 'retweetCount',\n",
       "       'likeCount', 'lang', 'sourceLabel', 'hashtags', 'username',\n",
       "       'user_dispaly_name', 'user_description', 'user_raw_description',\n",
       "       'user_verified', 'user_created', 'user_followers_count',\n",
       "       'user_friends_count', 'user_status_count', 'user_favourites_count',\n",
       "       'user_listed_count', 'user_media_count', 'user_location'],\n",
       "      dtype='object')"
      ]
     },
     "execution_count": 14,
     "metadata": {},
     "output_type": "execute_result"
    }
   ],
   "source": [
    "df.columns"
   ]
  },
  {
   "cell_type": "code",
   "execution_count": 15,
   "id": "1f70165b",
   "metadata": {},
   "outputs": [
    {
     "data": {
      "text/plain": [
       "<AxesSubplot:>"
      ]
     },
     "execution_count": 15,
     "metadata": {},
     "output_type": "execute_result"
    },
    {
     "data": {
      "image/png": "[encoded data removed]",
      "text/plain": [
       "<Figure size 432x288 with 2 Axes>"
      ]
     },
     "metadata": {
      "needs_background": "light"
     },
     "output_type": "display_data"
    }
   ],
   "source": [
    "import seaborn as sns\n",
    "sns.heatmap(df.corr())"
   ]
  },
  {
   "cell_type": "code",
   "execution_count": 16,
   "id": "c3f6db95",
   "metadata": {},
   "outputs": [
    {
     "name": "stdout",
     "output_type": "stream",
     "text": [
      "Percentage False    0.78305\n",
      "True     0.21695\n",
      "Name: user_verified, dtype: float64\n"
     ]
    },
    {
     "data": {
      "image/png": "[encoded data removed]",
      "text/plain": [
       "<Figure size 288x288 with 1 Axes>"
      ]
     },
     "metadata": {},
     "output_type": "display_data"
    }
   ],
   "source": [
    "print('Percentage',df.user_verified.value_counts(normalize=True))\n",
    "f, ax = plt.subplots(figsize=(4, 4))\n",
    "plt.pie(df['user_verified'].value_counts().tolist(), \n",
    "        labels=['False', 'True'], autopct='%1.1f%%', startangle=90)\n",
    "axis = plt.axis('equal')"
   ]
  },
  {
   "cell_type": "code",
   "execution_count": 17,
   "id": "35b6a526",
   "metadata": {},
   "outputs": [
    {
     "data": {
      "text/plain": [
       "Index(['Unnamed: 0', 'date', 'content', 'replyCount', 'retweetCount',\n",
       "       'likeCount', 'lang', 'sourceLabel', 'hashtags', 'username',\n",
       "       'user_dispaly_name', 'user_description', 'user_raw_description',\n",
       "       'user_verified', 'user_created', 'user_followers_count',\n",
       "       'user_friends_count', 'user_status_count', 'user_favourites_count',\n",
       "       'user_listed_count', 'user_media_count', 'user_location'],\n",
       "      dtype='object')"
      ]
     },
     "execution_count": 17,
     "metadata": {},
     "output_type": "execute_result"
    }
   ],
   "source": [
    "df.columns"
   ]
  },
  {
   "cell_type": "code",
   "execution_count": null,
   "id": "ece85a44",
   "metadata": {},
   "outputs": [],
   "source": []
  },
  {
   "cell_type": "code",
   "execution_count": 18,
   "id": "28a013a1",
   "metadata": {
    "scrolled": true
   },
   "outputs": [
    {
     "data": {
      "text/html": [
       "<div>\n",
       "<style scoped>\n",
       "    .dataframe tbody tr th:only-of-type {\n",
       "        vertical-align: middle;\n",
       "    }\n",
       "\n",
       "    .dataframe tbody tr th {\n",
       "        vertical-align: top;\n",
       "    }\n",
       "\n",
       "    .dataframe thead th {\n",
       "        text-align: right;\n",
       "    }\n",
       "</style>\n",
       "<table border=\"1\" class=\"dataframe\">\n",
       "  <thead>\n",
       "    <tr style=\"text-align: right;\">\n",
       "      <th></th>\n",
       "      <th>content</th>\n",
       "    </tr>\n",
       "  </thead>\n",
       "  <tbody>\n",
       "    <tr>\n",
       "      <th>0</th>\n",
       "      <td>@KeralaHealth @VeenaGeorge03 what a shame and ...</td>\n",
       "    </tr>\n",
       "    <tr>\n",
       "      <th>1</th>\n",
       "      <td>Meeting constituents on a wide range of issues...</td>\n",
       "    </tr>\n",
       "    <tr>\n",
       "      <th>2</th>\n",
       "      <td>Home Minister Amit Shah reaches AIIMS, New Del...</td>\n",
       "    </tr>\n",
       "    <tr>\n",
       "      <th>3</th>\n",
       "      <td>My point was totally different. You are not ge...</td>\n",
       "    </tr>\n",
       "    <tr>\n",
       "      <th>4</th>\n",
       "      <td>@ArvindKejriwal Btw Some days back Kerala was ...</td>\n",
       "    </tr>\n",
       "  </tbody>\n",
       "</table>\n",
       "</div>"
      ],
      "text/plain": [
       "                                             content\n",
       "0  @KeralaHealth @VeenaGeorge03 what a shame and ...\n",
       "1  Meeting constituents on a wide range of issues...\n",
       "2  Home Minister Amit Shah reaches AIIMS, New Del...\n",
       "3  My point was totally different. You are not ge...\n",
       "4  @ArvindKejriwal Btw Some days back Kerala was ..."
      ]
     },
     "execution_count": 18,
     "metadata": {},
     "output_type": "execute_result"
    }
   ],
   "source": [
    "# make a new dataframe with only content\n",
    "content_df = df.drop(['Unnamed: 0', 'date', 'replyCount', 'retweetCount',\n",
    "                      'likeCount', 'lang', 'sourceLabel', 'hashtags', 'username',\n",
    "                      'user_dispaly_name', 'user_description', 'user_raw_description',\n",
    "                      'user_verified', 'user_created', 'user_followers_count',\n",
    "                      'user_friends_count', 'user_status_count', 'user_favourites_count',\n",
    "                      'user_listed_count', 'user_media_count', 'user_location'], axis=1)\n",
    "content_df.head()"
   ]
  },
  {
   "cell_type": "code",
   "execution_count": 19,
   "id": "c26a6ac8",
   "metadata": {
    "scrolled": true
   },
   "outputs": [
    {
     "name": "stdout",
     "output_type": "stream",
     "text": [
      "<class 'pandas.core.frame.DataFrame'>\n",
      "RangeIndex: 20000 entries, 0 to 19999\n",
      "Data columns (total 1 columns):\n",
      " #   Column   Non-Null Count  Dtype \n",
      "---  ------   --------------  ----- \n",
      " 0   content  20000 non-null  object\n",
      "dtypes: object(1)\n",
      "memory usage: 156.4+ KB\n"
     ]
    }
   ],
   "source": [
    "content_df.info()"
   ]
  },
  {
   "cell_type": "code",
   "execution_count": 20,
   "id": "197be4c7",
   "metadata": {},
   "outputs": [],
   "source": [
    "content_df = content_df.rename(columns={'content':'tokenized_content'})"
   ]
  },
  {
   "cell_type": "code",
   "execution_count": 21,
   "id": "341eb09f",
   "metadata": {},
   "outputs": [
    {
     "data": {
      "text/html": [
       "<div>\n",
       "<style scoped>\n",
       "    .dataframe tbody tr th:only-of-type {\n",
       "        vertical-align: middle;\n",
       "    }\n",
       "\n",
       "    .dataframe tbody tr th {\n",
       "        vertical-align: top;\n",
       "    }\n",
       "\n",
       "    .dataframe thead th {\n",
       "        text-align: right;\n",
       "    }\n",
       "</style>\n",
       "<table border=\"1\" class=\"dataframe\">\n",
       "  <thead>\n",
       "    <tr style=\"text-align: right;\">\n",
       "      <th></th>\n",
       "      <th>tokenized_content</th>\n",
       "    </tr>\n",
       "  </thead>\n",
       "  <tbody>\n",
       "    <tr>\n",
       "      <th>0</th>\n",
       "      <td>@KeralaHealth @VeenaGeorge03 what a shame and ...</td>\n",
       "    </tr>\n",
       "    <tr>\n",
       "      <th>1</th>\n",
       "      <td>Meeting constituents on a wide range of issues...</td>\n",
       "    </tr>\n",
       "    <tr>\n",
       "      <th>2</th>\n",
       "      <td>Home Minister Amit Shah reaches AIIMS, New Del...</td>\n",
       "    </tr>\n",
       "    <tr>\n",
       "      <th>3</th>\n",
       "      <td>My point was totally different. You are not ge...</td>\n",
       "    </tr>\n",
       "    <tr>\n",
       "      <th>4</th>\n",
       "      <td>@ArvindKejriwal Btw Some days back Kerala was ...</td>\n",
       "    </tr>\n",
       "  </tbody>\n",
       "</table>\n",
       "</div>"
      ],
      "text/plain": [
       "                                   tokenized_content\n",
       "0  @KeralaHealth @VeenaGeorge03 what a shame and ...\n",
       "1  Meeting constituents on a wide range of issues...\n",
       "2  Home Minister Amit Shah reaches AIIMS, New Del...\n",
       "3  My point was totally different. You are not ge...\n",
       "4  @ArvindKejriwal Btw Some days back Kerala was ..."
      ]
     },
     "execution_count": 21,
     "metadata": {},
     "output_type": "execute_result"
    }
   ],
   "source": [
    "content_df.head()"
   ]
  },
  {
   "cell_type": "code",
   "execution_count": 22,
   "id": "1cd8c620",
   "metadata": {},
   "outputs": [],
   "source": [
    "def preprocess_content_text(content):\n",
    "    \n",
    "    #convert all text to lowercase\n",
    "    content = content.lower()\n",
    "    \n",
    "    #remove any urls\n",
    "    content = re.sub(r\"http\\S+|www\\S+|https\\s+\", \"\", content, flags=re.MULTILINE)\n",
    "    \n",
    "    #remove punctuations\n",
    "    content = content.translate(str.maketrans(\"\", \"\", string.punctuation))\n",
    "    \n",
    "    #remove # from tweet\n",
    "    content = re.sub(r'\\#', \"\", content)\n",
    "    \n",
    "    #remove stopwords\n",
    "    content_tokens = word_tokenize(content)\n",
    "    filtered_words = [word for word in content_tokens if word not in stop_words]\n",
    "    \n",
    "    #stemming\n",
    "    #ps = PorterStemmer()\n",
    "    #stemmed_words = [ps.stem(w) for w in filtered_words]\n",
    "    \n",
    "    #lemmatizing\n",
    "    #lemmatizer = WordNetLemmatizer()\n",
    "    #lemma_words = [lemmatizer.lemmatize(w, pos='a') for w in stemmed_words]\n",
    "    \n",
    "    return \" \".join(filtered_words)\n",
    "    "
   ]
  },
  {
   "cell_type": "code",
   "execution_count": 23,
   "id": "f98aedfe",
   "metadata": {},
   "outputs": [],
   "source": [
    "content_df.tokenized_content = content_df['tokenized_content'].apply(preprocess_content_text)"
   ]
  },
  {
   "cell_type": "code",
   "execution_count": 24,
   "id": "3d1e33d9",
   "metadata": {},
   "outputs": [
    {
     "data": {
      "text/plain": [
       "0    keralahealth veenageorge03 shame pity massive ...\n",
       "1    meeting constituents wide range issues congrat...\n",
       "2    home minister amit shah reaches aiims new delh...\n",
       "3    point totally different getting rat poison sou...\n",
       "4    arvindkejriwal btw days back kerala adjudged b...\n",
       "Name: tokenized_content, dtype: object"
      ]
     },
     "execution_count": 24,
     "metadata": {},
     "output_type": "execute_result"
    }
   ],
   "source": [
    "content_df.tokenized_content.head()\n",
    "                "
   ]
  },
  {
   "cell_type": "code",
   "execution_count": 25,
   "id": "8b278d46",
   "metadata": {},
   "outputs": [],
   "source": [
    "#content_df = content_df.drop_duplicates('content')"
   ]
  },
  {
   "cell_type": "code",
   "execution_count": 26,
   "id": "2f3c5607",
   "metadata": {
    "scrolled": true
   },
   "outputs": [],
   "source": [
    "#stemming\n",
    "stemmer = PorterStemmer()\n",
    "def stemming(data):\n",
    "    content = [stemmer.stem(word) for word in data]\n",
    "    return data"
   ]
  },
  {
   "cell_type": "code",
   "execution_count": 27,
   "id": "35581d94",
   "metadata": {},
   "outputs": [],
   "source": [
    "content_df['tokenized_content'] = content_df['tokenized_content'].apply(lambda x: stemming(x))"
   ]
  },
  {
   "cell_type": "code",
   "execution_count": 28,
   "id": "81afe407",
   "metadata": {},
   "outputs": [
    {
     "data": {
      "text/plain": [
       "'keralahealth veenageorge03 shame pity massive rabies vaccine palakkad district health centres hospitals people struggling even travelling 50km luckcmokerala pinarayivijayan'"
      ]
     },
     "execution_count": 28,
     "metadata": {},
     "output_type": "execute_result"
    }
   ],
   "source": [
    "# check the data after pre-processing\n",
    "content_df['tokenized_content'][0]"
   ]
  },
  {
   "cell_type": "code",
   "execution_count": 29,
   "id": "f3cd5268",
   "metadata": {},
   "outputs": [
    {
     "name": "stderr",
     "output_type": "stream",
     "text": [
      "[nltk_data] Downloading package vader_lexicon to\n",
      "[nltk_data]     /Users/noeljoseph/nltk_data...\n",
      "[nltk_data]   Package vader_lexicon is already up-to-date!\n"
     ]
    },
    {
     "data": {
      "text/plain": [
       "True"
      ]
     },
     "execution_count": 29,
     "metadata": {},
     "output_type": "execute_result"
    }
   ],
   "source": [
    "# import VADER for sentiment analysis\n",
    "import nltk\n",
    "nltk.download('vader_lexicon')"
   ]
  },
  {
   "cell_type": "code",
   "execution_count": 30,
   "id": "bd53f969",
   "metadata": {},
   "outputs": [],
   "source": [
    "from nltk.sentiment import SentimentIntensityAnalyzer\n",
    "sia = SentimentIntensityAnalyzer()"
   ]
  },
  {
   "cell_type": "code",
   "execution_count": 31,
   "id": "567cf482",
   "metadata": {},
   "outputs": [],
   "source": [
    "def sentiment_vader(content):\n",
    "    over_all_polarity = sia.polarity_scores(content)\n",
    "    if over_all_polarity['compound'] >= 0.05:\n",
    "        return \"positive\"\n",
    "    elif over_all_polarity['compound'] <= -0.05:\n",
    "        return \"negative\"\n",
    "    else:\n",
    "        return \"neutral\""
   ]
  },
  {
   "cell_type": "code",
   "execution_count": 32,
   "id": "fbc9d908",
   "metadata": {},
   "outputs": [],
   "source": [
    "content_df['sentiment_vader'] = content_df['tokenized_content'].apply(lambda x: sentiment_vader(x))"
   ]
  },
  {
   "cell_type": "code",
   "execution_count": 33,
   "id": "ce5e4109",
   "metadata": {
    "scrolled": true
   },
   "outputs": [
    {
     "data": {
      "text/html": [
       "<div>\n",
       "<style scoped>\n",
       "    .dataframe tbody tr th:only-of-type {\n",
       "        vertical-align: middle;\n",
       "    }\n",
       "\n",
       "    .dataframe tbody tr th {\n",
       "        vertical-align: top;\n",
       "    }\n",
       "\n",
       "    .dataframe thead th {\n",
       "        text-align: right;\n",
       "    }\n",
       "</style>\n",
       "<table border=\"1\" class=\"dataframe\">\n",
       "  <thead>\n",
       "    <tr style=\"text-align: right;\">\n",
       "      <th></th>\n",
       "      <th>tokenized_content</th>\n",
       "      <th>sentiment_vader</th>\n",
       "    </tr>\n",
       "  </thead>\n",
       "  <tbody>\n",
       "    <tr>\n",
       "      <th>0</th>\n",
       "      <td>keralahealth veenageorge03 shame pity massive ...</td>\n",
       "      <td>negative</td>\n",
       "    </tr>\n",
       "    <tr>\n",
       "      <th>1</th>\n",
       "      <td>meeting constituents wide range issues congrat...</td>\n",
       "      <td>neutral</td>\n",
       "    </tr>\n",
       "    <tr>\n",
       "      <th>2</th>\n",
       "      <td>home minister amit shah reaches aiims new delh...</td>\n",
       "      <td>negative</td>\n",
       "    </tr>\n",
       "    <tr>\n",
       "      <th>3</th>\n",
       "      <td>point totally different getting rat poison sou...</td>\n",
       "      <td>negative</td>\n",
       "    </tr>\n",
       "    <tr>\n",
       "      <th>4</th>\n",
       "      <td>arvindkejriwal btw days back kerala adjudged b...</td>\n",
       "      <td>positive</td>\n",
       "    </tr>\n",
       "    <tr>\n",
       "      <th>...</th>\n",
       "      <td>...</td>\n",
       "      <td>...</td>\n",
       "    </tr>\n",
       "    <tr>\n",
       "      <th>19995</th>\n",
       "      <td>short hindu temple anywhere india muslim chris...</td>\n",
       "      <td>positive</td>\n",
       "    </tr>\n",
       "    <tr>\n",
       "      <th>19996</th>\n",
       "      <td>kerala health worker ’ fb post siva temple lak...</td>\n",
       "      <td>neutral</td>\n",
       "    </tr>\n",
       "    <tr>\n",
       "      <th>19997</th>\n",
       "      <td>1798 asha workers infected covid kerala far tw...</td>\n",
       "      <td>negative</td>\n",
       "    </tr>\n",
       "    <tr>\n",
       "      <th>19998</th>\n",
       "      <td>kerala health services department ’ dr aarathy...</td>\n",
       "      <td>positive</td>\n",
       "    </tr>\n",
       "    <tr>\n",
       "      <th>19999</th>\n",
       "      <td>anujkum44636294 rishibagree saw example kerala...</td>\n",
       "      <td>neutral</td>\n",
       "    </tr>\n",
       "  </tbody>\n",
       "</table>\n",
       "<p>20000 rows × 2 columns</p>\n",
       "</div>"
      ],
      "text/plain": [
       "                                       tokenized_content sentiment_vader\n",
       "0      keralahealth veenageorge03 shame pity massive ...        negative\n",
       "1      meeting constituents wide range issues congrat...         neutral\n",
       "2      home minister amit shah reaches aiims new delh...        negative\n",
       "3      point totally different getting rat poison sou...        negative\n",
       "4      arvindkejriwal btw days back kerala adjudged b...        positive\n",
       "...                                                  ...             ...\n",
       "19995  short hindu temple anywhere india muslim chris...        positive\n",
       "19996  kerala health worker ’ fb post siva temple lak...         neutral\n",
       "19997  1798 asha workers infected covid kerala far tw...        negative\n",
       "19998  kerala health services department ’ dr aarathy...        positive\n",
       "19999  anujkum44636294 rishibagree saw example kerala...         neutral\n",
       "\n",
       "[20000 rows x 2 columns]"
      ]
     },
     "execution_count": 33,
     "metadata": {},
     "output_type": "execute_result"
    }
   ],
   "source": [
    "#diplay the dataframe with the new column for sentiment\n",
    "content_df"
   ]
  },
  {
   "cell_type": "code",
   "execution_count": 34,
   "id": "5e8b6526",
   "metadata": {
    "scrolled": true
   },
   "outputs": [
    {
     "name": "stdout",
     "output_type": "stream",
     "text": [
      "Percentage positive    0.45135\n",
      "neutral     0.30205\n",
      "negative    0.24660\n",
      "Name: sentiment_vader, dtype: float64\n"
     ]
    },
    {
     "data": {
      "text/plain": [
       "<AxesSubplot:ylabel='sentiment_vader'>"
      ]
     },
     "execution_count": 34,
     "metadata": {},
     "output_type": "execute_result"
    },
    {
     "data": {
      "image/png": "[encoded data removed]",
      "text/plain": [
       "<Figure size 432x288 with 1 Axes>"
      ]
     },
     "metadata": {},
     "output_type": "display_data"
    }
   ],
   "source": [
    "print('Percentage',content_df['sentiment_vader'].value_counts(normalize=True))\n",
    "content_df.sentiment_vader.value_counts(normalize=True).plot(kind='pie', autopct='%1.1f%%', startangle=90 \n",
    "                                                            )"
   ]
  },
  {
   "cell_type": "code",
   "execution_count": 35,
   "id": "f3231601",
   "metadata": {},
   "outputs": [],
   "source": [
    "#### extracting the terms for state\n",
    "def positive_mention_state(content):\n",
    "    terms = re.findall(\"veena|state|sailaja|minister\", content)\n",
    "    \n",
    "    return terms"
   ]
  },
  {
   "cell_type": "code",
   "execution_count": 36,
   "id": "1b8e53c5",
   "metadata": {
    "scrolled": true
   },
   "outputs": [],
   "source": [
    "content_df['sub_national_terms_mentioned'] = content_df['tokenized_content'].apply(lambda x: positive_mention_state(x))"
   ]
  },
  {
   "cell_type": "code",
   "execution_count": 37,
   "id": "d3d339b4",
   "metadata": {},
   "outputs": [
    {
     "data": {
      "text/html": [
       "<div>\n",
       "<style scoped>\n",
       "    .dataframe tbody tr th:only-of-type {\n",
       "        vertical-align: middle;\n",
       "    }\n",
       "\n",
       "    .dataframe tbody tr th {\n",
       "        vertical-align: top;\n",
       "    }\n",
       "\n",
       "    .dataframe thead th {\n",
       "        text-align: right;\n",
       "    }\n",
       "</style>\n",
       "<table border=\"1\" class=\"dataframe\">\n",
       "  <thead>\n",
       "    <tr style=\"text-align: right;\">\n",
       "      <th></th>\n",
       "      <th>tokenized_content</th>\n",
       "      <th>sentiment_vader</th>\n",
       "      <th>sub_national_terms_mentioned</th>\n",
       "    </tr>\n",
       "  </thead>\n",
       "  <tbody>\n",
       "    <tr>\n",
       "      <th>0</th>\n",
       "      <td>keralahealth veenageorge03 shame pity massive ...</td>\n",
       "      <td>negative</td>\n",
       "      <td>[veena]</td>\n",
       "    </tr>\n",
       "    <tr>\n",
       "      <th>1</th>\n",
       "      <td>meeting constituents wide range issues congrat...</td>\n",
       "      <td>neutral</td>\n",
       "      <td>[]</td>\n",
       "    </tr>\n",
       "    <tr>\n",
       "      <th>2</th>\n",
       "      <td>home minister amit shah reaches aiims new delh...</td>\n",
       "      <td>negative</td>\n",
       "      <td>[minister]</td>\n",
       "    </tr>\n",
       "    <tr>\n",
       "      <th>3</th>\n",
       "      <td>point totally different getting rat poison sou...</td>\n",
       "      <td>negative</td>\n",
       "      <td>[]</td>\n",
       "    </tr>\n",
       "    <tr>\n",
       "      <th>4</th>\n",
       "      <td>arvindkejriwal btw days back kerala adjudged b...</td>\n",
       "      <td>positive</td>\n",
       "      <td>[sailaja, minister]</td>\n",
       "    </tr>\n",
       "    <tr>\n",
       "      <th>...</th>\n",
       "      <td>...</td>\n",
       "      <td>...</td>\n",
       "      <td>...</td>\n",
       "    </tr>\n",
       "    <tr>\n",
       "      <th>19995</th>\n",
       "      <td>short hindu temple anywhere india muslim chris...</td>\n",
       "      <td>positive</td>\n",
       "      <td>[]</td>\n",
       "    </tr>\n",
       "    <tr>\n",
       "      <th>19996</th>\n",
       "      <td>kerala health worker ’ fb post siva temple lak...</td>\n",
       "      <td>neutral</td>\n",
       "      <td>[]</td>\n",
       "    </tr>\n",
       "    <tr>\n",
       "      <th>19997</th>\n",
       "      <td>1798 asha workers infected covid kerala far tw...</td>\n",
       "      <td>negative</td>\n",
       "      <td>[veena]</td>\n",
       "    </tr>\n",
       "    <tr>\n",
       "      <th>19998</th>\n",
       "      <td>kerala health services department ’ dr aarathy...</td>\n",
       "      <td>positive</td>\n",
       "      <td>[]</td>\n",
       "    </tr>\n",
       "    <tr>\n",
       "      <th>19999</th>\n",
       "      <td>anujkum44636294 rishibagree saw example kerala...</td>\n",
       "      <td>neutral</td>\n",
       "      <td>[minister]</td>\n",
       "    </tr>\n",
       "  </tbody>\n",
       "</table>\n",
       "<p>20000 rows × 3 columns</p>\n",
       "</div>"
      ],
      "text/plain": [
       "                                       tokenized_content sentiment_vader  \\\n",
       "0      keralahealth veenageorge03 shame pity massive ...        negative   \n",
       "1      meeting constituents wide range issues congrat...         neutral   \n",
       "2      home minister amit shah reaches aiims new delh...        negative   \n",
       "3      point totally different getting rat poison sou...        negative   \n",
       "4      arvindkejriwal btw days back kerala adjudged b...        positive   \n",
       "...                                                  ...             ...   \n",
       "19995  short hindu temple anywhere india muslim chris...        positive   \n",
       "19996  kerala health worker ’ fb post siva temple lak...         neutral   \n",
       "19997  1798 asha workers infected covid kerala far tw...        negative   \n",
       "19998  kerala health services department ’ dr aarathy...        positive   \n",
       "19999  anujkum44636294 rishibagree saw example kerala...         neutral   \n",
       "\n",
       "      sub_national_terms_mentioned  \n",
       "0                          [veena]  \n",
       "1                               []  \n",
       "2                       [minister]  \n",
       "3                               []  \n",
       "4              [sailaja, minister]  \n",
       "...                            ...  \n",
       "19995                           []  \n",
       "19996                           []  \n",
       "19997                      [veena]  \n",
       "19998                           []  \n",
       "19999                   [minister]  \n",
       "\n",
       "[20000 rows x 3 columns]"
      ]
     },
     "execution_count": 37,
     "metadata": {},
     "output_type": "execute_result"
    }
   ],
   "source": [
    "content_df"
   ]
  },
  {
   "cell_type": "code",
   "execution_count": 38,
   "id": "f1292078",
   "metadata": {},
   "outputs": [],
   "source": [
    "#### extracting the terms for centre\n",
    "def positive_mention_state(content):\n",
    "    terms = re.findall(\"modi|centre|BJP|north|other states\", content)\n",
    "    \n",
    "    return terms"
   ]
  },
  {
   "cell_type": "code",
   "execution_count": 39,
   "id": "a74fb74a",
   "metadata": {},
   "outputs": [],
   "source": [
    "content_df['centre_terms_mentioned'] = content_df['tokenized_content'].apply(lambda x: positive_mention_state(x))"
   ]
  },
  {
   "cell_type": "code",
   "execution_count": 40,
   "id": "6552ad2b",
   "metadata": {},
   "outputs": [],
   "source": [
    "#extracting the positive for state\n",
    "\n",
    "def perception(content):\n",
    "    if(content['sentiment_vader'] == 'positive' and len(content['sub_national_terms_mentioned'])!=0):\n",
    "        return 'correct'\n",
    "    elif(content['sentiment_vader'] == 'negative' and len(content['sub_national_terms_mentioned'])!=0):\n",
    "        return 'correct'\n",
    "    elif(content['sentiment_vader'] == 'positive' and len(content['centre_terms_mentioned'])!=0):\n",
    "        return 'incorrect'\n",
    "    elif(content['sentiment_vader'] == 'negative' and len(content['centre_terms_mentioned'])!=0):\n",
    "        return 'incorrect'\n",
    "    \n",
    "    return 'non opinionated'"
   ]
  },
  {
   "cell_type": "code",
   "execution_count": 41,
   "id": "80382036",
   "metadata": {},
   "outputs": [],
   "source": [
    "content_df['perception'] = content_df.apply(perception, axis=1)"
   ]
  },
  {
   "cell_type": "code",
   "execution_count": 42,
   "id": "f65947a6",
   "metadata": {},
   "outputs": [
    {
     "data": {
      "text/html": [
       "<div>\n",
       "<style scoped>\n",
       "    .dataframe tbody tr th:only-of-type {\n",
       "        vertical-align: middle;\n",
       "    }\n",
       "\n",
       "    .dataframe tbody tr th {\n",
       "        vertical-align: top;\n",
       "    }\n",
       "\n",
       "    .dataframe thead th {\n",
       "        text-align: right;\n",
       "    }\n",
       "</style>\n",
       "<table border=\"1\" class=\"dataframe\">\n",
       "  <thead>\n",
       "    <tr style=\"text-align: right;\">\n",
       "      <th></th>\n",
       "      <th>tokenized_content</th>\n",
       "      <th>sentiment_vader</th>\n",
       "      <th>sub_national_terms_mentioned</th>\n",
       "      <th>centre_terms_mentioned</th>\n",
       "      <th>perception</th>\n",
       "    </tr>\n",
       "  </thead>\n",
       "  <tbody>\n",
       "    <tr>\n",
       "      <th>0</th>\n",
       "      <td>keralahealth veenageorge03 shame pity massive ...</td>\n",
       "      <td>negative</td>\n",
       "      <td>[veena]</td>\n",
       "      <td>[centre]</td>\n",
       "      <td>correct</td>\n",
       "    </tr>\n",
       "    <tr>\n",
       "      <th>1</th>\n",
       "      <td>meeting constituents wide range issues congrat...</td>\n",
       "      <td>neutral</td>\n",
       "      <td>[]</td>\n",
       "      <td>[]</td>\n",
       "      <td>non opinionated</td>\n",
       "    </tr>\n",
       "    <tr>\n",
       "      <th>2</th>\n",
       "      <td>home minister amit shah reaches aiims new delh...</td>\n",
       "      <td>negative</td>\n",
       "      <td>[minister]</td>\n",
       "      <td>[]</td>\n",
       "      <td>correct</td>\n",
       "    </tr>\n",
       "    <tr>\n",
       "      <th>3</th>\n",
       "      <td>point totally different getting rat poison sou...</td>\n",
       "      <td>negative</td>\n",
       "      <td>[]</td>\n",
       "      <td>[]</td>\n",
       "      <td>non opinionated</td>\n",
       "    </tr>\n",
       "    <tr>\n",
       "      <th>4</th>\n",
       "      <td>arvindkejriwal btw days back kerala adjudged b...</td>\n",
       "      <td>positive</td>\n",
       "      <td>[sailaja, minister]</td>\n",
       "      <td>[]</td>\n",
       "      <td>correct</td>\n",
       "    </tr>\n",
       "    <tr>\n",
       "      <th>...</th>\n",
       "      <td>...</td>\n",
       "      <td>...</td>\n",
       "      <td>...</td>\n",
       "      <td>...</td>\n",
       "      <td>...</td>\n",
       "    </tr>\n",
       "    <tr>\n",
       "      <th>19995</th>\n",
       "      <td>short hindu temple anywhere india muslim chris...</td>\n",
       "      <td>positive</td>\n",
       "      <td>[]</td>\n",
       "      <td>[]</td>\n",
       "      <td>non opinionated</td>\n",
       "    </tr>\n",
       "    <tr>\n",
       "      <th>19996</th>\n",
       "      <td>kerala health worker ’ fb post siva temple lak...</td>\n",
       "      <td>neutral</td>\n",
       "      <td>[]</td>\n",
       "      <td>[]</td>\n",
       "      <td>non opinionated</td>\n",
       "    </tr>\n",
       "    <tr>\n",
       "      <th>19997</th>\n",
       "      <td>1798 asha workers infected covid kerala far tw...</td>\n",
       "      <td>negative</td>\n",
       "      <td>[veena]</td>\n",
       "      <td>[]</td>\n",
       "      <td>correct</td>\n",
       "    </tr>\n",
       "    <tr>\n",
       "      <th>19998</th>\n",
       "      <td>kerala health services department ’ dr aarathy...</td>\n",
       "      <td>positive</td>\n",
       "      <td>[]</td>\n",
       "      <td>[]</td>\n",
       "      <td>non opinionated</td>\n",
       "    </tr>\n",
       "    <tr>\n",
       "      <th>19999</th>\n",
       "      <td>anujkum44636294 rishibagree saw example kerala...</td>\n",
       "      <td>neutral</td>\n",
       "      <td>[minister]</td>\n",
       "      <td>[]</td>\n",
       "      <td>non opinionated</td>\n",
       "    </tr>\n",
       "  </tbody>\n",
       "</table>\n",
       "<p>20000 rows × 5 columns</p>\n",
       "</div>"
      ],
      "text/plain": [
       "                                       tokenized_content sentiment_vader  \\\n",
       "0      keralahealth veenageorge03 shame pity massive ...        negative   \n",
       "1      meeting constituents wide range issues congrat...         neutral   \n",
       "2      home minister amit shah reaches aiims new delh...        negative   \n",
       "3      point totally different getting rat poison sou...        negative   \n",
       "4      arvindkejriwal btw days back kerala adjudged b...        positive   \n",
       "...                                                  ...             ...   \n",
       "19995  short hindu temple anywhere india muslim chris...        positive   \n",
       "19996  kerala health worker ’ fb post siva temple lak...         neutral   \n",
       "19997  1798 asha workers infected covid kerala far tw...        negative   \n",
       "19998  kerala health services department ’ dr aarathy...        positive   \n",
       "19999  anujkum44636294 rishibagree saw example kerala...         neutral   \n",
       "\n",
       "      sub_national_terms_mentioned centre_terms_mentioned       perception  \n",
       "0                          [veena]               [centre]          correct  \n",
       "1                               []                     []  non opinionated  \n",
       "2                       [minister]                     []          correct  \n",
       "3                               []                     []  non opinionated  \n",
       "4              [sailaja, minister]                     []          correct  \n",
       "...                            ...                    ...              ...  \n",
       "19995                           []                     []  non opinionated  \n",
       "19996                           []                     []  non opinionated  \n",
       "19997                      [veena]                     []          correct  \n",
       "19998                           []                     []  non opinionated  \n",
       "19999                   [minister]                     []  non opinionated  \n",
       "\n",
       "[20000 rows x 5 columns]"
      ]
     },
     "execution_count": 42,
     "metadata": {},
     "output_type": "execute_result"
    }
   ],
   "source": [
    "content_df"
   ]
  },
  {
   "cell_type": "code",
   "execution_count": 43,
   "id": "320ccc83",
   "metadata": {},
   "outputs": [
    {
     "data": {
      "text/html": [
       "<div>\n",
       "<style scoped>\n",
       "    .dataframe tbody tr th:only-of-type {\n",
       "        vertical-align: middle;\n",
       "    }\n",
       "\n",
       "    .dataframe tbody tr th {\n",
       "        vertical-align: top;\n",
       "    }\n",
       "\n",
       "    .dataframe thead th {\n",
       "        text-align: right;\n",
       "    }\n",
       "</style>\n",
       "<table border=\"1\" class=\"dataframe\">\n",
       "  <thead>\n",
       "    <tr style=\"text-align: right;\">\n",
       "      <th></th>\n",
       "      <th>Unnamed: 0</th>\n",
       "      <th>date</th>\n",
       "      <th>content</th>\n",
       "      <th>replyCount</th>\n",
       "      <th>retweetCount</th>\n",
       "      <th>likeCount</th>\n",
       "      <th>lang</th>\n",
       "      <th>sourceLabel</th>\n",
       "      <th>hashtags</th>\n",
       "      <th>username</th>\n",
       "      <th>...</th>\n",
       "      <th>user_raw_description</th>\n",
       "      <th>user_verified</th>\n",
       "      <th>user_created</th>\n",
       "      <th>user_followers_count</th>\n",
       "      <th>user_friends_count</th>\n",
       "      <th>user_status_count</th>\n",
       "      <th>user_favourites_count</th>\n",
       "      <th>user_listed_count</th>\n",
       "      <th>user_media_count</th>\n",
       "      <th>user_location</th>\n",
       "    </tr>\n",
       "  </thead>\n",
       "  <tbody>\n",
       "    <tr>\n",
       "      <th>0</th>\n",
       "      <td>0</td>\n",
       "      <td>2022-08-20 11:14:14+00:00</td>\n",
       "      <td>@KeralaHealth @VeenaGeorge03 what a shame and ...</td>\n",
       "      <td>0</td>\n",
       "      <td>0</td>\n",
       "      <td>0</td>\n",
       "      <td>en</td>\n",
       "      <td>Twitter for Android</td>\n",
       "      <td>NaN</td>\n",
       "      <td>kiranmsj</td>\n",
       "      <td>...</td>\n",
       "      <td>NaN</td>\n",
       "      <td>False</td>\n",
       "      <td>2016-04-15T14:23:02+00:00</td>\n",
       "      <td>158</td>\n",
       "      <td>350</td>\n",
       "      <td>88366</td>\n",
       "      <td>76123</td>\n",
       "      <td>1</td>\n",
       "      <td>595</td>\n",
       "      <td>NaN</td>\n",
       "    </tr>\n",
       "    <tr>\n",
       "      <th>1</th>\n",
       "      <td>1</td>\n",
       "      <td>2022-08-20 11:05:10+00:00</td>\n",
       "      <td>Meeting constituents on a wide range of issues...</td>\n",
       "      <td>9</td>\n",
       "      <td>22</td>\n",
       "      <td>176</td>\n",
       "      <td>en</td>\n",
       "      <td>Twitter for iPhone</td>\n",
       "      <td>NaN</td>\n",
       "      <td>ShashiTharoor</td>\n",
       "      <td>...</td>\n",
       "      <td>INC. MP for Thiruvananthapuram. Author of 23 b...</td>\n",
       "      <td>True</td>\n",
       "      <td>2009-03-16T15:12:51+00:00</td>\n",
       "      <td>8372495</td>\n",
       "      <td>1110</td>\n",
       "      <td>67294</td>\n",
       "      <td>22922</td>\n",
       "      <td>13072</td>\n",
       "      <td>11460</td>\n",
       "      <td>New Delhi &amp; Thiruvananthapuram</td>\n",
       "    </tr>\n",
       "    <tr>\n",
       "      <th>2</th>\n",
       "      <td>2</td>\n",
       "      <td>2022-08-20 09:43:51+00:00</td>\n",
       "      <td>Home Minister Amit Shah reaches AIIMS, New Del...</td>\n",
       "      <td>0</td>\n",
       "      <td>0</td>\n",
       "      <td>0</td>\n",
       "      <td>en</td>\n",
       "      <td>Twitter for Android</td>\n",
       "      <td>['ITBP']</td>\n",
       "      <td>AdvSrreenath</td>\n",
       "      <td>...</td>\n",
       "      <td>ADVOCATE at District Court Kollam, Kerala .\\n𝐊...</td>\n",
       "      <td>False</td>\n",
       "      <td>2022-08-07T12:24:10+00:00</td>\n",
       "      <td>1</td>\n",
       "      <td>119</td>\n",
       "      <td>3</td>\n",
       "      <td>0</td>\n",
       "      <td>0</td>\n",
       "      <td>3</td>\n",
       "      <td>NaN</td>\n",
       "    </tr>\n",
       "    <tr>\n",
       "      <th>3</th>\n",
       "      <td>3</td>\n",
       "      <td>2022-08-20 09:01:18+00:00</td>\n",
       "      <td>My point was totally different. You are not ge...</td>\n",
       "      <td>1</td>\n",
       "      <td>1</td>\n",
       "      <td>1</td>\n",
       "      <td>en</td>\n",
       "      <td>Twitter for Android</td>\n",
       "      <td>NaN</td>\n",
       "      <td>kbalakumar</td>\n",
       "      <td>...</td>\n",
       "      <td>Ex-Editor News Today. Humour Writer. Now freel...</td>\n",
       "      <td>True</td>\n",
       "      <td>2009-02-18T04:31:13+00:00</td>\n",
       "      <td>11204</td>\n",
       "      <td>646</td>\n",
       "      <td>89397</td>\n",
       "      <td>18222</td>\n",
       "      <td>287</td>\n",
       "      <td>1840</td>\n",
       "      <td>Chennai</td>\n",
       "    </tr>\n",
       "    <tr>\n",
       "      <th>4</th>\n",
       "      <td>4</td>\n",
       "      <td>2022-08-20 08:34:25+00:00</td>\n",
       "      <td>@ArvindKejriwal Btw Some days back Kerala was ...</td>\n",
       "      <td>0</td>\n",
       "      <td>0</td>\n",
       "      <td>1</td>\n",
       "      <td>en</td>\n",
       "      <td>Twitter for Android</td>\n",
       "      <td>NaN</td>\n",
       "      <td>padmakumarnair</td>\n",
       "      <td>...</td>\n",
       "      <td>धर्मो रक्षति रक्षितः 🚩\\nseen my world |\\nFour ...</td>\n",
       "      <td>False</td>\n",
       "      <td>2009-08-23T04:47:26+00:00</td>\n",
       "      <td>1781</td>\n",
       "      <td>1802</td>\n",
       "      <td>21711</td>\n",
       "      <td>101017</td>\n",
       "      <td>2</td>\n",
       "      <td>906</td>\n",
       "      <td>Kramsk, Polska</td>\n",
       "    </tr>\n",
       "  </tbody>\n",
       "</table>\n",
       "<p>5 rows × 22 columns</p>\n",
       "</div>"
      ],
      "text/plain": [
       "   Unnamed: 0                       date  \\\n",
       "0           0  2022-08-20 11:14:14+00:00   \n",
       "1           1  2022-08-20 11:05:10+00:00   \n",
       "2           2  2022-08-20 09:43:51+00:00   \n",
       "3           3  2022-08-20 09:01:18+00:00   \n",
       "4           4  2022-08-20 08:34:25+00:00   \n",
       "\n",
       "                                             content  replyCount  \\\n",
       "0  @KeralaHealth @VeenaGeorge03 what a shame and ...           0   \n",
       "1  Meeting constituents on a wide range of issues...           9   \n",
       "2  Home Minister Amit Shah reaches AIIMS, New Del...           0   \n",
       "3  My point was totally different. You are not ge...           1   \n",
       "4  @ArvindKejriwal Btw Some days back Kerala was ...           0   \n",
       "\n",
       "   retweetCount  likeCount lang          sourceLabel  hashtags  \\\n",
       "0             0          0   en  Twitter for Android       NaN   \n",
       "1            22        176   en   Twitter for iPhone       NaN   \n",
       "2             0          0   en  Twitter for Android  ['ITBP']   \n",
       "3             1          1   en  Twitter for Android       NaN   \n",
       "4             0          1   en  Twitter for Android       NaN   \n",
       "\n",
       "         username  ...                               user_raw_description  \\\n",
       "0        kiranmsj  ...                                                NaN   \n",
       "1   ShashiTharoor  ...  INC. MP for Thiruvananthapuram. Author of 23 b...   \n",
       "2    AdvSrreenath  ...  ADVOCATE at District Court Kollam, Kerala .\\n𝐊...   \n",
       "3      kbalakumar  ...  Ex-Editor News Today. Humour Writer. Now freel...   \n",
       "4  padmakumarnair  ...  धर्मो रक्षति रक्षितः 🚩\\nseen my world |\\nFour ...   \n",
       "\n",
       "  user_verified               user_created  user_followers_count  \\\n",
       "0         False  2016-04-15T14:23:02+00:00                   158   \n",
       "1          True  2009-03-16T15:12:51+00:00               8372495   \n",
       "2         False  2022-08-07T12:24:10+00:00                     1   \n",
       "3          True  2009-02-18T04:31:13+00:00                 11204   \n",
       "4         False  2009-08-23T04:47:26+00:00                  1781   \n",
       "\n",
       "  user_friends_count  user_status_count  user_favourites_count  \\\n",
       "0                350              88366                  76123   \n",
       "1               1110              67294                  22922   \n",
       "2                119                  3                      0   \n",
       "3                646              89397                  18222   \n",
       "4               1802              21711                 101017   \n",
       "\n",
       "   user_listed_count  user_media_count                   user_location  \n",
       "0                  1               595                             NaN  \n",
       "1              13072             11460  New Delhi & Thiruvananthapuram  \n",
       "2                  0                 3                             NaN  \n",
       "3                287              1840                         Chennai  \n",
       "4                  2               906                  Kramsk, Polska  \n",
       "\n",
       "[5 rows x 22 columns]"
      ]
     },
     "execution_count": 43,
     "metadata": {},
     "output_type": "execute_result"
    }
   ],
   "source": [
    "df.head()"
   ]
  },
  {
   "cell_type": "code",
   "execution_count": null,
   "id": "b83daf57",
   "metadata": {},
   "outputs": [],
   "source": []
  },
  {
   "cell_type": "code",
   "execution_count": null,
   "id": "c80f0133",
   "metadata": {},
   "outputs": [],
   "source": []
  },
  {
   "cell_type": "code",
   "execution_count": 44,
   "id": "3bb8cf6b",
   "metadata": {},
   "outputs": [],
   "source": [
    "content_perception_df = pd.concat([content_df, df], axis=1)"
   ]
  },
  {
   "cell_type": "code",
   "execution_count": 45,
   "id": "89acb675",
   "metadata": {
    "scrolled": true
   },
   "outputs": [
    {
     "data": {
      "text/html": [
       "<div>\n",
       "<style scoped>\n",
       "    .dataframe tbody tr th:only-of-type {\n",
       "        vertical-align: middle;\n",
       "    }\n",
       "\n",
       "    .dataframe tbody tr th {\n",
       "        vertical-align: top;\n",
       "    }\n",
       "\n",
       "    .dataframe thead th {\n",
       "        text-align: right;\n",
       "    }\n",
       "</style>\n",
       "<table border=\"1\" class=\"dataframe\">\n",
       "  <thead>\n",
       "    <tr style=\"text-align: right;\">\n",
       "      <th></th>\n",
       "      <th>tokenized_content</th>\n",
       "      <th>sentiment_vader</th>\n",
       "      <th>sub_national_terms_mentioned</th>\n",
       "      <th>centre_terms_mentioned</th>\n",
       "      <th>perception</th>\n",
       "      <th>Unnamed: 0</th>\n",
       "      <th>date</th>\n",
       "      <th>content</th>\n",
       "      <th>replyCount</th>\n",
       "      <th>retweetCount</th>\n",
       "      <th>...</th>\n",
       "      <th>user_raw_description</th>\n",
       "      <th>user_verified</th>\n",
       "      <th>user_created</th>\n",
       "      <th>user_followers_count</th>\n",
       "      <th>user_friends_count</th>\n",
       "      <th>user_status_count</th>\n",
       "      <th>user_favourites_count</th>\n",
       "      <th>user_listed_count</th>\n",
       "      <th>user_media_count</th>\n",
       "      <th>user_location</th>\n",
       "    </tr>\n",
       "  </thead>\n",
       "  <tbody>\n",
       "    <tr>\n",
       "      <th>0</th>\n",
       "      <td>keralahealth veenageorge03 shame pity massive ...</td>\n",
       "      <td>negative</td>\n",
       "      <td>[veena]</td>\n",
       "      <td>[centre]</td>\n",
       "      <td>correct</td>\n",
       "      <td>0</td>\n",
       "      <td>2022-08-20 11:14:14+00:00</td>\n",
       "      <td>@KeralaHealth @VeenaGeorge03 what a shame and ...</td>\n",
       "      <td>0</td>\n",
       "      <td>0</td>\n",
       "      <td>...</td>\n",
       "      <td>NaN</td>\n",
       "      <td>False</td>\n",
       "      <td>2016-04-15T14:23:02+00:00</td>\n",
       "      <td>158</td>\n",
       "      <td>350</td>\n",
       "      <td>88366</td>\n",
       "      <td>76123</td>\n",
       "      <td>1</td>\n",
       "      <td>595</td>\n",
       "      <td>NaN</td>\n",
       "    </tr>\n",
       "    <tr>\n",
       "      <th>1</th>\n",
       "      <td>meeting constituents wide range issues congrat...</td>\n",
       "      <td>neutral</td>\n",
       "      <td>[]</td>\n",
       "      <td>[]</td>\n",
       "      <td>non opinionated</td>\n",
       "      <td>1</td>\n",
       "      <td>2022-08-20 11:05:10+00:00</td>\n",
       "      <td>Meeting constituents on a wide range of issues...</td>\n",
       "      <td>9</td>\n",
       "      <td>22</td>\n",
       "      <td>...</td>\n",
       "      <td>INC. MP for Thiruvananthapuram. Author of 23 b...</td>\n",
       "      <td>True</td>\n",
       "      <td>2009-03-16T15:12:51+00:00</td>\n",
       "      <td>8372495</td>\n",
       "      <td>1110</td>\n",
       "      <td>67294</td>\n",
       "      <td>22922</td>\n",
       "      <td>13072</td>\n",
       "      <td>11460</td>\n",
       "      <td>New Delhi &amp; Thiruvananthapuram</td>\n",
       "    </tr>\n",
       "    <tr>\n",
       "      <th>2</th>\n",
       "      <td>home minister amit shah reaches aiims new delh...</td>\n",
       "      <td>negative</td>\n",
       "      <td>[minister]</td>\n",
       "      <td>[]</td>\n",
       "      <td>correct</td>\n",
       "      <td>2</td>\n",
       "      <td>2022-08-20 09:43:51+00:00</td>\n",
       "      <td>Home Minister Amit Shah reaches AIIMS, New Del...</td>\n",
       "      <td>0</td>\n",
       "      <td>0</td>\n",
       "      <td>...</td>\n",
       "      <td>ADVOCATE at District Court Kollam, Kerala .\\n𝐊...</td>\n",
       "      <td>False</td>\n",
       "      <td>2022-08-07T12:24:10+00:00</td>\n",
       "      <td>1</td>\n",
       "      <td>119</td>\n",
       "      <td>3</td>\n",
       "      <td>0</td>\n",
       "      <td>0</td>\n",
       "      <td>3</td>\n",
       "      <td>NaN</td>\n",
       "    </tr>\n",
       "    <tr>\n",
       "      <th>3</th>\n",
       "      <td>point totally different getting rat poison sou...</td>\n",
       "      <td>negative</td>\n",
       "      <td>[]</td>\n",
       "      <td>[]</td>\n",
       "      <td>non opinionated</td>\n",
       "      <td>3</td>\n",
       "      <td>2022-08-20 09:01:18+00:00</td>\n",
       "      <td>My point was totally different. You are not ge...</td>\n",
       "      <td>1</td>\n",
       "      <td>1</td>\n",
       "      <td>...</td>\n",
       "      <td>Ex-Editor News Today. Humour Writer. Now freel...</td>\n",
       "      <td>True</td>\n",
       "      <td>2009-02-18T04:31:13+00:00</td>\n",
       "      <td>11204</td>\n",
       "      <td>646</td>\n",
       "      <td>89397</td>\n",
       "      <td>18222</td>\n",
       "      <td>287</td>\n",
       "      <td>1840</td>\n",
       "      <td>Chennai</td>\n",
       "    </tr>\n",
       "    <tr>\n",
       "      <th>4</th>\n",
       "      <td>arvindkejriwal btw days back kerala adjudged b...</td>\n",
       "      <td>positive</td>\n",
       "      <td>[sailaja, minister]</td>\n",
       "      <td>[]</td>\n",
       "      <td>correct</td>\n",
       "      <td>4</td>\n",
       "      <td>2022-08-20 08:34:25+00:00</td>\n",
       "      <td>@ArvindKejriwal Btw Some days back Kerala was ...</td>\n",
       "      <td>0</td>\n",
       "      <td>0</td>\n",
       "      <td>...</td>\n",
       "      <td>धर्मो रक्षति रक्षितः 🚩\\nseen my world |\\nFour ...</td>\n",
       "      <td>False</td>\n",
       "      <td>2009-08-23T04:47:26+00:00</td>\n",
       "      <td>1781</td>\n",
       "      <td>1802</td>\n",
       "      <td>21711</td>\n",
       "      <td>101017</td>\n",
       "      <td>2</td>\n",
       "      <td>906</td>\n",
       "      <td>Kramsk, Polska</td>\n",
       "    </tr>\n",
       "  </tbody>\n",
       "</table>\n",
       "<p>5 rows × 27 columns</p>\n",
       "</div>"
      ],
      "text/plain": [
       "                                   tokenized_content sentiment_vader  \\\n",
       "0  keralahealth veenageorge03 shame pity massive ...        negative   \n",
       "1  meeting constituents wide range issues congrat...         neutral   \n",
       "2  home minister amit shah reaches aiims new delh...        negative   \n",
       "3  point totally different getting rat poison sou...        negative   \n",
       "4  arvindkejriwal btw days back kerala adjudged b...        positive   \n",
       "\n",
       "  sub_national_terms_mentioned centre_terms_mentioned       perception  \\\n",
       "0                      [veena]               [centre]          correct   \n",
       "1                           []                     []  non opinionated   \n",
       "2                   [minister]                     []          correct   \n",
       "3                           []                     []  non opinionated   \n",
       "4          [sailaja, minister]                     []          correct   \n",
       "\n",
       "   Unnamed: 0                       date  \\\n",
       "0           0  2022-08-20 11:14:14+00:00   \n",
       "1           1  2022-08-20 11:05:10+00:00   \n",
       "2           2  2022-08-20 09:43:51+00:00   \n",
       "3           3  2022-08-20 09:01:18+00:00   \n",
       "4           4  2022-08-20 08:34:25+00:00   \n",
       "\n",
       "                                             content  replyCount  \\\n",
       "0  @KeralaHealth @VeenaGeorge03 what a shame and ...           0   \n",
       "1  Meeting constituents on a wide range of issues...           9   \n",
       "2  Home Minister Amit Shah reaches AIIMS, New Del...           0   \n",
       "3  My point was totally different. You are not ge...           1   \n",
       "4  @ArvindKejriwal Btw Some days back Kerala was ...           0   \n",
       "\n",
       "   retweetCount  ...                               user_raw_description  \\\n",
       "0             0  ...                                                NaN   \n",
       "1            22  ...  INC. MP for Thiruvananthapuram. Author of 23 b...   \n",
       "2             0  ...  ADVOCATE at District Court Kollam, Kerala .\\n𝐊...   \n",
       "3             1  ...  Ex-Editor News Today. Humour Writer. Now freel...   \n",
       "4             0  ...  धर्मो रक्षति रक्षितः 🚩\\nseen my world |\\nFour ...   \n",
       "\n",
       "  user_verified               user_created user_followers_count  \\\n",
       "0         False  2016-04-15T14:23:02+00:00                  158   \n",
       "1          True  2009-03-16T15:12:51+00:00              8372495   \n",
       "2         False  2022-08-07T12:24:10+00:00                    1   \n",
       "3          True  2009-02-18T04:31:13+00:00                11204   \n",
       "4         False  2009-08-23T04:47:26+00:00                 1781   \n",
       "\n",
       "  user_friends_count user_status_count user_favourites_count  \\\n",
       "0                350             88366                 76123   \n",
       "1               1110             67294                 22922   \n",
       "2                119                 3                     0   \n",
       "3                646             89397                 18222   \n",
       "4               1802             21711                101017   \n",
       "\n",
       "  user_listed_count  user_media_count                   user_location  \n",
       "0                 1               595                             NaN  \n",
       "1             13072             11460  New Delhi & Thiruvananthapuram  \n",
       "2                 0                 3                             NaN  \n",
       "3               287              1840                         Chennai  \n",
       "4                 2               906                  Kramsk, Polska  \n",
       "\n",
       "[5 rows x 27 columns]"
      ]
     },
     "execution_count": 45,
     "metadata": {},
     "output_type": "execute_result"
    }
   ],
   "source": [
    "content_perception_df.head()"
   ]
  },
  {
   "cell_type": "code",
   "execution_count": 46,
   "id": "16197da1",
   "metadata": {},
   "outputs": [
    {
     "name": "stdout",
     "output_type": "stream",
     "text": [
      "Percentage non opinionated    0.6309\n",
      "correct            0.3449\n",
      "incorrect          0.0242\n",
      "Name: perception, dtype: float64\n"
     ]
    },
    {
     "data": {
      "text/plain": [
       "<AxesSubplot:ylabel='perception'>"
      ]
     },
     "execution_count": 46,
     "metadata": {},
     "output_type": "execute_result"
    },
    {
     "data": {
      "image/png": "[encoded data removed]",
      "text/plain": [
       "<Figure size 432x288 with 1 Axes>"
      ]
     },
     "metadata": {},
     "output_type": "display_data"
    }
   ],
   "source": [
    "print('Percentage',content_perception_df.perception.value_counts(normalize=True))\n",
    "content_perception_df.perception.value_counts(normalize=True).plot(kind='pie', autopct='%1.1f%%', startangle=90)"
   ]
  },
  {
   "cell_type": "code",
   "execution_count": 47,
   "id": "444c6f7a",
   "metadata": {
    "scrolled": true
   },
   "outputs": [],
   "source": [
    "#def perception(voter):\n",
    "    #if voter == \"1\":\n",
    "        #return \"correct\"\n",
    "    #elif voter == \"\":\n",
    "        #return \"non-partisan\"\n",
    "    #elif voter == \"0\":\n",
    "        #return \"incorrect\""
   ]
  },
  {
   "cell_type": "code",
   "execution_count": 48,
   "id": "0fcc0c37",
   "metadata": {},
   "outputs": [],
   "source": [
    "#content_perception_df['voter'] = content_perception_df['voter_perception'].apply(perception)"
   ]
  },
  {
   "cell_type": "code",
   "execution_count": 49,
   "id": "a4eecfb0",
   "metadata": {},
   "outputs": [],
   "source": [
    "#content_perception_df"
   ]
  },
  {
   "cell_type": "code",
   "execution_count": 50,
   "id": "dcc4753f",
   "metadata": {},
   "outputs": [],
   "source": [
    "#fig = plt.figure(figsize=(5,5))\n",
    "#sns.countplot(x='voter', data = content_perception_df)"
   ]
  },
  {
   "cell_type": "markdown",
   "id": "5a8adada",
   "metadata": {},
   "source": [
    "#### fig = plt.figure(figsize=(7,7))\n",
    "colors = (\"yellowgreen\", \"gold\", \"red\")\n",
    "wp = {'linewidth':2, 'edgecolor': \"black\"}\n",
    "tags = content_perception_df['voter'].value_counts()\n",
    "explode = (0.1,0.1,0.1)\n",
    "tags.plot(kind='pie', autopct='%1.1f%%', shadow=True, colors = colors, startangle=90, wedgeprops = wp,\n",
    "         explode = explode, label=\"\")\n",
    "plt.title(\"attribution of responsibility by voters\")"
   ]
  },
  {
   "cell_type": "code",
   "execution_count": null,
   "id": "5bc9ee0c",
   "metadata": {},
   "outputs": [],
   "source": []
  },
  {
   "cell_type": "code",
   "execution_count": null,
   "id": "7f7f8aa6",
   "metadata": {},
   "outputs": [],
   "source": []
  },
  {
   "cell_type": "code",
   "execution_count": 51,
   "id": "972c8c80",
   "metadata": {},
   "outputs": [],
   "source": [
    "from sklearn.feature_extraction.text import CountVectorizer\n",
    "from sklearn.model_selection import train_test_split"
   ]
  },
  {
   "cell_type": "code",
   "execution_count": 52,
   "id": "27ed09d8",
   "metadata": {},
   "outputs": [],
   "source": [
    "vect = CountVectorizer(ngram_range=(1,2)).fit(content_perception_df['tokenized_content'])"
   ]
  },
  {
   "cell_type": "code",
   "execution_count": 53,
   "id": "7dbb5562",
   "metadata": {},
   "outputs": [
    {
     "name": "stdout",
     "output_type": "stream",
     "text": [
      "Number of features: 217657\n",
      "\n",
      "First 20 features:\n",
      " ['0001', '0001 kerala', '000220', '00071', '00071 baseline', '001', '001 health', '00102021', '00102021 formats', '002', '002 vs', '004', '004 eth', '005', '005 per', '007', '007 shameerkb98', '007khan143', '007khan143 naseervoice', '008']\n"
     ]
    }
   ],
   "source": [
    "feature_names = vect.get_feature_names()\n",
    "print(\"Number of features: {}\\n\".format(len(feature_names)))\n",
    "print(\"First 20 features:\\n {}\".format(feature_names[:20]))"
   ]
  },
  {
   "cell_type": "code",
   "execution_count": 54,
   "id": "8dc13585",
   "metadata": {},
   "outputs": [],
   "source": [
    "x = content_perception_df['tokenized_content']\n",
    "y = content_perception_df['perception']\n",
    "x = vect.transform(x)"
   ]
  },
  {
   "cell_type": "code",
   "execution_count": 55,
   "id": "a25066af",
   "metadata": {},
   "outputs": [
    {
     "data": {
      "text/plain": [
       "(20000, 217657)"
      ]
     },
     "execution_count": 55,
     "metadata": {},
     "output_type": "execute_result"
    }
   ],
   "source": [
    "x.shape"
   ]
  },
  {
   "cell_type": "code",
   "execution_count": 56,
   "id": "107e2625",
   "metadata": {},
   "outputs": [],
   "source": [
    "x_train, x_test, y_train, y_test = train_test_split(x,y, test_size=0.2, random_state=42)"
   ]
  },
  {
   "cell_type": "code",
   "execution_count": 57,
   "id": "1810b504",
   "metadata": {},
   "outputs": [
    {
     "name": "stdout",
     "output_type": "stream",
     "text": [
      "Size of x_train: (16000, 217657)\n",
      "Size of y_train: (16000,)\n",
      "Size of x_test: (4000, 217657)\n",
      "Size of y_test: (4000,)\n"
     ]
    }
   ],
   "source": [
    "print(\"Size of x_train:\", (x_train.shape))\n",
    "print(\"Size of y_train:\", (y_train.shape))\n",
    "print(\"Size of x_test:\", (x_test.shape))\n",
    "print(\"Size of y_test:\", (y_test.shape))"
   ]
  },
  {
   "cell_type": "code",
   "execution_count": 58,
   "id": "092eb53f",
   "metadata": {},
   "outputs": [],
   "source": [
    "from sklearn.linear_model import LogisticRegression\n",
    "from sklearn.metrics import accuracy_score, classification_report, confusion_matrix, ConfusionMatrixDisplay"
   ]
  },
  {
   "cell_type": "code",
   "execution_count": 59,
   "id": "452f87b1",
   "metadata": {},
   "outputs": [
    {
     "name": "stdout",
     "output_type": "stream",
     "text": [
      "Test Accuracy: 89.55%\n"
     ]
    },
    {
     "name": "stderr",
     "output_type": "stream",
     "text": [
      "/Users/noeljoseph/opt/anaconda3/lib/python3.8/site-packages/sklearn/linear_model/_logistic.py:763: ConvergenceWarning: lbfgs failed to converge (status=1):\n",
      "STOP: TOTAL NO. of ITERATIONS REACHED LIMIT.\n",
      "\n",
      "Increase the number of iterations (max_iter) or scale the data as shown in:\n",
      "    https://scikit-learn.org/stable/modules/preprocessing.html\n",
      "Please also refer to the documentation for alternative solver options:\n",
      "    https://scikit-learn.org/stable/modules/linear_model.html#logistic-regression\n",
      "  n_iter_i = _check_optimize_result(\n"
     ]
    }
   ],
   "source": [
    "logreg = LogisticRegression()\n",
    "logreg.fit(x_train, y_train)\n",
    "logreg_pred = logreg.predict(x_test)\n",
    "logreg_acc = accuracy_score(logreg_pred, y_test)\n",
    "print(\"Test Accuracy: {:.2f}%\".format(logreg_acc*100))"
   ]
  },
  {
   "cell_type": "code",
   "execution_count": 60,
   "id": "d7d84570",
   "metadata": {},
   "outputs": [
    {
     "name": "stdout",
     "output_type": "stream",
     "text": [
      "[[1112    1  241]\n",
      " [   2   40   55]\n",
      " [ 118    1 2430]]\n",
      "\n",
      "\n",
      "                 precision    recall  f1-score   support\n",
      "\n",
      "        correct       0.90      0.82      0.86      1354\n",
      "      incorrect       0.95      0.41      0.58        97\n",
      "non opinionated       0.89      0.95      0.92      2549\n",
      "\n",
      "       accuracy                           0.90      4000\n",
      "      macro avg       0.92      0.73      0.79      4000\n",
      "   weighted avg       0.90      0.90      0.89      4000\n",
      "\n"
     ]
    }
   ],
   "source": [
    "print(confusion_matrix(y_test, logreg_pred))\n",
    "print(\"\\n\")\n",
    "print(classification_report(y_test, logreg_pred))"
   ]
  },
  {
   "cell_type": "code",
   "execution_count": 61,
   "id": "c9952ade",
   "metadata": {},
   "outputs": [
    {
     "data": {
      "text/plain": [
       "<sklearn.metrics._plot.confusion_matrix.ConfusionMatrixDisplay at 0x7fa8a3a5cb50>"
      ]
     },
     "execution_count": 61,
     "metadata": {},
     "output_type": "execute_result"
    },
    {
     "data": {
      "image/png": "[encoded data removed]",
      "text/plain": [
       "<Figure size 640x480 with 2 Axes>"
      ]
     },
     "metadata": {},
     "output_type": "display_data"
    }
   ],
   "source": [
    "style.use('classic')\n",
    "cm = confusion_matrix(y_test, logreg_pred, labels=logreg.classes_)\n",
    "disp = ConfusionMatrixDisplay(confusion_matrix = cm, display_labels=logreg.classes_)\n",
    "disp.plot()"
   ]
  },
  {
   "cell_type": "code",
   "execution_count": 62,
   "id": "ae267873",
   "metadata": {},
   "outputs": [],
   "source": [
    "from sklearn.model_selection import GridSearchCV"
   ]
  },
  {
   "cell_type": "code",
   "execution_count": 63,
   "id": "d0e4ef9f",
   "metadata": {},
   "outputs": [
    {
     "name": "stderr",
     "output_type": "stream",
     "text": [
      "/Users/noeljoseph/opt/anaconda3/lib/python3.8/site-packages/sklearn/linear_model/_logistic.py:763: ConvergenceWarning: lbfgs failed to converge (status=1):\n",
      "STOP: TOTAL NO. of ITERATIONS REACHED LIMIT.\n",
      "\n",
      "Increase the number of iterations (max_iter) or scale the data as shown in:\n",
      "    https://scikit-learn.org/stable/modules/preprocessing.html\n",
      "Please also refer to the documentation for alternative solver options:\n",
      "    https://scikit-learn.org/stable/modules/linear_model.html#logistic-regression\n",
      "  n_iter_i = _check_optimize_result(\n",
      "/Users/noeljoseph/opt/anaconda3/lib/python3.8/site-packages/sklearn/linear_model/_logistic.py:763: ConvergenceWarning: lbfgs failed to converge (status=1):\n",
      "STOP: TOTAL NO. of ITERATIONS REACHED LIMIT.\n",
      "\n",
      "Increase the number of iterations (max_iter) or scale the data as shown in:\n",
      "    https://scikit-learn.org/stable/modules/preprocessing.html\n",
      "Please also refer to the documentation for alternative solver options:\n",
      "    https://scikit-learn.org/stable/modules/linear_model.html#logistic-regression\n",
      "  n_iter_i = _check_optimize_result(\n",
      "/Users/noeljoseph/opt/anaconda3/lib/python3.8/site-packages/sklearn/linear_model/_logistic.py:763: ConvergenceWarning: lbfgs failed to converge (status=1):\n",
      "STOP: TOTAL NO. of ITERATIONS REACHED LIMIT.\n",
      "\n",
      "Increase the number of iterations (max_iter) or scale the data as shown in:\n",
      "    https://scikit-learn.org/stable/modules/preprocessing.html\n",
      "Please also refer to the documentation for alternative solver options:\n",
      "    https://scikit-learn.org/stable/modules/linear_model.html#logistic-regression\n",
      "  n_iter_i = _check_optimize_result(\n",
      "/Users/noeljoseph/opt/anaconda3/lib/python3.8/site-packages/sklearn/linear_model/_logistic.py:763: ConvergenceWarning: lbfgs failed to converge (status=1):\n",
      "STOP: TOTAL NO. of ITERATIONS REACHED LIMIT.\n",
      "\n",
      "Increase the number of iterations (max_iter) or scale the data as shown in:\n",
      "    https://scikit-learn.org/stable/modules/preprocessing.html\n",
      "Please also refer to the documentation for alternative solver options:\n",
      "    https://scikit-learn.org/stable/modules/linear_model.html#logistic-regression\n",
      "  n_iter_i = _check_optimize_result(\n",
      "/Users/noeljoseph/opt/anaconda3/lib/python3.8/site-packages/sklearn/linear_model/_logistic.py:763: ConvergenceWarning: lbfgs failed to converge (status=1):\n",
      "STOP: TOTAL NO. of ITERATIONS REACHED LIMIT.\n",
      "\n",
      "Increase the number of iterations (max_iter) or scale the data as shown in:\n",
      "    https://scikit-learn.org/stable/modules/preprocessing.html\n",
      "Please also refer to the documentation for alternative solver options:\n",
      "    https://scikit-learn.org/stable/modules/linear_model.html#logistic-regression\n",
      "  n_iter_i = _check_optimize_result(\n",
      "/Users/noeljoseph/opt/anaconda3/lib/python3.8/site-packages/sklearn/linear_model/_logistic.py:763: ConvergenceWarning: lbfgs failed to converge (status=1):\n",
      "STOP: TOTAL NO. of ITERATIONS REACHED LIMIT.\n",
      "\n",
      "Increase the number of iterations (max_iter) or scale the data as shown in:\n",
      "    https://scikit-learn.org/stable/modules/preprocessing.html\n",
      "Please also refer to the documentation for alternative solver options:\n",
      "    https://scikit-learn.org/stable/modules/linear_model.html#logistic-regression\n",
      "  n_iter_i = _check_optimize_result(\n",
      "/Users/noeljoseph/opt/anaconda3/lib/python3.8/site-packages/sklearn/linear_model/_logistic.py:763: ConvergenceWarning: lbfgs failed to converge (status=1):\n",
      "STOP: TOTAL NO. of ITERATIONS REACHED LIMIT.\n",
      "\n",
      "Increase the number of iterations (max_iter) or scale the data as shown in:\n",
      "    https://scikit-learn.org/stable/modules/preprocessing.html\n",
      "Please also refer to the documentation for alternative solver options:\n",
      "    https://scikit-learn.org/stable/modules/linear_model.html#logistic-regression\n",
      "  n_iter_i = _check_optimize_result(\n",
      "/Users/noeljoseph/opt/anaconda3/lib/python3.8/site-packages/sklearn/linear_model/_logistic.py:763: ConvergenceWarning: lbfgs failed to converge (status=1):\n",
      "STOP: TOTAL NO. of ITERATIONS REACHED LIMIT.\n",
      "\n",
      "Increase the number of iterations (max_iter) or scale the data as shown in:\n",
      "    https://scikit-learn.org/stable/modules/preprocessing.html\n",
      "Please also refer to the documentation for alternative solver options:\n",
      "    https://scikit-learn.org/stable/modules/linear_model.html#logistic-regression\n",
      "  n_iter_i = _check_optimize_result(\n",
      "/Users/noeljoseph/opt/anaconda3/lib/python3.8/site-packages/sklearn/linear_model/_logistic.py:763: ConvergenceWarning: lbfgs failed to converge (status=1):\n",
      "STOP: TOTAL NO. of ITERATIONS REACHED LIMIT.\n",
      "\n",
      "Increase the number of iterations (max_iter) or scale the data as shown in:\n",
      "    https://scikit-learn.org/stable/modules/preprocessing.html\n",
      "Please also refer to the documentation for alternative solver options:\n",
      "    https://scikit-learn.org/stable/modules/linear_model.html#logistic-regression\n",
      "  n_iter_i = _check_optimize_result(\n",
      "/Users/noeljoseph/opt/anaconda3/lib/python3.8/site-packages/sklearn/linear_model/_logistic.py:763: ConvergenceWarning: lbfgs failed to converge (status=1):\n",
      "STOP: TOTAL NO. of ITERATIONS REACHED LIMIT.\n",
      "\n",
      "Increase the number of iterations (max_iter) or scale the data as shown in:\n",
      "    https://scikit-learn.org/stable/modules/preprocessing.html\n",
      "Please also refer to the documentation for alternative solver options:\n",
      "    https://scikit-learn.org/stable/modules/linear_model.html#logistic-regression\n",
      "  n_iter_i = _check_optimize_result(\n",
      "/Users/noeljoseph/opt/anaconda3/lib/python3.8/site-packages/sklearn/linear_model/_logistic.py:763: ConvergenceWarning: lbfgs failed to converge (status=1):\n",
      "STOP: TOTAL NO. of ITERATIONS REACHED LIMIT.\n",
      "\n",
      "Increase the number of iterations (max_iter) or scale the data as shown in:\n",
      "    https://scikit-learn.org/stable/modules/preprocessing.html\n",
      "Please also refer to the documentation for alternative solver options:\n",
      "    https://scikit-learn.org/stable/modules/linear_model.html#logistic-regression\n",
      "  n_iter_i = _check_optimize_result(\n"
     ]
    },
    {
     "data": {
      "text/plain": [
       "GridSearchCV(estimator=LogisticRegression(),\n",
       "             param_grid={'C': [0.001, 0.01, 0.1, 1, 10]})"
      ]
     },
     "execution_count": 63,
     "metadata": {},
     "output_type": "execute_result"
    }
   ],
   "source": [
    "param_grid={'C':[0.001,0.01,0.1,1,10]}\n",
    "grid = GridSearchCV(LogisticRegression(), param_grid)\n",
    "grid.fit(x_train, y_train)"
   ]
  },
  {
   "cell_type": "code",
   "execution_count": 64,
   "id": "48caeacf",
   "metadata": {},
   "outputs": [
    {
     "name": "stdout",
     "output_type": "stream",
     "text": [
      "Best parameters: {'C': 1}\n"
     ]
    }
   ],
   "source": [
    "print(\"Best parameters:\", grid.best_params_)"
   ]
  },
  {
   "cell_type": "code",
   "execution_count": 65,
   "id": "b4eab37c",
   "metadata": {},
   "outputs": [],
   "source": [
    "y_pred= grid.predict(x_test)"
   ]
  },
  {
   "cell_type": "code",
   "execution_count": 66,
   "id": "0dbfbab4",
   "metadata": {},
   "outputs": [
    {
     "name": "stdout",
     "output_type": "stream",
     "text": [
      "Test accuracy: 89.55%\n"
     ]
    }
   ],
   "source": [
    "logreg_acc = accuracy_score(y_pred, y_test)\n",
    "print(\"Test accuracy: {:.2f}%\".format(logreg_acc*100))"
   ]
  },
  {
   "cell_type": "code",
   "execution_count": 67,
   "id": "07b2b002",
   "metadata": {},
   "outputs": [
    {
     "name": "stdout",
     "output_type": "stream",
     "text": [
      "[[1112    1  241]\n",
      " [   2   40   55]\n",
      " [ 118    1 2430]]\n",
      "\n",
      "\n",
      "                 precision    recall  f1-score   support\n",
      "\n",
      "        correct       0.90      0.82      0.86      1354\n",
      "      incorrect       0.95      0.41      0.58        97\n",
      "non opinionated       0.89      0.95      0.92      2549\n",
      "\n",
      "       accuracy                           0.90      4000\n",
      "      macro avg       0.92      0.73      0.79      4000\n",
      "   weighted avg       0.90      0.90      0.89      4000\n",
      "\n"
     ]
    }
   ],
   "source": [
    "print(confusion_matrix(y_test, logreg_pred))\n",
    "print(\"\\n\")\n",
    "print(classification_report(y_test, logreg_pred))"
   ]
  },
  {
   "cell_type": "code",
   "execution_count": 68,
   "id": "f5dc6109",
   "metadata": {},
   "outputs": [
    {
     "name": "stderr",
     "output_type": "stream",
     "text": [
      "/Users/noeljoseph/opt/anaconda3/lib/python3.8/site-packages/sklearn/svm/_base.py:985: ConvergenceWarning: Liblinear failed to converge, increase the number of iterations.\n",
      "  warnings.warn(\"Liblinear failed to converge, increase \"\n"
     ]
    },
    {
     "data": {
      "text/plain": [
       "LinearSVC()"
      ]
     },
     "execution_count": 68,
     "metadata": {},
     "output_type": "execute_result"
    }
   ],
   "source": [
    "SVCmodel = LinearSVC()\n",
    "SVCmodel.fit(x_train, y_train)"
   ]
  },
  {
   "cell_type": "code",
   "execution_count": 69,
   "id": "784b7236",
   "metadata": {},
   "outputs": [
    {
     "name": "stdout",
     "output_type": "stream",
     "text": [
      "test accuracy: 89.050000%\n"
     ]
    }
   ],
   "source": [
    "svc_pred = SVCmodel.predict(x_test)\n",
    "svc_acc = accuracy_score(svc_pred, y_test)\n",
    "print(\"test accuracy: {:2f}%\".format(svc_acc*100))"
   ]
  },
  {
   "cell_type": "code",
   "execution_count": 70,
   "id": "bb7269a6",
   "metadata": {},
   "outputs": [
    {
     "name": "stdout",
     "output_type": "stream",
     "text": [
      "[[1116    2  236]\n",
      " [   1   54   42]\n",
      " [ 155    2 2392]]\n",
      "\n",
      "\n",
      "                 precision    recall  f1-score   support\n",
      "\n",
      "        correct       0.88      0.82      0.85      1354\n",
      "      incorrect       0.93      0.56      0.70        97\n",
      "non opinionated       0.90      0.94      0.92      2549\n",
      "\n",
      "       accuracy                           0.89      4000\n",
      "      macro avg       0.90      0.77      0.82      4000\n",
      "   weighted avg       0.89      0.89      0.89      4000\n",
      "\n"
     ]
    }
   ],
   "source": [
    "print(confusion_matrix(y_test, svc_pred))\n",
    "print(\"\\n\")\n",
    "print(classification_report(y_test, svc_pred))"
   ]
  },
  {
   "cell_type": "code",
   "execution_count": 71,
   "id": "af355cfe",
   "metadata": {},
   "outputs": [
    {
     "name": "stderr",
     "output_type": "stream",
     "text": [
      "/Users/noeljoseph/opt/anaconda3/lib/python3.8/site-packages/sklearn/svm/_base.py:985: ConvergenceWarning: Liblinear failed to converge, increase the number of iterations.\n",
      "  warnings.warn(\"Liblinear failed to converge, increase \"\n",
      "/Users/noeljoseph/opt/anaconda3/lib/python3.8/site-packages/sklearn/svm/_base.py:985: ConvergenceWarning: Liblinear failed to converge, increase the number of iterations.\n",
      "  warnings.warn(\"Liblinear failed to converge, increase \"\n",
      "/Users/noeljoseph/opt/anaconda3/lib/python3.8/site-packages/sklearn/svm/_base.py:985: ConvergenceWarning: Liblinear failed to converge, increase the number of iterations.\n",
      "  warnings.warn(\"Liblinear failed to converge, increase \"\n",
      "/Users/noeljoseph/opt/anaconda3/lib/python3.8/site-packages/sklearn/svm/_base.py:985: ConvergenceWarning: Liblinear failed to converge, increase the number of iterations.\n",
      "  warnings.warn(\"Liblinear failed to converge, increase \"\n",
      "/Users/noeljoseph/opt/anaconda3/lib/python3.8/site-packages/sklearn/svm/_base.py:985: ConvergenceWarning: Liblinear failed to converge, increase the number of iterations.\n",
      "  warnings.warn(\"Liblinear failed to converge, increase \"\n",
      "/Users/noeljoseph/opt/anaconda3/lib/python3.8/site-packages/sklearn/svm/_base.py:985: ConvergenceWarning: Liblinear failed to converge, increase the number of iterations.\n",
      "  warnings.warn(\"Liblinear failed to converge, increase \"\n"
     ]
    },
    {
     "data": {
      "text/plain": [
       "GridSearchCV(estimator=LinearSVC(), param_grid={'C': [0.001, 0.01, 0.1, 1, 10]})"
      ]
     },
     "execution_count": 71,
     "metadata": {},
     "output_type": "execute_result"
    }
   ],
   "source": [
    "grid = {\n",
    "    'C':[0.01, 0.1, 1, 10],\n",
    "    'kernel': [\"linear\", \"poly\", \"rbf\", \"sigmoid\"],\n",
    "    'degree': [1,3,5,7],\n",
    "    'gamma': [0.01, 1]\n",
    "}\n",
    "grid = GridSearchCV(SVCmodel, param_grid)\n",
    "grid.fit(x_train, y_train)"
   ]
  },
  {
   "cell_type": "code",
   "execution_count": 72,
   "id": "a3560462",
   "metadata": {},
   "outputs": [
    {
     "name": "stdout",
     "output_type": "stream",
     "text": [
      "Best parameter: {'C': 0.1}\n"
     ]
    }
   ],
   "source": [
    "print(\"Best parameter:\", grid.best_params_)"
   ]
  },
  {
   "cell_type": "code",
   "execution_count": 73,
   "id": "849cc718",
   "metadata": {},
   "outputs": [],
   "source": [
    "y_pred = grid.predict(x_test)"
   ]
  },
  {
   "cell_type": "code",
   "execution_count": 74,
   "id": "11109f00",
   "metadata": {},
   "outputs": [
    {
     "name": "stdout",
     "output_type": "stream",
     "text": [
      "Test Accuracy: 89.65%\n"
     ]
    }
   ],
   "source": [
    "logreg_acc= accuracy_score(y_pred, y_test)\n",
    "print(\"Test Accuracy: {:.2f}%\".format(logreg_acc*100))"
   ]
  },
  {
   "cell_type": "code",
   "execution_count": 75,
   "id": "d6757168",
   "metadata": {},
   "outputs": [
    {
     "name": "stdout",
     "output_type": "stream",
     "text": [
      "[[1127    2  225]\n",
      " [   1   50   46]\n",
      " [ 139    1 2409]]\n",
      "\n",
      "\n",
      "                 precision    recall  f1-score   support\n",
      "\n",
      "        correct       0.89      0.83      0.86      1354\n",
      "      incorrect       0.94      0.52      0.67        97\n",
      "non opinionated       0.90      0.95      0.92      2549\n",
      "\n",
      "       accuracy                           0.90      4000\n",
      "      macro avg       0.91      0.76      0.82      4000\n",
      "   weighted avg       0.90      0.90      0.89      4000\n",
      "\n"
     ]
    }
   ],
   "source": [
    "print(confusion_matrix(y_test, y_pred))\n",
    "print(\"\\n\")\n",
    "print(classification_report(y_test, y_pred))"
   ]
  },
  {
   "cell_type": "code",
   "execution_count": 76,
   "id": "fea02209",
   "metadata": {
    "scrolled": true
   },
   "outputs": [
    {
     "data": {
      "text/html": [
       "<div>\n",
       "<style scoped>\n",
       "    .dataframe tbody tr th:only-of-type {\n",
       "        vertical-align: middle;\n",
       "    }\n",
       "\n",
       "    .dataframe tbody tr th {\n",
       "        vertical-align: top;\n",
       "    }\n",
       "\n",
       "    .dataframe thead th {\n",
       "        text-align: right;\n",
       "    }\n",
       "</style>\n",
       "<table border=\"1\" class=\"dataframe\">\n",
       "  <thead>\n",
       "    <tr style=\"text-align: right;\">\n",
       "      <th></th>\n",
       "      <th>tokenized_content</th>\n",
       "      <th>sentiment_vader</th>\n",
       "      <th>sub_national_terms_mentioned</th>\n",
       "      <th>centre_terms_mentioned</th>\n",
       "      <th>perception</th>\n",
       "      <th>Unnamed: 0</th>\n",
       "      <th>date</th>\n",
       "      <th>content</th>\n",
       "      <th>replyCount</th>\n",
       "      <th>retweetCount</th>\n",
       "      <th>...</th>\n",
       "      <th>user_raw_description</th>\n",
       "      <th>user_verified</th>\n",
       "      <th>user_created</th>\n",
       "      <th>user_followers_count</th>\n",
       "      <th>user_friends_count</th>\n",
       "      <th>user_status_count</th>\n",
       "      <th>user_favourites_count</th>\n",
       "      <th>user_listed_count</th>\n",
       "      <th>user_media_count</th>\n",
       "      <th>user_location</th>\n",
       "    </tr>\n",
       "  </thead>\n",
       "  <tbody>\n",
       "    <tr>\n",
       "      <th>0</th>\n",
       "      <td>keralahealth veenageorge03 shame pity massive ...</td>\n",
       "      <td>negative</td>\n",
       "      <td>[veena]</td>\n",
       "      <td>[centre]</td>\n",
       "      <td>correct</td>\n",
       "      <td>0</td>\n",
       "      <td>2022-08-20 11:14:14+00:00</td>\n",
       "      <td>@KeralaHealth @VeenaGeorge03 what a shame and ...</td>\n",
       "      <td>0</td>\n",
       "      <td>0</td>\n",
       "      <td>...</td>\n",
       "      <td>NaN</td>\n",
       "      <td>False</td>\n",
       "      <td>2016-04-15T14:23:02+00:00</td>\n",
       "      <td>158</td>\n",
       "      <td>350</td>\n",
       "      <td>88366</td>\n",
       "      <td>76123</td>\n",
       "      <td>1</td>\n",
       "      <td>595</td>\n",
       "      <td>NaN</td>\n",
       "    </tr>\n",
       "    <tr>\n",
       "      <th>1</th>\n",
       "      <td>meeting constituents wide range issues congrat...</td>\n",
       "      <td>neutral</td>\n",
       "      <td>[]</td>\n",
       "      <td>[]</td>\n",
       "      <td>non opinionated</td>\n",
       "      <td>1</td>\n",
       "      <td>2022-08-20 11:05:10+00:00</td>\n",
       "      <td>Meeting constituents on a wide range of issues...</td>\n",
       "      <td>9</td>\n",
       "      <td>22</td>\n",
       "      <td>...</td>\n",
       "      <td>INC. MP for Thiruvananthapuram. Author of 23 b...</td>\n",
       "      <td>True</td>\n",
       "      <td>2009-03-16T15:12:51+00:00</td>\n",
       "      <td>8372495</td>\n",
       "      <td>1110</td>\n",
       "      <td>67294</td>\n",
       "      <td>22922</td>\n",
       "      <td>13072</td>\n",
       "      <td>11460</td>\n",
       "      <td>New Delhi &amp; Thiruvananthapuram</td>\n",
       "    </tr>\n",
       "    <tr>\n",
       "      <th>2</th>\n",
       "      <td>home minister amit shah reaches aiims new delh...</td>\n",
       "      <td>negative</td>\n",
       "      <td>[minister]</td>\n",
       "      <td>[]</td>\n",
       "      <td>correct</td>\n",
       "      <td>2</td>\n",
       "      <td>2022-08-20 09:43:51+00:00</td>\n",
       "      <td>Home Minister Amit Shah reaches AIIMS, New Del...</td>\n",
       "      <td>0</td>\n",
       "      <td>0</td>\n",
       "      <td>...</td>\n",
       "      <td>ADVOCATE at District Court Kollam, Kerala .\\n𝐊...</td>\n",
       "      <td>False</td>\n",
       "      <td>2022-08-07T12:24:10+00:00</td>\n",
       "      <td>1</td>\n",
       "      <td>119</td>\n",
       "      <td>3</td>\n",
       "      <td>0</td>\n",
       "      <td>0</td>\n",
       "      <td>3</td>\n",
       "      <td>NaN</td>\n",
       "    </tr>\n",
       "    <tr>\n",
       "      <th>3</th>\n",
       "      <td>point totally different getting rat poison sou...</td>\n",
       "      <td>negative</td>\n",
       "      <td>[]</td>\n",
       "      <td>[]</td>\n",
       "      <td>non opinionated</td>\n",
       "      <td>3</td>\n",
       "      <td>2022-08-20 09:01:18+00:00</td>\n",
       "      <td>My point was totally different. You are not ge...</td>\n",
       "      <td>1</td>\n",
       "      <td>1</td>\n",
       "      <td>...</td>\n",
       "      <td>Ex-Editor News Today. Humour Writer. Now freel...</td>\n",
       "      <td>True</td>\n",
       "      <td>2009-02-18T04:31:13+00:00</td>\n",
       "      <td>11204</td>\n",
       "      <td>646</td>\n",
       "      <td>89397</td>\n",
       "      <td>18222</td>\n",
       "      <td>287</td>\n",
       "      <td>1840</td>\n",
       "      <td>Chennai</td>\n",
       "    </tr>\n",
       "    <tr>\n",
       "      <th>4</th>\n",
       "      <td>arvindkejriwal btw days back kerala adjudged b...</td>\n",
       "      <td>positive</td>\n",
       "      <td>[sailaja, minister]</td>\n",
       "      <td>[]</td>\n",
       "      <td>correct</td>\n",
       "      <td>4</td>\n",
       "      <td>2022-08-20 08:34:25+00:00</td>\n",
       "      <td>@ArvindKejriwal Btw Some days back Kerala was ...</td>\n",
       "      <td>0</td>\n",
       "      <td>0</td>\n",
       "      <td>...</td>\n",
       "      <td>धर्मो रक्षति रक्षितः 🚩\\nseen my world |\\nFour ...</td>\n",
       "      <td>False</td>\n",
       "      <td>2009-08-23T04:47:26+00:00</td>\n",
       "      <td>1781</td>\n",
       "      <td>1802</td>\n",
       "      <td>21711</td>\n",
       "      <td>101017</td>\n",
       "      <td>2</td>\n",
       "      <td>906</td>\n",
       "      <td>Kramsk, Polska</td>\n",
       "    </tr>\n",
       "    <tr>\n",
       "      <th>...</th>\n",
       "      <td>...</td>\n",
       "      <td>...</td>\n",
       "      <td>...</td>\n",
       "      <td>...</td>\n",
       "      <td>...</td>\n",
       "      <td>...</td>\n",
       "      <td>...</td>\n",
       "      <td>...</td>\n",
       "      <td>...</td>\n",
       "      <td>...</td>\n",
       "      <td>...</td>\n",
       "      <td>...</td>\n",
       "      <td>...</td>\n",
       "      <td>...</td>\n",
       "      <td>...</td>\n",
       "      <td>...</td>\n",
       "      <td>...</td>\n",
       "      <td>...</td>\n",
       "      <td>...</td>\n",
       "      <td>...</td>\n",
       "      <td>...</td>\n",
       "    </tr>\n",
       "    <tr>\n",
       "      <th>19995</th>\n",
       "      <td>short hindu temple anywhere india muslim chris...</td>\n",
       "      <td>positive</td>\n",
       "      <td>[]</td>\n",
       "      <td>[]</td>\n",
       "      <td>non opinionated</td>\n",
       "      <td>19995</td>\n",
       "      <td>2021-05-29 07:08:33+00:00</td>\n",
       "      <td>In short, a Hindu temple in anywhere in India,...</td>\n",
       "      <td>0</td>\n",
       "      <td>0</td>\n",
       "      <td>...</td>\n",
       "      <td>World is a beautiful dream; Truth is beautiful...</td>\n",
       "      <td>False</td>\n",
       "      <td>2020-07-19T10:24:21+00:00</td>\n",
       "      <td>0</td>\n",
       "      <td>90</td>\n",
       "      <td>291</td>\n",
       "      <td>185</td>\n",
       "      <td>0</td>\n",
       "      <td>0</td>\n",
       "      <td>NaN</td>\n",
       "    </tr>\n",
       "    <tr>\n",
       "      <th>19996</th>\n",
       "      <td>kerala health worker ’ fb post siva temple lak...</td>\n",
       "      <td>neutral</td>\n",
       "      <td>[]</td>\n",
       "      <td>[]</td>\n",
       "      <td>non opinionated</td>\n",
       "      <td>19996</td>\n",
       "      <td>2021-05-29 07:01:32+00:00</td>\n",
       "      <td>Kerala health worker’s FB post on Siva temple ...</td>\n",
       "      <td>0</td>\n",
       "      <td>0</td>\n",
       "      <td>...</td>\n",
       "      <td>ιт ρяσƒ. 🧑‍💻🐦тωєєтѕ αвσυт тнσυgнтѕ ση ¢яι¢кєт🏏...</td>\n",
       "      <td>False</td>\n",
       "      <td>2010-07-05T06:30:33+00:00</td>\n",
       "      <td>367</td>\n",
       "      <td>1646</td>\n",
       "      <td>29578</td>\n",
       "      <td>1707</td>\n",
       "      <td>11</td>\n",
       "      <td>692</td>\n",
       "      <td>United Arab Emirates</td>\n",
       "    </tr>\n",
       "    <tr>\n",
       "      <th>19997</th>\n",
       "      <td>1798 asha workers infected covid kerala far tw...</td>\n",
       "      <td>negative</td>\n",
       "      <td>[veena]</td>\n",
       "      <td>[]</td>\n",
       "      <td>correct</td>\n",
       "      <td>19997</td>\n",
       "      <td>2021-05-29 06:47:20+00:00</td>\n",
       "      <td>1,798 #ASHA workers infected with #Covid in #K...</td>\n",
       "      <td>0</td>\n",
       "      <td>0</td>\n",
       "      <td>...</td>\n",
       "      <td>ex journo. Previously with TNIE, Deccan Chroni...</td>\n",
       "      <td>False</td>\n",
       "      <td>2014-01-02T06:08:09+00:00</td>\n",
       "      <td>438</td>\n",
       "      <td>542</td>\n",
       "      <td>1480</td>\n",
       "      <td>3416</td>\n",
       "      <td>6</td>\n",
       "      <td>306</td>\n",
       "      <td>Kozhikode</td>\n",
       "    </tr>\n",
       "    <tr>\n",
       "      <th>19998</th>\n",
       "      <td>kerala health services department ’ dr aarathy...</td>\n",
       "      <td>positive</td>\n",
       "      <td>[]</td>\n",
       "      <td>[]</td>\n",
       "      <td>non opinionated</td>\n",
       "      <td>19998</td>\n",
       "      <td>2021-05-29 06:43:07+00:00</td>\n",
       "      <td>Kerala health services department’s Dr Aarathy...</td>\n",
       "      <td>2</td>\n",
       "      <td>7</td>\n",
       "      <td>...</td>\n",
       "      <td>Sign up for #MCPro for the most useful insight...</td>\n",
       "      <td>True</td>\n",
       "      <td>2009-08-26T07:55:29+00:00</td>\n",
       "      <td>1315705</td>\n",
       "      <td>347</td>\n",
       "      <td>371899</td>\n",
       "      <td>1196</td>\n",
       "      <td>3506</td>\n",
       "      <td>91916</td>\n",
       "      <td>Mumbai</td>\n",
       "    </tr>\n",
       "    <tr>\n",
       "      <th>19999</th>\n",
       "      <td>anujkum44636294 rishibagree saw example kerala...</td>\n",
       "      <td>neutral</td>\n",
       "      <td>[minister]</td>\n",
       "      <td>[]</td>\n",
       "      <td>non opinionated</td>\n",
       "      <td>19999</td>\n",
       "      <td>2021-05-29 06:30:54+00:00</td>\n",
       "      <td>@ANUJKUM44636294 @rishibagree We saw an exampl...</td>\n",
       "      <td>0</td>\n",
       "      <td>0</td>\n",
       "      <td>...</td>\n",
       "      <td>communist buisnessman.strange? well thts me</td>\n",
       "      <td>False</td>\n",
       "      <td>2010-01-12T04:32:41+00:00</td>\n",
       "      <td>285</td>\n",
       "      <td>1016</td>\n",
       "      <td>29362</td>\n",
       "      <td>26446</td>\n",
       "      <td>10</td>\n",
       "      <td>40</td>\n",
       "      <td>New delhi India</td>\n",
       "    </tr>\n",
       "  </tbody>\n",
       "</table>\n",
       "<p>20000 rows × 27 columns</p>\n",
       "</div>"
      ],
      "text/plain": [
       "                                       tokenized_content sentiment_vader  \\\n",
       "0      keralahealth veenageorge03 shame pity massive ...        negative   \n",
       "1      meeting constituents wide range issues congrat...         neutral   \n",
       "2      home minister amit shah reaches aiims new delh...        negative   \n",
       "3      point totally different getting rat poison sou...        negative   \n",
       "4      arvindkejriwal btw days back kerala adjudged b...        positive   \n",
       "...                                                  ...             ...   \n",
       "19995  short hindu temple anywhere india muslim chris...        positive   \n",
       "19996  kerala health worker ’ fb post siva temple lak...         neutral   \n",
       "19997  1798 asha workers infected covid kerala far tw...        negative   \n",
       "19998  kerala health services department ’ dr aarathy...        positive   \n",
       "19999  anujkum44636294 rishibagree saw example kerala...         neutral   \n",
       "\n",
       "      sub_national_terms_mentioned centre_terms_mentioned       perception  \\\n",
       "0                          [veena]               [centre]          correct   \n",
       "1                               []                     []  non opinionated   \n",
       "2                       [minister]                     []          correct   \n",
       "3                               []                     []  non opinionated   \n",
       "4              [sailaja, minister]                     []          correct   \n",
       "...                            ...                    ...              ...   \n",
       "19995                           []                     []  non opinionated   \n",
       "19996                           []                     []  non opinionated   \n",
       "19997                      [veena]                     []          correct   \n",
       "19998                           []                     []  non opinionated   \n",
       "19999                   [minister]                     []  non opinionated   \n",
       "\n",
       "       Unnamed: 0                       date  \\\n",
       "0               0  2022-08-20 11:14:14+00:00   \n",
       "1               1  2022-08-20 11:05:10+00:00   \n",
       "2               2  2022-08-20 09:43:51+00:00   \n",
       "3               3  2022-08-20 09:01:18+00:00   \n",
       "4               4  2022-08-20 08:34:25+00:00   \n",
       "...           ...                        ...   \n",
       "19995       19995  2021-05-29 07:08:33+00:00   \n",
       "19996       19996  2021-05-29 07:01:32+00:00   \n",
       "19997       19997  2021-05-29 06:47:20+00:00   \n",
       "19998       19998  2021-05-29 06:43:07+00:00   \n",
       "19999       19999  2021-05-29 06:30:54+00:00   \n",
       "\n",
       "                                                 content  replyCount  \\\n",
       "0      @KeralaHealth @VeenaGeorge03 what a shame and ...           0   \n",
       "1      Meeting constituents on a wide range of issues...           9   \n",
       "2      Home Minister Amit Shah reaches AIIMS, New Del...           0   \n",
       "3      My point was totally different. You are not ge...           1   \n",
       "4      @ArvindKejriwal Btw Some days back Kerala was ...           0   \n",
       "...                                                  ...         ...   \n",
       "19995  In short, a Hindu temple in anywhere in India,...           0   \n",
       "19996  Kerala health worker’s FB post on Siva temple ...           0   \n",
       "19997  1,798 #ASHA workers infected with #Covid in #K...           0   \n",
       "19998  Kerala health services department’s Dr Aarathy...           2   \n",
       "19999  @ANUJKUM44636294 @rishibagree We saw an exampl...           0   \n",
       "\n",
       "       retweetCount  ...                               user_raw_description  \\\n",
       "0                 0  ...                                                NaN   \n",
       "1                22  ...  INC. MP for Thiruvananthapuram. Author of 23 b...   \n",
       "2                 0  ...  ADVOCATE at District Court Kollam, Kerala .\\n𝐊...   \n",
       "3                 1  ...  Ex-Editor News Today. Humour Writer. Now freel...   \n",
       "4                 0  ...  धर्मो रक्षति रक्षितः 🚩\\nseen my world |\\nFour ...   \n",
       "...             ...  ...                                                ...   \n",
       "19995             0  ...  World is a beautiful dream; Truth is beautiful...   \n",
       "19996             0  ...  ιт ρяσƒ. 🧑‍💻🐦тωєєтѕ αвσυт тнσυgнтѕ ση ¢яι¢кєт🏏...   \n",
       "19997             0  ...  ex journo. Previously with TNIE, Deccan Chroni...   \n",
       "19998             7  ...  Sign up for #MCPro for the most useful insight...   \n",
       "19999             0  ...        communist buisnessman.strange? well thts me   \n",
       "\n",
       "      user_verified               user_created user_followers_count  \\\n",
       "0             False  2016-04-15T14:23:02+00:00                  158   \n",
       "1              True  2009-03-16T15:12:51+00:00              8372495   \n",
       "2             False  2022-08-07T12:24:10+00:00                    1   \n",
       "3              True  2009-02-18T04:31:13+00:00                11204   \n",
       "4             False  2009-08-23T04:47:26+00:00                 1781   \n",
       "...             ...                        ...                  ...   \n",
       "19995         False  2020-07-19T10:24:21+00:00                    0   \n",
       "19996         False  2010-07-05T06:30:33+00:00                  367   \n",
       "19997         False  2014-01-02T06:08:09+00:00                  438   \n",
       "19998          True  2009-08-26T07:55:29+00:00              1315705   \n",
       "19999         False  2010-01-12T04:32:41+00:00                  285   \n",
       "\n",
       "      user_friends_count user_status_count user_favourites_count  \\\n",
       "0                    350             88366                 76123   \n",
       "1                   1110             67294                 22922   \n",
       "2                    119                 3                     0   \n",
       "3                    646             89397                 18222   \n",
       "4                   1802             21711                101017   \n",
       "...                  ...               ...                   ...   \n",
       "19995                 90               291                   185   \n",
       "19996               1646             29578                  1707   \n",
       "19997                542              1480                  3416   \n",
       "19998                347            371899                  1196   \n",
       "19999               1016             29362                 26446   \n",
       "\n",
       "      user_listed_count  user_media_count                   user_location  \n",
       "0                     1               595                             NaN  \n",
       "1                 13072             11460  New Delhi & Thiruvananthapuram  \n",
       "2                     0                 3                             NaN  \n",
       "3                   287              1840                         Chennai  \n",
       "4                     2               906                  Kramsk, Polska  \n",
       "...                 ...               ...                             ...  \n",
       "19995                 0                 0                             NaN  \n",
       "19996                11               692            United Arab Emirates  \n",
       "19997                 6               306                       Kozhikode  \n",
       "19998              3506             91916                          Mumbai  \n",
       "19999                10                40                 New delhi India  \n",
       "\n",
       "[20000 rows x 27 columns]"
      ]
     },
     "execution_count": 76,
     "metadata": {},
     "output_type": "execute_result"
    }
   ],
   "source": [
    "content_perception_df"
   ]
  },
  {
   "cell_type": "code",
   "execution_count": 77,
   "id": "f5a67584",
   "metadata": {},
   "outputs": [
    {
     "name": "stdout",
     "output_type": "stream",
     "text": [
      "<class 'pandas.core.frame.DataFrame'>\n",
      "RangeIndex: 20000 entries, 0 to 19999\n",
      "Data columns (total 27 columns):\n",
      " #   Column                        Non-Null Count  Dtype \n",
      "---  ------                        --------------  ----- \n",
      " 0   tokenized_content             20000 non-null  object\n",
      " 1   sentiment_vader               20000 non-null  object\n",
      " 2   sub_national_terms_mentioned  20000 non-null  object\n",
      " 3   centre_terms_mentioned        20000 non-null  object\n",
      " 4   perception                    20000 non-null  object\n",
      " 5   Unnamed: 0                    20000 non-null  int64 \n",
      " 6   date                          20000 non-null  object\n",
      " 7   content                       20000 non-null  object\n",
      " 8   replyCount                    20000 non-null  int64 \n",
      " 9   retweetCount                  20000 non-null  int64 \n",
      " 10  likeCount                     20000 non-null  int64 \n",
      " 11  lang                          20000 non-null  object\n",
      " 12  sourceLabel                   20000 non-null  object\n",
      " 13  hashtags                      7826 non-null   object\n",
      " 14  username                      20000 non-null  object\n",
      " 15  user_dispaly_name             19999 non-null  object\n",
      " 16  user_description              17983 non-null  object\n",
      " 17  user_raw_description          17983 non-null  object\n",
      " 18  user_verified                 20000 non-null  bool  \n",
      " 19  user_created                  20000 non-null  object\n",
      " 20  user_followers_count          20000 non-null  int64 \n",
      " 21  user_friends_count            20000 non-null  int64 \n",
      " 22  user_status_count             20000 non-null  int64 \n",
      " 23  user_favourites_count         20000 non-null  int64 \n",
      " 24  user_listed_count             20000 non-null  int64 \n",
      " 25  user_media_count              20000 non-null  int64 \n",
      " 26  user_location                 15109 non-null  object\n",
      "dtypes: bool(1), int64(10), object(16)\n",
      "memory usage: 4.0+ MB\n"
     ]
    }
   ],
   "source": [
    "content_perception_df.info()"
   ]
  },
  {
   "cell_type": "code",
   "execution_count": 78,
   "id": "0ca95ece",
   "metadata": {},
   "outputs": [],
   "source": [
    "import numpy as np\n",
    "import matplotlib.pyplot as plt"
   ]
  },
  {
   "cell_type": "code",
   "execution_count": 79,
   "id": "da9ea4b2",
   "metadata": {},
   "outputs": [],
   "source": [
    "#transpose the df description so it is easier to read.\n",
    "count_content = content_perception_df.describe().transpose()"
   ]
  },
  {
   "cell_type": "code",
   "execution_count": 80,
   "id": "1c707e25",
   "metadata": {},
   "outputs": [],
   "source": [
    " from datetime import datetime"
   ]
  },
  {
   "cell_type": "code",
   "execution_count": 81,
   "id": "27ad77ed",
   "metadata": {
    "scrolled": false
   },
   "outputs": [
    {
     "data": {
      "text/plain": [
       "0        2022-08-20 11:14:14+00:00\n",
       "1        2022-08-20 11:05:10+00:00\n",
       "2        2022-08-20 09:43:51+00:00\n",
       "3        2022-08-20 09:01:18+00:00\n",
       "4        2022-08-20 08:34:25+00:00\n",
       "                   ...            \n",
       "19995    2021-05-29 07:08:33+00:00\n",
       "19996    2021-05-29 07:01:32+00:00\n",
       "19997    2021-05-29 06:47:20+00:00\n",
       "19998    2021-05-29 06:43:07+00:00\n",
       "19999    2021-05-29 06:30:54+00:00\n",
       "Name: date, Length: 20000, dtype: object"
      ]
     },
     "execution_count": 81,
     "metadata": {},
     "output_type": "execute_result"
    }
   ],
   "source": [
    "content_perception_df['date']"
   ]
  },
  {
   "cell_type": "code",
   "execution_count": 82,
   "id": "68b52a18",
   "metadata": {},
   "outputs": [],
   "source": [
    "content_perception_df[['user_created','date']] = content_perception_df[['user_created','date']].apply(pd.to_datetime) #if conversion required\n",
    "content_perception_df['days_on_twitter'] = (content_perception_df['date'] - content_perception_df['user_created']).dt.days"
   ]
  },
  {
   "cell_type": "code",
   "execution_count": 83,
   "id": "c4a75d41",
   "metadata": {},
   "outputs": [],
   "source": [
    "content_perception_df['tweets_per_day'] = content_perception_df['user_status_count'] / content_perception_df['days_on_twitter']"
   ]
  },
  {
   "cell_type": "code",
   "execution_count": 84,
   "id": "37d41b05",
   "metadata": {},
   "outputs": [
    {
     "data": {
      "text/html": [
       "<div>\n",
       "<style scoped>\n",
       "    .dataframe tbody tr th:only-of-type {\n",
       "        vertical-align: middle;\n",
       "    }\n",
       "\n",
       "    .dataframe tbody tr th {\n",
       "        vertical-align: top;\n",
       "    }\n",
       "\n",
       "    .dataframe thead th {\n",
       "        text-align: right;\n",
       "    }\n",
       "</style>\n",
       "<table border=\"1\" class=\"dataframe\">\n",
       "  <thead>\n",
       "    <tr style=\"text-align: right;\">\n",
       "      <th></th>\n",
       "      <th>tokenized_content</th>\n",
       "      <th>sentiment_vader</th>\n",
       "      <th>sub_national_terms_mentioned</th>\n",
       "      <th>centre_terms_mentioned</th>\n",
       "      <th>perception</th>\n",
       "      <th>Unnamed: 0</th>\n",
       "      <th>date</th>\n",
       "      <th>content</th>\n",
       "      <th>replyCount</th>\n",
       "      <th>retweetCount</th>\n",
       "      <th>...</th>\n",
       "      <th>user_created</th>\n",
       "      <th>user_followers_count</th>\n",
       "      <th>user_friends_count</th>\n",
       "      <th>user_status_count</th>\n",
       "      <th>user_favourites_count</th>\n",
       "      <th>user_listed_count</th>\n",
       "      <th>user_media_count</th>\n",
       "      <th>user_location</th>\n",
       "      <th>days_on_twitter</th>\n",
       "      <th>tweets_per_day</th>\n",
       "    </tr>\n",
       "  </thead>\n",
       "  <tbody>\n",
       "    <tr>\n",
       "      <th>0</th>\n",
       "      <td>keralahealth veenageorge03 shame pity massive ...</td>\n",
       "      <td>negative</td>\n",
       "      <td>[veena]</td>\n",
       "      <td>[centre]</td>\n",
       "      <td>correct</td>\n",
       "      <td>0</td>\n",
       "      <td>2022-08-20 11:14:14+00:00</td>\n",
       "      <td>@KeralaHealth @VeenaGeorge03 what a shame and ...</td>\n",
       "      <td>0</td>\n",
       "      <td>0</td>\n",
       "      <td>...</td>\n",
       "      <td>2016-04-15 14:23:02+00:00</td>\n",
       "      <td>158</td>\n",
       "      <td>350</td>\n",
       "      <td>88366</td>\n",
       "      <td>76123</td>\n",
       "      <td>1</td>\n",
       "      <td>595</td>\n",
       "      <td>NaN</td>\n",
       "      <td>2317</td>\n",
       "      <td>38.138110</td>\n",
       "    </tr>\n",
       "    <tr>\n",
       "      <th>1</th>\n",
       "      <td>meeting constituents wide range issues congrat...</td>\n",
       "      <td>neutral</td>\n",
       "      <td>[]</td>\n",
       "      <td>[]</td>\n",
       "      <td>non opinionated</td>\n",
       "      <td>1</td>\n",
       "      <td>2022-08-20 11:05:10+00:00</td>\n",
       "      <td>Meeting constituents on a wide range of issues...</td>\n",
       "      <td>9</td>\n",
       "      <td>22</td>\n",
       "      <td>...</td>\n",
       "      <td>2009-03-16 15:12:51+00:00</td>\n",
       "      <td>8372495</td>\n",
       "      <td>1110</td>\n",
       "      <td>67294</td>\n",
       "      <td>22922</td>\n",
       "      <td>13072</td>\n",
       "      <td>11460</td>\n",
       "      <td>New Delhi &amp; Thiruvananthapuram</td>\n",
       "      <td>4904</td>\n",
       "      <td>13.722268</td>\n",
       "    </tr>\n",
       "    <tr>\n",
       "      <th>2</th>\n",
       "      <td>home minister amit shah reaches aiims new delh...</td>\n",
       "      <td>negative</td>\n",
       "      <td>[minister]</td>\n",
       "      <td>[]</td>\n",
       "      <td>correct</td>\n",
       "      <td>2</td>\n",
       "      <td>2022-08-20 09:43:51+00:00</td>\n",
       "      <td>Home Minister Amit Shah reaches AIIMS, New Del...</td>\n",
       "      <td>0</td>\n",
       "      <td>0</td>\n",
       "      <td>...</td>\n",
       "      <td>2022-08-07 12:24:10+00:00</td>\n",
       "      <td>1</td>\n",
       "      <td>119</td>\n",
       "      <td>3</td>\n",
       "      <td>0</td>\n",
       "      <td>0</td>\n",
       "      <td>3</td>\n",
       "      <td>NaN</td>\n",
       "      <td>12</td>\n",
       "      <td>0.250000</td>\n",
       "    </tr>\n",
       "    <tr>\n",
       "      <th>3</th>\n",
       "      <td>point totally different getting rat poison sou...</td>\n",
       "      <td>negative</td>\n",
       "      <td>[]</td>\n",
       "      <td>[]</td>\n",
       "      <td>non opinionated</td>\n",
       "      <td>3</td>\n",
       "      <td>2022-08-20 09:01:18+00:00</td>\n",
       "      <td>My point was totally different. You are not ge...</td>\n",
       "      <td>1</td>\n",
       "      <td>1</td>\n",
       "      <td>...</td>\n",
       "      <td>2009-02-18 04:31:13+00:00</td>\n",
       "      <td>11204</td>\n",
       "      <td>646</td>\n",
       "      <td>89397</td>\n",
       "      <td>18222</td>\n",
       "      <td>287</td>\n",
       "      <td>1840</td>\n",
       "      <td>Chennai</td>\n",
       "      <td>4931</td>\n",
       "      <td>18.129588</td>\n",
       "    </tr>\n",
       "    <tr>\n",
       "      <th>4</th>\n",
       "      <td>arvindkejriwal btw days back kerala adjudged b...</td>\n",
       "      <td>positive</td>\n",
       "      <td>[sailaja, minister]</td>\n",
       "      <td>[]</td>\n",
       "      <td>correct</td>\n",
       "      <td>4</td>\n",
       "      <td>2022-08-20 08:34:25+00:00</td>\n",
       "      <td>@ArvindKejriwal Btw Some days back Kerala was ...</td>\n",
       "      <td>0</td>\n",
       "      <td>0</td>\n",
       "      <td>...</td>\n",
       "      <td>2009-08-23 04:47:26+00:00</td>\n",
       "      <td>1781</td>\n",
       "      <td>1802</td>\n",
       "      <td>21711</td>\n",
       "      <td>101017</td>\n",
       "      <td>2</td>\n",
       "      <td>906</td>\n",
       "      <td>Kramsk, Polska</td>\n",
       "      <td>4745</td>\n",
       "      <td>4.575553</td>\n",
       "    </tr>\n",
       "    <tr>\n",
       "      <th>...</th>\n",
       "      <td>...</td>\n",
       "      <td>...</td>\n",
       "      <td>...</td>\n",
       "      <td>...</td>\n",
       "      <td>...</td>\n",
       "      <td>...</td>\n",
       "      <td>...</td>\n",
       "      <td>...</td>\n",
       "      <td>...</td>\n",
       "      <td>...</td>\n",
       "      <td>...</td>\n",
       "      <td>...</td>\n",
       "      <td>...</td>\n",
       "      <td>...</td>\n",
       "      <td>...</td>\n",
       "      <td>...</td>\n",
       "      <td>...</td>\n",
       "      <td>...</td>\n",
       "      <td>...</td>\n",
       "      <td>...</td>\n",
       "      <td>...</td>\n",
       "    </tr>\n",
       "    <tr>\n",
       "      <th>19995</th>\n",
       "      <td>short hindu temple anywhere india muslim chris...</td>\n",
       "      <td>positive</td>\n",
       "      <td>[]</td>\n",
       "      <td>[]</td>\n",
       "      <td>non opinionated</td>\n",
       "      <td>19995</td>\n",
       "      <td>2021-05-29 07:08:33+00:00</td>\n",
       "      <td>In short, a Hindu temple in anywhere in India,...</td>\n",
       "      <td>0</td>\n",
       "      <td>0</td>\n",
       "      <td>...</td>\n",
       "      <td>2020-07-19 10:24:21+00:00</td>\n",
       "      <td>0</td>\n",
       "      <td>90</td>\n",
       "      <td>291</td>\n",
       "      <td>185</td>\n",
       "      <td>0</td>\n",
       "      <td>0</td>\n",
       "      <td>NaN</td>\n",
       "      <td>313</td>\n",
       "      <td>0.929712</td>\n",
       "    </tr>\n",
       "    <tr>\n",
       "      <th>19996</th>\n",
       "      <td>kerala health worker ’ fb post siva temple lak...</td>\n",
       "      <td>neutral</td>\n",
       "      <td>[]</td>\n",
       "      <td>[]</td>\n",
       "      <td>non opinionated</td>\n",
       "      <td>19996</td>\n",
       "      <td>2021-05-29 07:01:32+00:00</td>\n",
       "      <td>Kerala health worker’s FB post on Siva temple ...</td>\n",
       "      <td>0</td>\n",
       "      <td>0</td>\n",
       "      <td>...</td>\n",
       "      <td>2010-07-05 06:30:33+00:00</td>\n",
       "      <td>367</td>\n",
       "      <td>1646</td>\n",
       "      <td>29578</td>\n",
       "      <td>1707</td>\n",
       "      <td>11</td>\n",
       "      <td>692</td>\n",
       "      <td>United Arab Emirates</td>\n",
       "      <td>3981</td>\n",
       "      <td>7.429792</td>\n",
       "    </tr>\n",
       "    <tr>\n",
       "      <th>19997</th>\n",
       "      <td>1798 asha workers infected covid kerala far tw...</td>\n",
       "      <td>negative</td>\n",
       "      <td>[veena]</td>\n",
       "      <td>[]</td>\n",
       "      <td>correct</td>\n",
       "      <td>19997</td>\n",
       "      <td>2021-05-29 06:47:20+00:00</td>\n",
       "      <td>1,798 #ASHA workers infected with #Covid in #K...</td>\n",
       "      <td>0</td>\n",
       "      <td>0</td>\n",
       "      <td>...</td>\n",
       "      <td>2014-01-02 06:08:09+00:00</td>\n",
       "      <td>438</td>\n",
       "      <td>542</td>\n",
       "      <td>1480</td>\n",
       "      <td>3416</td>\n",
       "      <td>6</td>\n",
       "      <td>306</td>\n",
       "      <td>Kozhikode</td>\n",
       "      <td>2704</td>\n",
       "      <td>0.547337</td>\n",
       "    </tr>\n",
       "    <tr>\n",
       "      <th>19998</th>\n",
       "      <td>kerala health services department ’ dr aarathy...</td>\n",
       "      <td>positive</td>\n",
       "      <td>[]</td>\n",
       "      <td>[]</td>\n",
       "      <td>non opinionated</td>\n",
       "      <td>19998</td>\n",
       "      <td>2021-05-29 06:43:07+00:00</td>\n",
       "      <td>Kerala health services department’s Dr Aarathy...</td>\n",
       "      <td>2</td>\n",
       "      <td>7</td>\n",
       "      <td>...</td>\n",
       "      <td>2009-08-26 07:55:29+00:00</td>\n",
       "      <td>1315705</td>\n",
       "      <td>347</td>\n",
       "      <td>371899</td>\n",
       "      <td>1196</td>\n",
       "      <td>3506</td>\n",
       "      <td>91916</td>\n",
       "      <td>Mumbai</td>\n",
       "      <td>4293</td>\n",
       "      <td>86.629164</td>\n",
       "    </tr>\n",
       "    <tr>\n",
       "      <th>19999</th>\n",
       "      <td>anujkum44636294 rishibagree saw example kerala...</td>\n",
       "      <td>neutral</td>\n",
       "      <td>[minister]</td>\n",
       "      <td>[]</td>\n",
       "      <td>non opinionated</td>\n",
       "      <td>19999</td>\n",
       "      <td>2021-05-29 06:30:54+00:00</td>\n",
       "      <td>@ANUJKUM44636294 @rishibagree We saw an exampl...</td>\n",
       "      <td>0</td>\n",
       "      <td>0</td>\n",
       "      <td>...</td>\n",
       "      <td>2010-01-12 04:32:41+00:00</td>\n",
       "      <td>285</td>\n",
       "      <td>1016</td>\n",
       "      <td>29362</td>\n",
       "      <td>26446</td>\n",
       "      <td>10</td>\n",
       "      <td>40</td>\n",
       "      <td>New delhi India</td>\n",
       "      <td>4155</td>\n",
       "      <td>7.066667</td>\n",
       "    </tr>\n",
       "  </tbody>\n",
       "</table>\n",
       "<p>20000 rows × 29 columns</p>\n",
       "</div>"
      ],
      "text/plain": [
       "                                       tokenized_content sentiment_vader  \\\n",
       "0      keralahealth veenageorge03 shame pity massive ...        negative   \n",
       "1      meeting constituents wide range issues congrat...         neutral   \n",
       "2      home minister amit shah reaches aiims new delh...        negative   \n",
       "3      point totally different getting rat poison sou...        negative   \n",
       "4      arvindkejriwal btw days back kerala adjudged b...        positive   \n",
       "...                                                  ...             ...   \n",
       "19995  short hindu temple anywhere india muslim chris...        positive   \n",
       "19996  kerala health worker ’ fb post siva temple lak...         neutral   \n",
       "19997  1798 asha workers infected covid kerala far tw...        negative   \n",
       "19998  kerala health services department ’ dr aarathy...        positive   \n",
       "19999  anujkum44636294 rishibagree saw example kerala...         neutral   \n",
       "\n",
       "      sub_national_terms_mentioned centre_terms_mentioned       perception  \\\n",
       "0                          [veena]               [centre]          correct   \n",
       "1                               []                     []  non opinionated   \n",
       "2                       [minister]                     []          correct   \n",
       "3                               []                     []  non opinionated   \n",
       "4              [sailaja, minister]                     []          correct   \n",
       "...                            ...                    ...              ...   \n",
       "19995                           []                     []  non opinionated   \n",
       "19996                           []                     []  non opinionated   \n",
       "19997                      [veena]                     []          correct   \n",
       "19998                           []                     []  non opinionated   \n",
       "19999                   [minister]                     []  non opinionated   \n",
       "\n",
       "       Unnamed: 0                      date  \\\n",
       "0               0 2022-08-20 11:14:14+00:00   \n",
       "1               1 2022-08-20 11:05:10+00:00   \n",
       "2               2 2022-08-20 09:43:51+00:00   \n",
       "3               3 2022-08-20 09:01:18+00:00   \n",
       "4               4 2022-08-20 08:34:25+00:00   \n",
       "...           ...                       ...   \n",
       "19995       19995 2021-05-29 07:08:33+00:00   \n",
       "19996       19996 2021-05-29 07:01:32+00:00   \n",
       "19997       19997 2021-05-29 06:47:20+00:00   \n",
       "19998       19998 2021-05-29 06:43:07+00:00   \n",
       "19999       19999 2021-05-29 06:30:54+00:00   \n",
       "\n",
       "                                                 content  replyCount  \\\n",
       "0      @KeralaHealth @VeenaGeorge03 what a shame and ...           0   \n",
       "1      Meeting constituents on a wide range of issues...           9   \n",
       "2      Home Minister Amit Shah reaches AIIMS, New Del...           0   \n",
       "3      My point was totally different. You are not ge...           1   \n",
       "4      @ArvindKejriwal Btw Some days back Kerala was ...           0   \n",
       "...                                                  ...         ...   \n",
       "19995  In short, a Hindu temple in anywhere in India,...           0   \n",
       "19996  Kerala health worker’s FB post on Siva temple ...           0   \n",
       "19997  1,798 #ASHA workers infected with #Covid in #K...           0   \n",
       "19998  Kerala health services department’s Dr Aarathy...           2   \n",
       "19999  @ANUJKUM44636294 @rishibagree We saw an exampl...           0   \n",
       "\n",
       "       retweetCount  ...              user_created user_followers_count  \\\n",
       "0                 0  ... 2016-04-15 14:23:02+00:00                  158   \n",
       "1                22  ... 2009-03-16 15:12:51+00:00              8372495   \n",
       "2                 0  ... 2022-08-07 12:24:10+00:00                    1   \n",
       "3                 1  ... 2009-02-18 04:31:13+00:00                11204   \n",
       "4                 0  ... 2009-08-23 04:47:26+00:00                 1781   \n",
       "...             ...  ...                       ...                  ...   \n",
       "19995             0  ... 2020-07-19 10:24:21+00:00                    0   \n",
       "19996             0  ... 2010-07-05 06:30:33+00:00                  367   \n",
       "19997             0  ... 2014-01-02 06:08:09+00:00                  438   \n",
       "19998             7  ... 2009-08-26 07:55:29+00:00              1315705   \n",
       "19999             0  ... 2010-01-12 04:32:41+00:00                  285   \n",
       "\n",
       "      user_friends_count user_status_count user_favourites_count  \\\n",
       "0                    350             88366                 76123   \n",
       "1                   1110             67294                 22922   \n",
       "2                    119                 3                     0   \n",
       "3                    646             89397                 18222   \n",
       "4                   1802             21711                101017   \n",
       "...                  ...               ...                   ...   \n",
       "19995                 90               291                   185   \n",
       "19996               1646             29578                  1707   \n",
       "19997                542              1480                  3416   \n",
       "19998                347            371899                  1196   \n",
       "19999               1016             29362                 26446   \n",
       "\n",
       "      user_listed_count user_media_count                   user_location  \\\n",
       "0                     1              595                             NaN   \n",
       "1                 13072            11460  New Delhi & Thiruvananthapuram   \n",
       "2                     0                3                             NaN   \n",
       "3                   287             1840                         Chennai   \n",
       "4                     2              906                  Kramsk, Polska   \n",
       "...                 ...              ...                             ...   \n",
       "19995                 0                0                             NaN   \n",
       "19996                11              692            United Arab Emirates   \n",
       "19997                 6              306                       Kozhikode   \n",
       "19998              3506            91916                          Mumbai   \n",
       "19999                10               40                 New delhi India   \n",
       "\n",
       "       days_on_twitter tweets_per_day  \n",
       "0                 2317      38.138110  \n",
       "1                 4904      13.722268  \n",
       "2                   12       0.250000  \n",
       "3                 4931      18.129588  \n",
       "4                 4745       4.575553  \n",
       "...                ...            ...  \n",
       "19995              313       0.929712  \n",
       "19996             3981       7.429792  \n",
       "19997             2704       0.547337  \n",
       "19998             4293      86.629164  \n",
       "19999             4155       7.066667  \n",
       "\n",
       "[20000 rows x 29 columns]"
      ]
     },
     "execution_count": 84,
     "metadata": {},
     "output_type": "execute_result"
    }
   ],
   "source": [
    "content_perception_df"
   ]
  },
  {
   "cell_type": "code",
   "execution_count": 85,
   "id": "4866bda4",
   "metadata": {},
   "outputs": [],
   "source": [
    "from scipy import stats"
   ]
  },
  {
   "cell_type": "code",
   "execution_count": 86,
   "id": "72e821f4",
   "metadata": {},
   "outputs": [
    {
     "data": {
      "text/plain": [
       "False    15661\n",
       "True      4339\n",
       "Name: user_verified, dtype: int64"
      ]
     },
     "execution_count": 86,
     "metadata": {},
     "output_type": "execute_result"
    }
   ],
   "source": [
    "content_perception_df['user_verified'].value_counts()"
   ]
  },
  {
   "cell_type": "code",
   "execution_count": 87,
   "id": "0765fe1f",
   "metadata": {},
   "outputs": [
    {
     "data": {
      "text/plain": [
       "non opinionated    12618\n",
       "correct             6898\n",
       "incorrect            484\n",
       "Name: perception, dtype: int64"
      ]
     },
     "execution_count": 87,
     "metadata": {},
     "output_type": "execute_result"
    }
   ],
   "source": [
    "content_perception_df['perception'].value_counts()"
   ]
  },
  {
   "cell_type": "code",
   "execution_count": 88,
   "id": "479ba516",
   "metadata": {},
   "outputs": [
    {
     "data": {
      "text/html": [
       "<div>\n",
       "<style scoped>\n",
       "    .dataframe tbody tr th:only-of-type {\n",
       "        vertical-align: middle;\n",
       "    }\n",
       "\n",
       "    .dataframe tbody tr th {\n",
       "        vertical-align: top;\n",
       "    }\n",
       "\n",
       "    .dataframe thead th {\n",
       "        text-align: right;\n",
       "    }\n",
       "</style>\n",
       "<table border=\"1\" class=\"dataframe\">\n",
       "  <thead>\n",
       "    <tr style=\"text-align: right;\">\n",
       "      <th>perception</th>\n",
       "      <th>correct</th>\n",
       "      <th>incorrect</th>\n",
       "      <th>non opinionated</th>\n",
       "    </tr>\n",
       "    <tr>\n",
       "      <th>user_verified</th>\n",
       "      <th></th>\n",
       "      <th></th>\n",
       "      <th></th>\n",
       "    </tr>\n",
       "  </thead>\n",
       "  <tbody>\n",
       "    <tr>\n",
       "      <th>False</th>\n",
       "      <td>5060</td>\n",
       "      <td>428</td>\n",
       "      <td>10173</td>\n",
       "    </tr>\n",
       "    <tr>\n",
       "      <th>True</th>\n",
       "      <td>1838</td>\n",
       "      <td>56</td>\n",
       "      <td>2445</td>\n",
       "    </tr>\n",
       "  </tbody>\n",
       "</table>\n",
       "</div>"
      ],
      "text/plain": [
       "perception     correct  incorrect  non opinionated\n",
       "user_verified                                     \n",
       "False             5060        428            10173\n",
       "True              1838         56             2445"
      ]
     },
     "execution_count": 88,
     "metadata": {},
     "output_type": "execute_result"
    }
   ],
   "source": [
    "pd.crosstab(content_perception_df['user_verified'], content_perception_df['perception'])"
   ]
  },
  {
   "cell_type": "code",
   "execution_count": 89,
   "id": "12bc3a33",
   "metadata": {},
   "outputs": [
    {
     "data": {
      "text/html": [
       "<div>\n",
       "<style scoped>\n",
       "    .dataframe tbody tr th:only-of-type {\n",
       "        vertical-align: middle;\n",
       "    }\n",
       "\n",
       "    .dataframe tbody tr th {\n",
       "        vertical-align: top;\n",
       "    }\n",
       "\n",
       "    .dataframe thead th {\n",
       "        text-align: right;\n",
       "    }\n",
       "</style>\n",
       "<table border=\"1\" class=\"dataframe\">\n",
       "  <thead>\n",
       "    <tr style=\"text-align: right;\">\n",
       "      <th>perception</th>\n",
       "      <th>correct</th>\n",
       "      <th>incorrect</th>\n",
       "      <th>non opinionated</th>\n",
       "    </tr>\n",
       "    <tr>\n",
       "      <th>user_verified</th>\n",
       "      <th></th>\n",
       "      <th></th>\n",
       "      <th></th>\n",
       "    </tr>\n",
       "  </thead>\n",
       "  <tbody>\n",
       "    <tr>\n",
       "      <th>False</th>\n",
       "      <td>5060</td>\n",
       "      <td>428</td>\n",
       "      <td>10173</td>\n",
       "    </tr>\n",
       "    <tr>\n",
       "      <th>True</th>\n",
       "      <td>1838</td>\n",
       "      <td>56</td>\n",
       "      <td>2445</td>\n",
       "    </tr>\n",
       "  </tbody>\n",
       "</table>\n",
       "</div>"
      ],
      "text/plain": [
       "perception     correct  incorrect  non opinionated\n",
       "user_verified                                     \n",
       "False             5060        428            10173\n",
       "True              1838         56             2445"
      ]
     },
     "execution_count": 89,
     "metadata": {},
     "output_type": "execute_result"
    }
   ],
   "source": [
    "crosstab = pd.crosstab(content_perception_df['user_verified'], content_perception_df['perception'])\n",
    "crosstab"
   ]
  },
  {
   "cell_type": "code",
   "execution_count": 90,
   "id": "489c6071",
   "metadata": {
    "scrolled": true
   },
   "outputs": [
    {
     "data": {
      "text/plain": [
       "(168.6189245186056,\n",
       " 2.4258601959653192e-37,\n",
       " 2,\n",
       " array([[5401.4789,  378.9962, 9880.5249],\n",
       "        [1496.5211,  105.0038, 2737.4751]]))"
      ]
     },
     "execution_count": 90,
     "metadata": {},
     "output_type": "execute_result"
    }
   ],
   "source": [
    "stats.chi2_contingency(crosstab)"
   ]
  },
  {
   "cell_type": "code",
   "execution_count": 91,
   "id": "eb11c776",
   "metadata": {},
   "outputs": [
    {
     "name": "stdout",
     "output_type": "stream",
     "text": [
      "<class 'pandas.core.frame.DataFrame'>\n",
      "RangeIndex: 20000 entries, 0 to 19999\n",
      "Data columns (total 29 columns):\n",
      " #   Column                        Non-Null Count  Dtype              \n",
      "---  ------                        --------------  -----              \n",
      " 0   tokenized_content             20000 non-null  object             \n",
      " 1   sentiment_vader               20000 non-null  object             \n",
      " 2   sub_national_terms_mentioned  20000 non-null  object             \n",
      " 3   centre_terms_mentioned        20000 non-null  object             \n",
      " 4   perception                    20000 non-null  object             \n",
      " 5   Unnamed: 0                    20000 non-null  int64              \n",
      " 6   date                          20000 non-null  datetime64[ns, UTC]\n",
      " 7   content                       20000 non-null  object             \n",
      " 8   replyCount                    20000 non-null  int64              \n",
      " 9   retweetCount                  20000 non-null  int64              \n",
      " 10  likeCount                     20000 non-null  int64              \n",
      " 11  lang                          20000 non-null  object             \n",
      " 12  sourceLabel                   20000 non-null  object             \n",
      " 13  hashtags                      7826 non-null   object             \n",
      " 14  username                      20000 non-null  object             \n",
      " 15  user_dispaly_name             19999 non-null  object             \n",
      " 16  user_description              17983 non-null  object             \n",
      " 17  user_raw_description          17983 non-null  object             \n",
      " 18  user_verified                 20000 non-null  bool               \n",
      " 19  user_created                  20000 non-null  datetime64[ns, UTC]\n",
      " 20  user_followers_count          20000 non-null  int64              \n",
      " 21  user_friends_count            20000 non-null  int64              \n",
      " 22  user_status_count             20000 non-null  int64              \n",
      " 23  user_favourites_count         20000 non-null  int64              \n",
      " 24  user_listed_count             20000 non-null  int64              \n",
      " 25  user_media_count              20000 non-null  int64              \n",
      " 26  user_location                 15109 non-null  object             \n",
      " 27  days_on_twitter               20000 non-null  int64              \n",
      " 28  tweets_per_day                20000 non-null  float64            \n",
      "dtypes: bool(1), datetime64[ns, UTC](2), float64(1), int64(11), object(14)\n",
      "memory usage: 4.3+ MB\n"
     ]
    }
   ],
   "source": [
    "content_perception_df.info()"
   ]
  },
  {
   "cell_type": "code",
   "execution_count": 92,
   "id": "bf11950f",
   "metadata": {},
   "outputs": [],
   "source": [
    "new_content_perception_df = content_perception_df.drop(['tokenized_content', 'sentiment_vader', 'sub_national_terms_mentioned',\n",
    "                 'centre_terms_mentioned', 'Unnamed: 0'], axis = 'columns')"
   ]
  },
  {
   "cell_type": "code",
   "execution_count": 93,
   "id": "d1419368",
   "metadata": {},
   "outputs": [
    {
     "name": "stdout",
     "output_type": "stream",
     "text": [
      "<class 'pandas.core.frame.DataFrame'>\n",
      "RangeIndex: 20000 entries, 0 to 19999\n",
      "Data columns (total 24 columns):\n",
      " #   Column                 Non-Null Count  Dtype              \n",
      "---  ------                 --------------  -----              \n",
      " 0   perception             20000 non-null  object             \n",
      " 1   date                   20000 non-null  datetime64[ns, UTC]\n",
      " 2   content                20000 non-null  object             \n",
      " 3   replyCount             20000 non-null  int64              \n",
      " 4   retweetCount           20000 non-null  int64              \n",
      " 5   likeCount              20000 non-null  int64              \n",
      " 6   lang                   20000 non-null  object             \n",
      " 7   sourceLabel            20000 non-null  object             \n",
      " 8   hashtags               7826 non-null   object             \n",
      " 9   username               20000 non-null  object             \n",
      " 10  user_dispaly_name      19999 non-null  object             \n",
      " 11  user_description       17983 non-null  object             \n",
      " 12  user_raw_description   17983 non-null  object             \n",
      " 13  user_verified          20000 non-null  bool               \n",
      " 14  user_created           20000 non-null  datetime64[ns, UTC]\n",
      " 15  user_followers_count   20000 non-null  int64              \n",
      " 16  user_friends_count     20000 non-null  int64              \n",
      " 17  user_status_count      20000 non-null  int64              \n",
      " 18  user_favourites_count  20000 non-null  int64              \n",
      " 19  user_listed_count      20000 non-null  int64              \n",
      " 20  user_media_count       20000 non-null  int64              \n",
      " 21  user_location          15109 non-null  object             \n",
      " 22  days_on_twitter        20000 non-null  int64              \n",
      " 23  tweets_per_day         20000 non-null  float64            \n",
      "dtypes: bool(1), datetime64[ns, UTC](2), float64(1), int64(10), object(10)\n",
      "memory usage: 3.5+ MB\n"
     ]
    }
   ],
   "source": [
    "new_content_perception_df.info()"
   ]
  },
  {
   "cell_type": "code",
   "execution_count": 94,
   "id": "be7ed220",
   "metadata": {},
   "outputs": [
    {
     "data": {
      "text/plain": [
       "<AxesSubplot:xlabel='perception', ylabel='count'>"
      ]
     },
     "execution_count": 94,
     "metadata": {},
     "output_type": "execute_result"
    },
    {
     "data": {
      "image/png": "[encoded data removed]",
      "text/plain": [
       "<Figure size 640x480 with 1 Axes>"
      ]
     },
     "metadata": {},
     "output_type": "display_data"
    }
   ],
   "source": [
    "sns.countplot(x='perception',data=new_content_perception_df)"
   ]
  },
  {
   "cell_type": "code",
   "execution_count": null,
   "id": "ad4961fa",
   "metadata": {},
   "outputs": [],
   "source": []
  },
  {
   "cell_type": "code",
   "execution_count": 95,
   "id": "1c969c08",
   "metadata": {},
   "outputs": [
    {
     "ename": "NameError",
     "evalue": "name 'content_test_df' is not defined",
     "output_type": "error",
     "traceback": [
      "\u001b[0;31m---------------------------------------------------------------------------\u001b[0m",
      "\u001b[0;31mNameError\u001b[0m                                 Traceback (most recent call last)",
      "\u001b[0;32m<ipython-input-95-01556ac44696>\u001b[0m in \u001b[0;36m<module>\u001b[0;34m\u001b[0m\n\u001b[0;32m----> 1\u001b[0;31m \u001b[0mcontent_test_df\u001b[0m\u001b[0;34m.\u001b[0m\u001b[0mcontent\u001b[0m \u001b[0;34m=\u001b[0m \u001b[0mcontent_test_df\u001b[0m\u001b[0;34m[\u001b[0m\u001b[0;34m'content'\u001b[0m\u001b[0;34m]\u001b[0m\u001b[0;34m.\u001b[0m\u001b[0mapply\u001b[0m\u001b[0;34m(\u001b[0m\u001b[0mpreprocess_content_test_text\u001b[0m\u001b[0;34m)\u001b[0m\u001b[0;34m\u001b[0m\u001b[0;34m\u001b[0m\u001b[0m\n\u001b[0m",
      "\u001b[0;31mNameError\u001b[0m: name 'content_test_df' is not defined"
     ]
    }
   ],
   "source": [
    "content_test_df.content = content_test_df['content'].apply(preprocess_content_test_text)"
   ]
  },
  {
   "cell_type": "code",
   "execution_count": null,
   "id": "374e32e4",
   "metadata": {},
   "outputs": [],
   "source": [
    "content_test_df.content.head()"
   ]
  },
  {
   "cell_type": "code",
   "execution_count": null,
   "id": "e7436dc8",
   "metadata": {},
   "outputs": [],
   "source": [
    "#stemming\n",
    "stemmer = PorterStemmer()\n",
    "def stemming(data):\n",
    "    content = [stemmer.stem(word) for word in data]\n",
    "    return data"
   ]
  },
  {
   "cell_type": "code",
   "execution_count": null,
   "id": "9295e311",
   "metadata": {},
   "outputs": [],
   "source": [
    "content_test_df['content'] = content_test_df['content'].apply(lambda x: stemming(x))"
   ]
  },
  {
   "cell_type": "code",
   "execution_count": null,
   "id": "dd9b3bad",
   "metadata": {},
   "outputs": [],
   "source": [
    "content_test_df"
   ]
  },
  {
   "cell_type": "code",
   "execution_count": null,
   "id": "a81c9c7b",
   "metadata": {},
   "outputs": [],
   "source": [
    "vect = CountVectorizer(ngram_range=(1,2)).fit(content_test_df['content'])"
   ]
  },
  {
   "cell_type": "code",
   "execution_count": null,
   "id": "5c703484",
   "metadata": {},
   "outputs": [],
   "source": [
    "feature_names = vect.get_feature_names()\n",
    "print(\"Number of features: {}\\n\".format(len(feature_names)))\n",
    "print(\"First 20 features:\\n {}\".format(feature_names[:20]))"
   ]
  },
  {
   "cell_type": "code",
   "execution_count": null,
   "id": "e2656bb2",
   "metadata": {},
   "outputs": [],
   "source": [
    "x = content_test_df['content']\n",
    "x = vect.transform(x)"
   ]
  },
  {
   "cell_type": "code",
   "execution_count": null,
   "id": "d49b10b7",
   "metadata": {},
   "outputs": [],
   "source": [
    "x.shape"
   ]
  },
  {
   "cell_type": "code",
   "execution_count": null,
   "id": "2deda1da",
   "metadata": {
    "scrolled": true
   },
   "outputs": [],
   "source": [
    "content_test_df.shape"
   ]
  },
  {
   "cell_type": "code",
   "execution_count": null,
   "id": "e521d66d",
   "metadata": {},
   "outputs": [],
   "source": [
    "prediction = SVCmodel.predict(x)"
   ]
  },
  {
   "cell_type": "code",
   "execution_count": null,
   "id": "0e4fe5ee",
   "metadata": {},
   "outputs": [],
   "source": []
  },
  {
   "cell_type": "code",
   "execution_count": null,
   "id": "db22395c",
   "metadata": {},
   "outputs": [],
   "source": []
  }
 ],
 "metadata": {
  "kernelspec": {
   "display_name": "Python 3",
   "language": "python",
   "name": "python3"
  },
  "language_info": {
   "codemirror_mode": {
    "name": "ipython",
    "version": 3
   },
   "file_extension": ".py",
   "mimetype": "text/x-python",
   "name": "python",
   "nbconvert_exporter": "python",
   "pygments_lexer": "ipython3",
   "version": "3.8.8"
  }
 },
 "nbformat": 4,
 "nbformat_minor": 5
}
