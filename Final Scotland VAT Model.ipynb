{
 "cells": [
  {
   "cell_type": "code",
   "execution_count": null,
   "id": "240887fa",
   "metadata": {},
   "outputs": [],
   "source": [
    "#### Import the necessary libraries (numpy and pandas)\n",
    "import pandas as pd\n",
    "import numpy as np\n",
    "import matplotlib.pyplot as plt\n",
    "import seaborn as sns\n",
    "from matplotlib import style\n",
    "style.use('ggplot')\n",
    "from sklearn import datasets\n",
    "from sklearn.preprocessing import StandardScaler\n",
    "from sklearn.svm import LinearSVC\n",
    "from sklearn.model_selection import train_test_split\n",
    "from sklearn.multiclass import OneVsRestClassifier\n",
    "from sklearn.multiclass import OneVsOneClassifier\n",
    "from sklearn.svm import SVC\n",
    "from sklearn.metrics import confusion_matrix\n",
    "from sklearn.metrics import ConfusionMatrixDisplay\n",
    "from sklearn.metrics import classification_report\n",
    "from sklearn.metrics import precision_score, recall_score\n",
    "from sklearn.model_selection import cross_val_score\n",
    "%matplotlib inline"
   ]
  },
  {
   "cell_type": "code",
   "execution_count": 2,
   "id": "349951cb",
   "metadata": {},
   "outputs": [
    {
     "name": "stderr",
     "output_type": "stream",
     "text": [
      "/Users/noeljoseph/opt/anaconda3/lib/python3.8/site-packages/IPython/core/interactiveshell.py:3165: DtypeWarning: Columns (52,53,54,55,56,162,163,164,165,167,168,169,170,171,173,174,176,177,178,180,181,188,189,190,191,192,193,195,201,202,203,204,205,206,207,212,215,217,220,221,222,223,224,225,226,227,229,230,231,233,234,241,242,243,244,245,246,248,249,250,251,252,253,255,256,258,259,260,262,263,271,272,273,274,275,277,283,284,285,286,287,288,294) have mixed types.Specify dtype option on import or set low_memory=False.\n",
      "  has_raised = await self.run_ast_nodes(code_ast.body, cell_name,\n"
     ]
    }
   ],
   "source": [
    "#read the scraped file\n",
    "df = pd.read_csv('tweetfinalVATscotland.csv')"
   ]
  },
  {
   "cell_type": "code",
   "execution_count": 3,
   "id": "8b3b27cf",
   "metadata": {},
   "outputs": [
    {
     "name": "stdout",
     "output_type": "stream",
     "text": [
      "<class 'pandas.core.frame.DataFrame'>\n",
      "RangeIndex: 7590 entries, 0 to 7589\n",
      "Columns: 299 entries, Unnamed: 0 to quotedTweet.quotedTweet.cashtags\n",
      "dtypes: bool(2), float64(103), int64(14), object(180)\n",
      "memory usage: 17.2+ MB\n"
     ]
    }
   ],
   "source": [
    "df.info()"
   ]
  },
  {
   "cell_type": "code",
   "execution_count": 4,
   "id": "e631fcf0",
   "metadata": {},
   "outputs": [],
   "source": [
    "# drop the columns that are not required\n",
    "df = df.drop(['_type', 'url', 'renderedContent', 'id', 'user',\n",
    "                 'quoteCount', 'conversationId', 'source', 'sourceUrl',\n",
    "                 'outlinks', 'tcooutlinks', 'media', 'retweetedTweet',\n",
    "                 'quotedTweet', 'inReplyToTweetId','inReplyToUser',\n",
    "                 'mentionedUsers', 'coordinates', 'place', 'cashtags',\n",
    "                 'user_type', 'userID', 'user_description_urls',\n",
    "                 'user_protected', 'user_link_url', 'user_linkTcourl',\n",
    "                 'user_profile_imageUrl', 'user_profile_bannerUrl', 'user_label',\n",
    "                 'user_url', 'label._type', 'label.description', 'label.url',\n",
    "                 'label.badgeUrl', 'label.longDescription', '_type', 'id',\n",
    "                 'quotedTweet.mentionedUsers', 'quotedTweet.coordinates',\n",
    "                 'quotedTweet.place', 'quotedTweet.hashtags', 'quotedTweet.cashtags',\n",
    "                  'quotedTweet.source','quotedTweet.sourceUrl', 'quotedTweet.sourceLabel', 'quotedTweet.outlinks',\n",
    "                 'quotedTweet.tcooutlinks', 'quotedTweet.media', 'quotedTweet.retweetedTweet',\n",
    "                 'quotedTweet.quotedTweet', 'quotedTweet.inReplyToTweetId', 'quotedTweet.inReplyToUser'], axis = 'columns')"
   ]
  },
  {
   "cell_type": "code",
   "execution_count": 5,
   "id": "9bd6231e",
   "metadata": {},
   "outputs": [],
   "source": [
    "# drop additional columns that appear towards the right of the last relevant column\n",
    "df.drop(df.columns[[22,23, 24, 25, 26, 27, 28, 29, 30, 31, 32, 33, 34, 35, 36, 37, 38,\n",
    "                    39, 40, 41, 42, 43, 44, 45, 46, 47, 48, 49, 50, 51, 52, 53, 54, 55, 56,\n",
    "                    57, 58, 59, 60, 61, 62, 63, 64, 65, 66, 67, 68, 69, 70, 71, 72, 73, 74, 75,\n",
    "                    76, 77, 78, 79, 80, 81, 82, 83, 84, 85, 86, 87, 88, 89, 90, 91, 92, 93, 94,\n",
    "                    95, 96, 97, 98, 99, 100, 101, 102, 103, 104, 105, 106, 107, 108, 109, 110,\n",
    "                    111, 112, 113, 114, 115, 116, 117, 118, 119, 120, 121, 122, 123, 124, 125,\n",
    "                    126, 127, 128, 129, 130, 131, 132, 133, 134, 135, 136, 137, 138, 139, 140,\n",
    "                    141, 142, 143, 144, 145, 146, 147, 148, 149, 150, 151, 152, 153, 154, 155,\n",
    "                    156, 157, 158, 159, 160, 161]], axis=1, inplace=True)"
   ]
  },
  {
   "cell_type": "code",
   "execution_count": 6,
   "id": "e182674a",
   "metadata": {},
   "outputs": [
    {
     "name": "stdout",
     "output_type": "stream",
     "text": [
      "<class 'pandas.core.frame.DataFrame'>\n",
      "RangeIndex: 7590 entries, 0 to 7589\n",
      "Columns: 109 entries, Unnamed: 0 to quotedTweet.quotedTweet.cashtags\n",
      "dtypes: bool(1), float64(40), int64(10), object(58)\n",
      "memory usage: 6.3+ MB\n"
     ]
    }
   ],
   "source": [
    "df.info()"
   ]
  },
  {
   "cell_type": "code",
   "execution_count": 7,
   "id": "4b2757f2",
   "metadata": {},
   "outputs": [],
   "source": [
    "# drop additional columns that appear towards the right of the last relevant column\n",
    "df.drop(df.columns[[22,23, 24, 25, 26, 27, 28, 29, 30, 31, 32, 33, 34, 35, 36, 37, 38,\n",
    "                    39, 40, 41, 42, 43, 44, 45, 46, 47, 48, 49, 50, 51, 52, 53, 54, 55, 56,\n",
    "                    57, 58, 59, 60, 61, 62, 63, 64, 65, 66, 67, 68, 69, 70, 71, 72, 73, 74, 75,\n",
    "                    76, 77, 78, 79, 80, 81, 82, 83, 84, 85, 86, 87, 88, 89, 90, 91, 92, 93, 94,\n",
    "                    95, 96, 97, 98, 99, 100, 101, 102, 103, 104, 105, 106, 107, 108]], axis=1, inplace=True)"
   ]
  },
  {
   "cell_type": "code",
   "execution_count": 8,
   "id": "0e014933",
   "metadata": {},
   "outputs": [
    {
     "name": "stdout",
     "output_type": "stream",
     "text": [
      "<class 'pandas.core.frame.DataFrame'>\n",
      "RangeIndex: 7590 entries, 0 to 7589\n",
      "Data columns (total 22 columns):\n",
      " #   Column                 Non-Null Count  Dtype \n",
      "---  ------                 --------------  ----- \n",
      " 0   Unnamed: 0             7590 non-null   int64 \n",
      " 1   date                   7590 non-null   object\n",
      " 2   content                7590 non-null   object\n",
      " 3   replyCount             7590 non-null   int64 \n",
      " 4   retweetCount           7590 non-null   int64 \n",
      " 5   likeCount              7590 non-null   int64 \n",
      " 6   lang                   7590 non-null   object\n",
      " 7   sourceLabel            7590 non-null   object\n",
      " 8   hashtags               1370 non-null   object\n",
      " 9   username               7590 non-null   object\n",
      " 10  user_dispaly_name      7590 non-null   object\n",
      " 11  user_description       6783 non-null   object\n",
      " 12  user_raw_description   6783 non-null   object\n",
      " 13  user_verified          7590 non-null   bool  \n",
      " 14  user_created           7590 non-null   object\n",
      " 15  user_followers_count   7590 non-null   int64 \n",
      " 16  user_friends_count     7590 non-null   int64 \n",
      " 17  user_status_count      7590 non-null   int64 \n",
      " 18  user_favourites_count  7590 non-null   int64 \n",
      " 19  user_listed_count      7590 non-null   int64 \n",
      " 20  user_media_count       7590 non-null   int64 \n",
      " 21  user_location          6097 non-null   object\n",
      "dtypes: bool(1), int64(10), object(11)\n",
      "memory usage: 1.2+ MB\n"
     ]
    }
   ],
   "source": [
    "df.info()"
   ]
  },
  {
   "cell_type": "code",
   "execution_count": 9,
   "id": "e9c0abfb",
   "metadata": {},
   "outputs": [],
   "source": [
    "# drop the rows\n",
    "df.drop(df.index[5500:4907],0,inplace=True)"
   ]
  },
  {
   "cell_type": "code",
   "execution_count": 10,
   "id": "1a330dd6",
   "metadata": {
    "scrolled": true
   },
   "outputs": [
    {
     "name": "stdout",
     "output_type": "stream",
     "text": [
      "<class 'pandas.core.frame.DataFrame'>\n",
      "Int64Index: 7590 entries, 0 to 7589\n",
      "Data columns (total 22 columns):\n",
      " #   Column                 Non-Null Count  Dtype \n",
      "---  ------                 --------------  ----- \n",
      " 0   Unnamed: 0             7590 non-null   int64 \n",
      " 1   date                   7590 non-null   object\n",
      " 2   content                7590 non-null   object\n",
      " 3   replyCount             7590 non-null   int64 \n",
      " 4   retweetCount           7590 non-null   int64 \n",
      " 5   likeCount              7590 non-null   int64 \n",
      " 6   lang                   7590 non-null   object\n",
      " 7   sourceLabel            7590 non-null   object\n",
      " 8   hashtags               1370 non-null   object\n",
      " 9   username               7590 non-null   object\n",
      " 10  user_dispaly_name      7590 non-null   object\n",
      " 11  user_description       6783 non-null   object\n",
      " 12  user_raw_description   6783 non-null   object\n",
      " 13  user_verified          7590 non-null   bool  \n",
      " 14  user_created           7590 non-null   object\n",
      " 15  user_followers_count   7590 non-null   int64 \n",
      " 16  user_friends_count     7590 non-null   int64 \n",
      " 17  user_status_count      7590 non-null   int64 \n",
      " 18  user_favourites_count  7590 non-null   int64 \n",
      " 19  user_listed_count      7590 non-null   int64 \n",
      " 20  user_media_count       7590 non-null   int64 \n",
      " 21  user_location          6097 non-null   object\n",
      "dtypes: bool(1), int64(10), object(11)\n",
      "memory usage: 1.3+ MB\n"
     ]
    }
   ],
   "source": [
    "df.info()"
   ]
  },
  {
   "cell_type": "code",
   "execution_count": 11,
   "id": "c4ae2a61",
   "metadata": {},
   "outputs": [
    {
     "data": {
      "image/png": "[encoded data removed]",
      "text/plain": [
       "<Figure size 1440x1080 with 12 Axes>"
      ]
     },
     "metadata": {
      "needs_background": "light"
     },
     "output_type": "display_data"
    }
   ],
   "source": [
    "#visualising for better undertanding of the spread of the variables\n",
    "df.hist(bins=100, figsize=(20,15))\n",
    "plt.show()"
   ]
  },
  {
   "cell_type": "code",
   "execution_count": 12,
   "id": "e9d1489f",
   "metadata": {},
   "outputs": [],
   "source": [
    "# IMPORT modules for natural language processing"
   ]
  },
  {
   "cell_type": "code",
   "execution_count": 13,
   "id": "34b16970",
   "metadata": {},
   "outputs": [],
   "source": [
    "import re\n",
    "import string\n",
    "import nltk"
   ]
  },
  {
   "cell_type": "code",
   "execution_count": 14,
   "id": "0ad670dc",
   "metadata": {},
   "outputs": [],
   "source": [
    "from nltk.corpus import stopwords\n",
    "from nltk.tokenize import word_tokenize\n",
    "from nltk.stem import PorterStemmer\n",
    "from nltk.stem import WordNetLemmatizer\n",
    "from sklearn.model_selection import train_test_split"
   ]
  },
  {
   "cell_type": "code",
   "execution_count": 15,
   "id": "e1429411",
   "metadata": {
    "scrolled": true
   },
   "outputs": [
    {
     "name": "stderr",
     "output_type": "stream",
     "text": [
      "[nltk_data] Downloading package stopwords to\n",
      "[nltk_data]     /Users/noeljoseph/nltk_data...\n",
      "[nltk_data]   Package stopwords is already up-to-date!\n"
     ]
    }
   ],
   "source": [
    "#creating a stopwords set\n",
    "import nltk\n",
    "nltk.download('stopwords')\n",
    "stop_words = set(stopwords.words('english'))"
   ]
  },
  {
   "cell_type": "code",
   "execution_count": 16,
   "id": "0420db6b",
   "metadata": {},
   "outputs": [
    {
     "data": {
      "text/plain": [
       "Index(['Unnamed: 0', 'date', 'content', 'replyCount', 'retweetCount',\n",
       "       'likeCount', 'lang', 'sourceLabel', 'hashtags', 'username',\n",
       "       'user_dispaly_name', 'user_description', 'user_raw_description',\n",
       "       'user_verified', 'user_created', 'user_followers_count',\n",
       "       'user_friends_count', 'user_status_count', 'user_favourites_count',\n",
       "       'user_listed_count', 'user_media_count', 'user_location'],\n",
       "      dtype='object')"
      ]
     },
     "execution_count": 16,
     "metadata": {},
     "output_type": "execute_result"
    }
   ],
   "source": [
    "df.columns"
   ]
  },
  {
   "cell_type": "code",
   "execution_count": 17,
   "id": "1f70165b",
   "metadata": {},
   "outputs": [
    {
     "data": {
      "text/plain": [
       "<AxesSubplot:>"
      ]
     },
     "execution_count": 17,
     "metadata": {},
     "output_type": "execute_result"
    },
    {
     "data": {
      "image/png": "[encoded data removed]",
      "text/plain": [
       "<Figure size 432x288 with 2 Axes>"
      ]
     },
     "metadata": {
      "needs_background": "light"
     },
     "output_type": "display_data"
    }
   ],
   "source": [
    "import seaborn as sns\n",
    "sns.heatmap(df.corr())"
   ]
  },
  {
   "cell_type": "code",
   "execution_count": 18,
   "id": "c3f6db95",
   "metadata": {},
   "outputs": [
    {
     "name": "stdout",
     "output_type": "stream",
     "text": [
      "Percentage False    0.970092\n",
      "True     0.029908\n",
      "Name: user_verified, dtype: float64\n"
     ]
    },
    {
     "data": {
      "text/plain": [
       "<AxesSubplot:ylabel='user_verified'>"
      ]
     },
     "execution_count": 18,
     "metadata": {},
     "output_type": "execute_result"
    },
    {
     "data": {
      "image/png": "[encoded data removed]",
      "text/plain": [
       "<Figure size 432x288 with 1 Axes>"
      ]
     },
     "metadata": {},
     "output_type": "display_data"
    }
   ],
   "source": [
    "print('Percentage',df.user_verified.value_counts(normalize=True))\n",
    "df.user_verified.value_counts(normalize=True).plot(kind='pie')"
   ]
  },
  {
   "cell_type": "code",
   "execution_count": 19,
   "id": "35b6a526",
   "metadata": {},
   "outputs": [
    {
     "data": {
      "text/plain": [
       "Index(['Unnamed: 0', 'date', 'content', 'replyCount', 'retweetCount',\n",
       "       'likeCount', 'lang', 'sourceLabel', 'hashtags', 'username',\n",
       "       'user_dispaly_name', 'user_description', 'user_raw_description',\n",
       "       'user_verified', 'user_created', 'user_followers_count',\n",
       "       'user_friends_count', 'user_status_count', 'user_favourites_count',\n",
       "       'user_listed_count', 'user_media_count', 'user_location'],\n",
       "      dtype='object')"
      ]
     },
     "execution_count": 19,
     "metadata": {},
     "output_type": "execute_result"
    }
   ],
   "source": [
    "df.columns"
   ]
  },
  {
   "cell_type": "code",
   "execution_count": null,
   "id": "ece85a44",
   "metadata": {},
   "outputs": [],
   "source": []
  },
  {
   "cell_type": "code",
   "execution_count": 20,
   "id": "28a013a1",
   "metadata": {
    "scrolled": true
   },
   "outputs": [
    {
     "data": {
      "text/html": [
       "<div>\n",
       "<style scoped>\n",
       "    .dataframe tbody tr th:only-of-type {\n",
       "        vertical-align: middle;\n",
       "    }\n",
       "\n",
       "    .dataframe tbody tr th {\n",
       "        vertical-align: top;\n",
       "    }\n",
       "\n",
       "    .dataframe thead th {\n",
       "        text-align: right;\n",
       "    }\n",
       "</style>\n",
       "<table border=\"1\" class=\"dataframe\">\n",
       "  <thead>\n",
       "    <tr style=\"text-align: right;\">\n",
       "      <th></th>\n",
       "      <th>content</th>\n",
       "    </tr>\n",
       "  </thead>\n",
       "  <tbody>\n",
       "    <tr>\n",
       "      <th>0</th>\n",
       "      <td>@ghost_of_prof @zarkwan @dmck52 @tbablue1 @Ted...</td>\n",
       "    </tr>\n",
       "    <tr>\n",
       "      <th>1</th>\n",
       "      <td>@bilbo815 all VAT raised in Scotland goes on o...</td>\n",
       "    </tr>\n",
       "    <tr>\n",
       "      <th>2</th>\n",
       "      <td>@TERRYBUTCHER20 @IndyOnSkye They won't cancel ...</td>\n",
       "    </tr>\n",
       "    <tr>\n",
       "      <th>3</th>\n",
       "      <td>@OnThe7thDay1 @notbilge @CSG1973 @LeithWhisky ...</td>\n",
       "    </tr>\n",
       "    <tr>\n",
       "      <th>4</th>\n",
       "      <td>@IncognitoMV @CSG1973 @LeithWhisky @edlonguk @...</td>\n",
       "    </tr>\n",
       "  </tbody>\n",
       "</table>\n",
       "</div>"
      ],
      "text/plain": [
       "                                             content\n",
       "0  @ghost_of_prof @zarkwan @dmck52 @tbablue1 @Ted...\n",
       "1  @bilbo815 all VAT raised in Scotland goes on o...\n",
       "2  @TERRYBUTCHER20 @IndyOnSkye They won't cancel ...\n",
       "3  @OnThe7thDay1 @notbilge @CSG1973 @LeithWhisky ...\n",
       "4  @IncognitoMV @CSG1973 @LeithWhisky @edlonguk @..."
      ]
     },
     "execution_count": 20,
     "metadata": {},
     "output_type": "execute_result"
    }
   ],
   "source": [
    "# make a new dataframe with only content\n",
    "content_df = df.drop(['Unnamed: 0', 'date', 'replyCount', 'retweetCount',\n",
    "                      'likeCount', 'lang', 'sourceLabel', 'hashtags', 'username',\n",
    "                      'user_dispaly_name', 'user_description', 'user_raw_description',\n",
    "                      'user_verified', 'user_created', 'user_followers_count',\n",
    "                      'user_friends_count', 'user_status_count', 'user_favourites_count',\n",
    "                      'user_listed_count', 'user_media_count', 'user_location'], axis=1)\n",
    "content_df.head()"
   ]
  },
  {
   "cell_type": "code",
   "execution_count": 21,
   "id": "c26a6ac8",
   "metadata": {
    "scrolled": true
   },
   "outputs": [
    {
     "name": "stdout",
     "output_type": "stream",
     "text": [
      "<class 'pandas.core.frame.DataFrame'>\n",
      "Int64Index: 7590 entries, 0 to 7589\n",
      "Data columns (total 1 columns):\n",
      " #   Column   Non-Null Count  Dtype \n",
      "---  ------   --------------  ----- \n",
      " 0   content  7590 non-null   object\n",
      "dtypes: object(1)\n",
      "memory usage: 118.6+ KB\n"
     ]
    }
   ],
   "source": [
    "content_df.info()"
   ]
  },
  {
   "cell_type": "code",
   "execution_count": 22,
   "id": "197be4c7",
   "metadata": {},
   "outputs": [],
   "source": [
    "content_df = content_df.rename(columns={'content':'tokenized_content'})"
   ]
  },
  {
   "cell_type": "code",
   "execution_count": 23,
   "id": "341eb09f",
   "metadata": {},
   "outputs": [
    {
     "data": {
      "text/html": [
       "<div>\n",
       "<style scoped>\n",
       "    .dataframe tbody tr th:only-of-type {\n",
       "        vertical-align: middle;\n",
       "    }\n",
       "\n",
       "    .dataframe tbody tr th {\n",
       "        vertical-align: top;\n",
       "    }\n",
       "\n",
       "    .dataframe thead th {\n",
       "        text-align: right;\n",
       "    }\n",
       "</style>\n",
       "<table border=\"1\" class=\"dataframe\">\n",
       "  <thead>\n",
       "    <tr style=\"text-align: right;\">\n",
       "      <th></th>\n",
       "      <th>tokenized_content</th>\n",
       "    </tr>\n",
       "  </thead>\n",
       "  <tbody>\n",
       "    <tr>\n",
       "      <th>0</th>\n",
       "      <td>@ghost_of_prof @zarkwan @dmck52 @tbablue1 @Ted...</td>\n",
       "    </tr>\n",
       "    <tr>\n",
       "      <th>1</th>\n",
       "      <td>@bilbo815 all VAT raised in Scotland goes on o...</td>\n",
       "    </tr>\n",
       "    <tr>\n",
       "      <th>2</th>\n",
       "      <td>@TERRYBUTCHER20 @IndyOnSkye They won't cancel ...</td>\n",
       "    </tr>\n",
       "    <tr>\n",
       "      <th>3</th>\n",
       "      <td>@OnThe7thDay1 @notbilge @CSG1973 @LeithWhisky ...</td>\n",
       "    </tr>\n",
       "    <tr>\n",
       "      <th>4</th>\n",
       "      <td>@IncognitoMV @CSG1973 @LeithWhisky @edlonguk @...</td>\n",
       "    </tr>\n",
       "  </tbody>\n",
       "</table>\n",
       "</div>"
      ],
      "text/plain": [
       "                                   tokenized_content\n",
       "0  @ghost_of_prof @zarkwan @dmck52 @tbablue1 @Ted...\n",
       "1  @bilbo815 all VAT raised in Scotland goes on o...\n",
       "2  @TERRYBUTCHER20 @IndyOnSkye They won't cancel ...\n",
       "3  @OnThe7thDay1 @notbilge @CSG1973 @LeithWhisky ...\n",
       "4  @IncognitoMV @CSG1973 @LeithWhisky @edlonguk @..."
      ]
     },
     "execution_count": 23,
     "metadata": {},
     "output_type": "execute_result"
    }
   ],
   "source": [
    "content_df.head()"
   ]
  },
  {
   "cell_type": "code",
   "execution_count": 24,
   "id": "1cd8c620",
   "metadata": {},
   "outputs": [],
   "source": [
    "def preprocess_content_text(content):\n",
    "    \n",
    "    #convert all text to lowercase\n",
    "    content = content.lower()\n",
    "    \n",
    "    #remove any urls\n",
    "    content = re.sub(r\"http\\S+|www\\S+|https\\s+\", \"\", content, flags=re.MULTILINE)\n",
    "    \n",
    "    #remove punctuations\n",
    "    content = content.translate(str.maketrans(\"\", \"\", string.punctuation))\n",
    "    \n",
    "    #remove # from tweet\n",
    "    content = re.sub(r'\\#', \"\", content)\n",
    "    \n",
    "    #remove stopwords\n",
    "    content_tokens = word_tokenize(content)\n",
    "    filtered_words = [word for word in content_tokens if word not in stop_words]\n",
    "    \n",
    "    #stemming\n",
    "    #ps = PorterStemmer()\n",
    "    #stemmed_words = [ps.stem(w) for w in filtered_words]\n",
    "    \n",
    "    #lemmatizing\n",
    "    #lemmatizer = WordNetLemmatizer()\n",
    "    #lemma_words = [lemmatizer.lemmatize(w, pos='a') for w in stemmed_words]\n",
    "    \n",
    "    return \" \".join(filtered_words)\n",
    "    "
   ]
  },
  {
   "cell_type": "code",
   "execution_count": 25,
   "id": "f98aedfe",
   "metadata": {},
   "outputs": [],
   "source": [
    "content_df.tokenized_content = content_df['tokenized_content'].apply(preprocess_content_text)"
   ]
  },
  {
   "cell_type": "code",
   "execution_count": 26,
   "id": "3d1e33d9",
   "metadata": {},
   "outputs": [
    {
     "data": {
      "text/plain": [
       "0    ghostofprof zarkwan dmck52 tbablue1 tedii69 qp...\n",
       "1    bilbo815 vat raised scotland goes books scotti...\n",
       "2    terrybutcher20 indyonskye wont cancel treasury...\n",
       "3    onthe7thday1 notbilge csg1973 leithwhisky edlo...\n",
       "4    incognitomv csg1973 leithwhisky edlonguk marti...\n",
       "Name: tokenized_content, dtype: object"
      ]
     },
     "execution_count": 26,
     "metadata": {},
     "output_type": "execute_result"
    }
   ],
   "source": [
    "content_df.tokenized_content.head()\n",
    "                "
   ]
  },
  {
   "cell_type": "code",
   "execution_count": 27,
   "id": "8b278d46",
   "metadata": {},
   "outputs": [],
   "source": [
    "#content_df = content_df.drop_duplicates('content')"
   ]
  },
  {
   "cell_type": "code",
   "execution_count": 28,
   "id": "2f3c5607",
   "metadata": {
    "scrolled": true
   },
   "outputs": [],
   "source": [
    "#stemming\n",
    "stemmer = PorterStemmer()\n",
    "def stemming(data):\n",
    "    content = [stemmer.stem(word) for word in data]\n",
    "    return data"
   ]
  },
  {
   "cell_type": "code",
   "execution_count": 29,
   "id": "35581d94",
   "metadata": {},
   "outputs": [],
   "source": [
    "content_df['tokenized_content'] = content_df['tokenized_content'].apply(lambda x: stemming(x))"
   ]
  },
  {
   "cell_type": "code",
   "execution_count": 30,
   "id": "81afe407",
   "metadata": {},
   "outputs": [
    {
     "data": {
      "text/plain": [
       "'ghostofprof zarkwan dmck52 tbablue1 tedii69 qp12guy pjnichols ayerightyiare tedditchburnnnp dmaz95hayden 2351onthelist northerner juantu81993858 mikeythebuddie mehercle hai62 davidda54355054 83boabobski mrlouisb22 gman86159160 alexfergus0n monadvx1 dundeetrooper angeblue55 bustersbarspain dotsy1978 honestdan5 asimov200 afc1903mad alexc1995324 cromwellian77 dorokusaitweet 45bally dsgaire catherinemcker dealatrip douglasstocks2 isleofbuteman bishopsmithy linairemcrae smuraok iscotgov wildmountain1 govruk elmo11211 xxander1968 billylennox6 boycottsbat flyingsaltire people prepared pay much higher taxes denmark vat 25 everything newspapers even children ’ clothes exempt tax uk scotland dependency economy enough highearning taxpayers fund government'"
      ]
     },
     "execution_count": 30,
     "metadata": {},
     "output_type": "execute_result"
    }
   ],
   "source": [
    "# check the data after pre-processing\n",
    "content_df['tokenized_content'][0]"
   ]
  },
  {
   "cell_type": "code",
   "execution_count": 31,
   "id": "f3cd5268",
   "metadata": {},
   "outputs": [
    {
     "name": "stderr",
     "output_type": "stream",
     "text": [
      "[nltk_data] Downloading package vader_lexicon to\n",
      "[nltk_data]     /Users/noeljoseph/nltk_data...\n",
      "[nltk_data]   Package vader_lexicon is already up-to-date!\n"
     ]
    },
    {
     "data": {
      "text/plain": [
       "True"
      ]
     },
     "execution_count": 31,
     "metadata": {},
     "output_type": "execute_result"
    }
   ],
   "source": [
    "# import VADER for sentiment analysis\n",
    "import nltk\n",
    "nltk.download('vader_lexicon')"
   ]
  },
  {
   "cell_type": "code",
   "execution_count": 32,
   "id": "bd53f969",
   "metadata": {},
   "outputs": [],
   "source": [
    "from nltk.sentiment import SentimentIntensityAnalyzer\n",
    "sia = SentimentIntensityAnalyzer()"
   ]
  },
  {
   "cell_type": "code",
   "execution_count": 33,
   "id": "567cf482",
   "metadata": {},
   "outputs": [],
   "source": [
    "def sentiment_vader(content):\n",
    "    over_all_polarity = sia.polarity_scores(content)\n",
    "    if over_all_polarity['compound'] >= 0.05:\n",
    "        return \"positive\"\n",
    "    elif over_all_polarity['compound'] <= -0.05:\n",
    "        return \"negative\"\n",
    "    else:\n",
    "        return \"neutral\""
   ]
  },
  {
   "cell_type": "code",
   "execution_count": 34,
   "id": "fbc9d908",
   "metadata": {},
   "outputs": [],
   "source": [
    "content_df['sentiment_vader'] = content_df['tokenized_content'].apply(lambda x: sentiment_vader(x))"
   ]
  },
  {
   "cell_type": "code",
   "execution_count": 35,
   "id": "ce5e4109",
   "metadata": {
    "scrolled": false
   },
   "outputs": [
    {
     "data": {
      "text/html": [
       "<div>\n",
       "<style scoped>\n",
       "    .dataframe tbody tr th:only-of-type {\n",
       "        vertical-align: middle;\n",
       "    }\n",
       "\n",
       "    .dataframe tbody tr th {\n",
       "        vertical-align: top;\n",
       "    }\n",
       "\n",
       "    .dataframe thead th {\n",
       "        text-align: right;\n",
       "    }\n",
       "</style>\n",
       "<table border=\"1\" class=\"dataframe\">\n",
       "  <thead>\n",
       "    <tr style=\"text-align: right;\">\n",
       "      <th></th>\n",
       "      <th>tokenized_content</th>\n",
       "      <th>sentiment_vader</th>\n",
       "    </tr>\n",
       "  </thead>\n",
       "  <tbody>\n",
       "    <tr>\n",
       "      <th>0</th>\n",
       "      <td>ghostofprof zarkwan dmck52 tbablue1 tedii69 qp...</td>\n",
       "      <td>positive</td>\n",
       "    </tr>\n",
       "    <tr>\n",
       "      <th>1</th>\n",
       "      <td>bilbo815 vat raised scotland goes books scotti...</td>\n",
       "      <td>neutral</td>\n",
       "    </tr>\n",
       "    <tr>\n",
       "      <th>2</th>\n",
       "      <td>terrybutcher20 indyonskye wont cancel treasury...</td>\n",
       "      <td>positive</td>\n",
       "    </tr>\n",
       "    <tr>\n",
       "      <th>3</th>\n",
       "      <td>onthe7thday1 notbilge csg1973 leithwhisky edlo...</td>\n",
       "      <td>neutral</td>\n",
       "    </tr>\n",
       "    <tr>\n",
       "      <th>4</th>\n",
       "      <td>incognitomv csg1973 leithwhisky edlonguk marti...</td>\n",
       "      <td>neutral</td>\n",
       "    </tr>\n",
       "    <tr>\n",
       "      <th>...</th>\n",
       "      <td>...</td>\n",
       "      <td>...</td>\n",
       "    </tr>\n",
       "    <tr>\n",
       "      <th>7585</th>\n",
       "      <td>thesnp include record employment well lowest u...</td>\n",
       "      <td>negative</td>\n",
       "    </tr>\n",
       "    <tr>\n",
       "      <th>7586</th>\n",
       "      <td>deescattered pemcneil annenougat1959 ruthdavid...</td>\n",
       "      <td>positive</td>\n",
       "    </tr>\n",
       "    <tr>\n",
       "      <th>7587</th>\n",
       "      <td>sfi123 maryconnor4567 left shetland police pol...</td>\n",
       "      <td>negative</td>\n",
       "    </tr>\n",
       "    <tr>\n",
       "      <th>7588</th>\n",
       "      <td>sfi123 maryconnor4567 rules made government po...</td>\n",
       "      <td>negative</td>\n",
       "    </tr>\n",
       "    <tr>\n",
       "      <th>7589</th>\n",
       "      <td>dcwsco thesnp govuk opposing political reasons...</td>\n",
       "      <td>negative</td>\n",
       "    </tr>\n",
       "  </tbody>\n",
       "</table>\n",
       "<p>7590 rows × 2 columns</p>\n",
       "</div>"
      ],
      "text/plain": [
       "                                      tokenized_content sentiment_vader\n",
       "0     ghostofprof zarkwan dmck52 tbablue1 tedii69 qp...        positive\n",
       "1     bilbo815 vat raised scotland goes books scotti...         neutral\n",
       "2     terrybutcher20 indyonskye wont cancel treasury...        positive\n",
       "3     onthe7thday1 notbilge csg1973 leithwhisky edlo...         neutral\n",
       "4     incognitomv csg1973 leithwhisky edlonguk marti...         neutral\n",
       "...                                                 ...             ...\n",
       "7585  thesnp include record employment well lowest u...        negative\n",
       "7586  deescattered pemcneil annenougat1959 ruthdavid...        positive\n",
       "7587  sfi123 maryconnor4567 left shetland police pol...        negative\n",
       "7588  sfi123 maryconnor4567 rules made government po...        negative\n",
       "7589  dcwsco thesnp govuk opposing political reasons...        negative\n",
       "\n",
       "[7590 rows x 2 columns]"
      ]
     },
     "execution_count": 35,
     "metadata": {},
     "output_type": "execute_result"
    }
   ],
   "source": [
    "#diplay the dataframe with the new column for sentiment\n",
    "content_df"
   ]
  },
  {
   "cell_type": "code",
   "execution_count": 36,
   "id": "5e8b6526",
   "metadata": {},
   "outputs": [
    {
     "name": "stdout",
     "output_type": "stream",
     "text": [
      "Percentage positive    0.505138\n",
      "negative    0.281950\n",
      "neutral     0.212912\n",
      "Name: sentiment_vader, dtype: float64\n"
     ]
    }
   ],
   "source": [
    "print('Percentage',content_df['sentiment_vader'].value_counts(normalize=True))\n",
    "#content_df.sentiment_vader._counts(normalize=True).plot(kind='pie')"
   ]
  },
  {
   "cell_type": "code",
   "execution_count": null,
   "id": "be998bec",
   "metadata": {},
   "outputs": [],
   "source": [
    "positive_tweets= content_df[content_df.sentiment_vader == 'positive']\n",
    "positive_tweets = positive_tweets.sort_value"
   ]
  },
  {
   "cell_type": "code",
   "execution_count": 37,
   "id": "85d73e76",
   "metadata": {},
   "outputs": [],
   "source": [
    "#extracting the positive for state\n",
    "def positive_mention_state(content):\n",
    "    terms = re.findall(\"Treasury|UK|HMRC|England|union|reserved|tories\", content)\n",
    "    \n",
    "    return terms"
   ]
  },
  {
   "cell_type": "code",
   "execution_count": 38,
   "id": "1b8e53c5",
   "metadata": {
    "scrolled": true
   },
   "outputs": [],
   "source": [
    "content_df['centre_terms_mentioned'] = content_df['tokenized_content'].apply(lambda x: positive_mention_state(x))"
   ]
  },
  {
   "cell_type": "code",
   "execution_count": 39,
   "id": "d3d339b4",
   "metadata": {},
   "outputs": [
    {
     "data": {
      "text/html": [
       "<div>\n",
       "<style scoped>\n",
       "    .dataframe tbody tr th:only-of-type {\n",
       "        vertical-align: middle;\n",
       "    }\n",
       "\n",
       "    .dataframe tbody tr th {\n",
       "        vertical-align: top;\n",
       "    }\n",
       "\n",
       "    .dataframe thead th {\n",
       "        text-align: right;\n",
       "    }\n",
       "</style>\n",
       "<table border=\"1\" class=\"dataframe\">\n",
       "  <thead>\n",
       "    <tr style=\"text-align: right;\">\n",
       "      <th></th>\n",
       "      <th>tokenized_content</th>\n",
       "      <th>sentiment_vader</th>\n",
       "      <th>centre_terms_mentioned</th>\n",
       "    </tr>\n",
       "  </thead>\n",
       "  <tbody>\n",
       "    <tr>\n",
       "      <th>0</th>\n",
       "      <td>ghostofprof zarkwan dmck52 tbablue1 tedii69 qp...</td>\n",
       "      <td>positive</td>\n",
       "      <td>[]</td>\n",
       "    </tr>\n",
       "    <tr>\n",
       "      <th>1</th>\n",
       "      <td>bilbo815 vat raised scotland goes books scotti...</td>\n",
       "      <td>neutral</td>\n",
       "      <td>[]</td>\n",
       "    </tr>\n",
       "    <tr>\n",
       "      <th>2</th>\n",
       "      <td>terrybutcher20 indyonskye wont cancel treasury...</td>\n",
       "      <td>positive</td>\n",
       "      <td>[]</td>\n",
       "    </tr>\n",
       "    <tr>\n",
       "      <th>3</th>\n",
       "      <td>onthe7thday1 notbilge csg1973 leithwhisky edlo...</td>\n",
       "      <td>neutral</td>\n",
       "      <td>[]</td>\n",
       "    </tr>\n",
       "    <tr>\n",
       "      <th>4</th>\n",
       "      <td>incognitomv csg1973 leithwhisky edlonguk marti...</td>\n",
       "      <td>neutral</td>\n",
       "      <td>[]</td>\n",
       "    </tr>\n",
       "    <tr>\n",
       "      <th>...</th>\n",
       "      <td>...</td>\n",
       "      <td>...</td>\n",
       "      <td>...</td>\n",
       "    </tr>\n",
       "    <tr>\n",
       "      <th>7585</th>\n",
       "      <td>thesnp include record employment well lowest u...</td>\n",
       "      <td>negative</td>\n",
       "      <td>[]</td>\n",
       "    </tr>\n",
       "    <tr>\n",
       "      <th>7586</th>\n",
       "      <td>deescattered pemcneil annenougat1959 ruthdavid...</td>\n",
       "      <td>positive</td>\n",
       "      <td>[]</td>\n",
       "    </tr>\n",
       "    <tr>\n",
       "      <th>7587</th>\n",
       "      <td>sfi123 maryconnor4567 left shetland police pol...</td>\n",
       "      <td>negative</td>\n",
       "      <td>[]</td>\n",
       "    </tr>\n",
       "    <tr>\n",
       "      <th>7588</th>\n",
       "      <td>sfi123 maryconnor4567 rules made government po...</td>\n",
       "      <td>negative</td>\n",
       "      <td>[]</td>\n",
       "    </tr>\n",
       "    <tr>\n",
       "      <th>7589</th>\n",
       "      <td>dcwsco thesnp govuk opposing political reasons...</td>\n",
       "      <td>negative</td>\n",
       "      <td>[union, union]</td>\n",
       "    </tr>\n",
       "  </tbody>\n",
       "</table>\n",
       "<p>7590 rows × 3 columns</p>\n",
       "</div>"
      ],
      "text/plain": [
       "                                      tokenized_content sentiment_vader  \\\n",
       "0     ghostofprof zarkwan dmck52 tbablue1 tedii69 qp...        positive   \n",
       "1     bilbo815 vat raised scotland goes books scotti...         neutral   \n",
       "2     terrybutcher20 indyonskye wont cancel treasury...        positive   \n",
       "3     onthe7thday1 notbilge csg1973 leithwhisky edlo...         neutral   \n",
       "4     incognitomv csg1973 leithwhisky edlonguk marti...         neutral   \n",
       "...                                                 ...             ...   \n",
       "7585  thesnp include record employment well lowest u...        negative   \n",
       "7586  deescattered pemcneil annenougat1959 ruthdavid...        positive   \n",
       "7587  sfi123 maryconnor4567 left shetland police pol...        negative   \n",
       "7588  sfi123 maryconnor4567 rules made government po...        negative   \n",
       "7589  dcwsco thesnp govuk opposing political reasons...        negative   \n",
       "\n",
       "     centre_terms_mentioned  \n",
       "0                        []  \n",
       "1                        []  \n",
       "2                        []  \n",
       "3                        []  \n",
       "4                        []  \n",
       "...                     ...  \n",
       "7585                     []  \n",
       "7586                     []  \n",
       "7587                     []  \n",
       "7588                     []  \n",
       "7589         [union, union]  \n",
       "\n",
       "[7590 rows x 3 columns]"
      ]
     },
     "execution_count": 39,
     "metadata": {},
     "output_type": "execute_result"
    }
   ],
   "source": [
    "content_df"
   ]
  },
  {
   "cell_type": "code",
   "execution_count": 40,
   "id": "d2286f59",
   "metadata": {},
   "outputs": [],
   "source": [
    "#extracting the positive for state\n",
    "def positive_mention_state(content):\n",
    "    terms = re.findall(\"SNP|holyrood|Sturgeon\", content)\n",
    "    \n",
    "    return terms"
   ]
  },
  {
   "cell_type": "code",
   "execution_count": 41,
   "id": "0eaf150e",
   "metadata": {},
   "outputs": [],
   "source": [
    "content_df['state_terms_mentioned'] = content_df['tokenized_content'].apply(lambda x: positive_mention_state(x))"
   ]
  },
  {
   "cell_type": "code",
   "execution_count": 42,
   "id": "02a2008d",
   "metadata": {},
   "outputs": [
    {
     "data": {
      "text/html": [
       "<div>\n",
       "<style scoped>\n",
       "    .dataframe tbody tr th:only-of-type {\n",
       "        vertical-align: middle;\n",
       "    }\n",
       "\n",
       "    .dataframe tbody tr th {\n",
       "        vertical-align: top;\n",
       "    }\n",
       "\n",
       "    .dataframe thead th {\n",
       "        text-align: right;\n",
       "    }\n",
       "</style>\n",
       "<table border=\"1\" class=\"dataframe\">\n",
       "  <thead>\n",
       "    <tr style=\"text-align: right;\">\n",
       "      <th></th>\n",
       "      <th>tokenized_content</th>\n",
       "      <th>sentiment_vader</th>\n",
       "      <th>centre_terms_mentioned</th>\n",
       "      <th>state_terms_mentioned</th>\n",
       "    </tr>\n",
       "  </thead>\n",
       "  <tbody>\n",
       "    <tr>\n",
       "      <th>0</th>\n",
       "      <td>ghostofprof zarkwan dmck52 tbablue1 tedii69 qp...</td>\n",
       "      <td>positive</td>\n",
       "      <td>[]</td>\n",
       "      <td>[]</td>\n",
       "    </tr>\n",
       "    <tr>\n",
       "      <th>1</th>\n",
       "      <td>bilbo815 vat raised scotland goes books scotti...</td>\n",
       "      <td>neutral</td>\n",
       "      <td>[]</td>\n",
       "      <td>[]</td>\n",
       "    </tr>\n",
       "    <tr>\n",
       "      <th>2</th>\n",
       "      <td>terrybutcher20 indyonskye wont cancel treasury...</td>\n",
       "      <td>positive</td>\n",
       "      <td>[]</td>\n",
       "      <td>[]</td>\n",
       "    </tr>\n",
       "    <tr>\n",
       "      <th>3</th>\n",
       "      <td>onthe7thday1 notbilge csg1973 leithwhisky edlo...</td>\n",
       "      <td>neutral</td>\n",
       "      <td>[]</td>\n",
       "      <td>[]</td>\n",
       "    </tr>\n",
       "    <tr>\n",
       "      <th>4</th>\n",
       "      <td>incognitomv csg1973 leithwhisky edlonguk marti...</td>\n",
       "      <td>neutral</td>\n",
       "      <td>[]</td>\n",
       "      <td>[]</td>\n",
       "    </tr>\n",
       "    <tr>\n",
       "      <th>...</th>\n",
       "      <td>...</td>\n",
       "      <td>...</td>\n",
       "      <td>...</td>\n",
       "      <td>...</td>\n",
       "    </tr>\n",
       "    <tr>\n",
       "      <th>7585</th>\n",
       "      <td>thesnp include record employment well lowest u...</td>\n",
       "      <td>negative</td>\n",
       "      <td>[]</td>\n",
       "      <td>[]</td>\n",
       "    </tr>\n",
       "    <tr>\n",
       "      <th>7586</th>\n",
       "      <td>deescattered pemcneil annenougat1959 ruthdavid...</td>\n",
       "      <td>positive</td>\n",
       "      <td>[]</td>\n",
       "      <td>[]</td>\n",
       "    </tr>\n",
       "    <tr>\n",
       "      <th>7587</th>\n",
       "      <td>sfi123 maryconnor4567 left shetland police pol...</td>\n",
       "      <td>negative</td>\n",
       "      <td>[]</td>\n",
       "      <td>[]</td>\n",
       "    </tr>\n",
       "    <tr>\n",
       "      <th>7588</th>\n",
       "      <td>sfi123 maryconnor4567 rules made government po...</td>\n",
       "      <td>negative</td>\n",
       "      <td>[]</td>\n",
       "      <td>[]</td>\n",
       "    </tr>\n",
       "    <tr>\n",
       "      <th>7589</th>\n",
       "      <td>dcwsco thesnp govuk opposing political reasons...</td>\n",
       "      <td>negative</td>\n",
       "      <td>[union, union]</td>\n",
       "      <td>[]</td>\n",
       "    </tr>\n",
       "  </tbody>\n",
       "</table>\n",
       "<p>7590 rows × 4 columns</p>\n",
       "</div>"
      ],
      "text/plain": [
       "                                      tokenized_content sentiment_vader  \\\n",
       "0     ghostofprof zarkwan dmck52 tbablue1 tedii69 qp...        positive   \n",
       "1     bilbo815 vat raised scotland goes books scotti...         neutral   \n",
       "2     terrybutcher20 indyonskye wont cancel treasury...        positive   \n",
       "3     onthe7thday1 notbilge csg1973 leithwhisky edlo...         neutral   \n",
       "4     incognitomv csg1973 leithwhisky edlonguk marti...         neutral   \n",
       "...                                                 ...             ...   \n",
       "7585  thesnp include record employment well lowest u...        negative   \n",
       "7586  deescattered pemcneil annenougat1959 ruthdavid...        positive   \n",
       "7587  sfi123 maryconnor4567 left shetland police pol...        negative   \n",
       "7588  sfi123 maryconnor4567 rules made government po...        negative   \n",
       "7589  dcwsco thesnp govuk opposing political reasons...        negative   \n",
       "\n",
       "     centre_terms_mentioned state_terms_mentioned  \n",
       "0                        []                    []  \n",
       "1                        []                    []  \n",
       "2                        []                    []  \n",
       "3                        []                    []  \n",
       "4                        []                    []  \n",
       "...                     ...                   ...  \n",
       "7585                     []                    []  \n",
       "7586                     []                    []  \n",
       "7587                     []                    []  \n",
       "7588                     []                    []  \n",
       "7589         [union, union]                    []  \n",
       "\n",
       "[7590 rows x 4 columns]"
      ]
     },
     "execution_count": 42,
     "metadata": {},
     "output_type": "execute_result"
    }
   ],
   "source": [
    "content_df"
   ]
  },
  {
   "cell_type": "code",
   "execution_count": 43,
   "id": "6552ad2b",
   "metadata": {},
   "outputs": [],
   "source": [
    "#extracting the correct and incorrect attribution for state\n",
    "\n",
    "def perception(content):\n",
    "    if(content['sentiment_vader'] == 'positive' and len(content['centre_terms_mentioned'])!=0):\n",
    "        return 'correct'\n",
    "    elif(content['sentiment_vader'] == 'negative' and len(content['centre_terms_mentioned'])!=0):\n",
    "        return 'correct'\n",
    "    elif(content['sentiment_vader'] == 'positive' and len(content['state_terms_mentioned'])!=0):\n",
    "        return 'incorrect'\n",
    "    elif(content['sentiment_vader'] == 'negative' and len(content['state_terms_mentioned'])!=0):\n",
    "        return 'incorrect'\n",
    "    \n",
    "    return 'non-opinionated'"
   ]
  },
  {
   "cell_type": "code",
   "execution_count": 44,
   "id": "80382036",
   "metadata": {},
   "outputs": [],
   "source": [
    "content_df['perception'] = content_df.apply(perception, axis=1)"
   ]
  },
  {
   "cell_type": "code",
   "execution_count": 45,
   "id": "f65947a6",
   "metadata": {},
   "outputs": [
    {
     "data": {
      "text/html": [
       "<div>\n",
       "<style scoped>\n",
       "    .dataframe tbody tr th:only-of-type {\n",
       "        vertical-align: middle;\n",
       "    }\n",
       "\n",
       "    .dataframe tbody tr th {\n",
       "        vertical-align: top;\n",
       "    }\n",
       "\n",
       "    .dataframe thead th {\n",
       "        text-align: right;\n",
       "    }\n",
       "</style>\n",
       "<table border=\"1\" class=\"dataframe\">\n",
       "  <thead>\n",
       "    <tr style=\"text-align: right;\">\n",
       "      <th></th>\n",
       "      <th>tokenized_content</th>\n",
       "      <th>sentiment_vader</th>\n",
       "      <th>centre_terms_mentioned</th>\n",
       "      <th>state_terms_mentioned</th>\n",
       "      <th>perception</th>\n",
       "    </tr>\n",
       "  </thead>\n",
       "  <tbody>\n",
       "    <tr>\n",
       "      <th>0</th>\n",
       "      <td>ghostofprof zarkwan dmck52 tbablue1 tedii69 qp...</td>\n",
       "      <td>positive</td>\n",
       "      <td>[]</td>\n",
       "      <td>[]</td>\n",
       "      <td>non-opinionated</td>\n",
       "    </tr>\n",
       "    <tr>\n",
       "      <th>1</th>\n",
       "      <td>bilbo815 vat raised scotland goes books scotti...</td>\n",
       "      <td>neutral</td>\n",
       "      <td>[]</td>\n",
       "      <td>[]</td>\n",
       "      <td>non-opinionated</td>\n",
       "    </tr>\n",
       "    <tr>\n",
       "      <th>2</th>\n",
       "      <td>terrybutcher20 indyonskye wont cancel treasury...</td>\n",
       "      <td>positive</td>\n",
       "      <td>[]</td>\n",
       "      <td>[]</td>\n",
       "      <td>non-opinionated</td>\n",
       "    </tr>\n",
       "    <tr>\n",
       "      <th>3</th>\n",
       "      <td>onthe7thday1 notbilge csg1973 leithwhisky edlo...</td>\n",
       "      <td>neutral</td>\n",
       "      <td>[]</td>\n",
       "      <td>[]</td>\n",
       "      <td>non-opinionated</td>\n",
       "    </tr>\n",
       "    <tr>\n",
       "      <th>4</th>\n",
       "      <td>incognitomv csg1973 leithwhisky edlonguk marti...</td>\n",
       "      <td>neutral</td>\n",
       "      <td>[]</td>\n",
       "      <td>[]</td>\n",
       "      <td>non-opinionated</td>\n",
       "    </tr>\n",
       "    <tr>\n",
       "      <th>...</th>\n",
       "      <td>...</td>\n",
       "      <td>...</td>\n",
       "      <td>...</td>\n",
       "      <td>...</td>\n",
       "      <td>...</td>\n",
       "    </tr>\n",
       "    <tr>\n",
       "      <th>7585</th>\n",
       "      <td>thesnp include record employment well lowest u...</td>\n",
       "      <td>negative</td>\n",
       "      <td>[]</td>\n",
       "      <td>[]</td>\n",
       "      <td>non-opinionated</td>\n",
       "    </tr>\n",
       "    <tr>\n",
       "      <th>7586</th>\n",
       "      <td>deescattered pemcneil annenougat1959 ruthdavid...</td>\n",
       "      <td>positive</td>\n",
       "      <td>[]</td>\n",
       "      <td>[]</td>\n",
       "      <td>non-opinionated</td>\n",
       "    </tr>\n",
       "    <tr>\n",
       "      <th>7587</th>\n",
       "      <td>sfi123 maryconnor4567 left shetland police pol...</td>\n",
       "      <td>negative</td>\n",
       "      <td>[]</td>\n",
       "      <td>[]</td>\n",
       "      <td>non-opinionated</td>\n",
       "    </tr>\n",
       "    <tr>\n",
       "      <th>7588</th>\n",
       "      <td>sfi123 maryconnor4567 rules made government po...</td>\n",
       "      <td>negative</td>\n",
       "      <td>[]</td>\n",
       "      <td>[]</td>\n",
       "      <td>non-opinionated</td>\n",
       "    </tr>\n",
       "    <tr>\n",
       "      <th>7589</th>\n",
       "      <td>dcwsco thesnp govuk opposing political reasons...</td>\n",
       "      <td>negative</td>\n",
       "      <td>[union, union]</td>\n",
       "      <td>[]</td>\n",
       "      <td>correct</td>\n",
       "    </tr>\n",
       "  </tbody>\n",
       "</table>\n",
       "<p>7590 rows × 5 columns</p>\n",
       "</div>"
      ],
      "text/plain": [
       "                                      tokenized_content sentiment_vader  \\\n",
       "0     ghostofprof zarkwan dmck52 tbablue1 tedii69 qp...        positive   \n",
       "1     bilbo815 vat raised scotland goes books scotti...         neutral   \n",
       "2     terrybutcher20 indyonskye wont cancel treasury...        positive   \n",
       "3     onthe7thday1 notbilge csg1973 leithwhisky edlo...         neutral   \n",
       "4     incognitomv csg1973 leithwhisky edlonguk marti...         neutral   \n",
       "...                                                 ...             ...   \n",
       "7585  thesnp include record employment well lowest u...        negative   \n",
       "7586  deescattered pemcneil annenougat1959 ruthdavid...        positive   \n",
       "7587  sfi123 maryconnor4567 left shetland police pol...        negative   \n",
       "7588  sfi123 maryconnor4567 rules made government po...        negative   \n",
       "7589  dcwsco thesnp govuk opposing political reasons...        negative   \n",
       "\n",
       "     centre_terms_mentioned state_terms_mentioned       perception  \n",
       "0                        []                    []  non-opinionated  \n",
       "1                        []                    []  non-opinionated  \n",
       "2                        []                    []  non-opinionated  \n",
       "3                        []                    []  non-opinionated  \n",
       "4                        []                    []  non-opinionated  \n",
       "...                     ...                   ...              ...  \n",
       "7585                     []                    []  non-opinionated  \n",
       "7586                     []                    []  non-opinionated  \n",
       "7587                     []                    []  non-opinionated  \n",
       "7588                     []                    []  non-opinionated  \n",
       "7589         [union, union]                    []          correct  \n",
       "\n",
       "[7590 rows x 5 columns]"
      ]
     },
     "execution_count": 45,
     "metadata": {},
     "output_type": "execute_result"
    }
   ],
   "source": [
    "content_df"
   ]
  },
  {
   "cell_type": "code",
   "execution_count": 46,
   "id": "320ccc83",
   "metadata": {},
   "outputs": [
    {
     "data": {
      "text/html": [
       "<div>\n",
       "<style scoped>\n",
       "    .dataframe tbody tr th:only-of-type {\n",
       "        vertical-align: middle;\n",
       "    }\n",
       "\n",
       "    .dataframe tbody tr th {\n",
       "        vertical-align: top;\n",
       "    }\n",
       "\n",
       "    .dataframe thead th {\n",
       "        text-align: right;\n",
       "    }\n",
       "</style>\n",
       "<table border=\"1\" class=\"dataframe\">\n",
       "  <thead>\n",
       "    <tr style=\"text-align: right;\">\n",
       "      <th></th>\n",
       "      <th>Unnamed: 0</th>\n",
       "      <th>date</th>\n",
       "      <th>content</th>\n",
       "      <th>replyCount</th>\n",
       "      <th>retweetCount</th>\n",
       "      <th>likeCount</th>\n",
       "      <th>lang</th>\n",
       "      <th>sourceLabel</th>\n",
       "      <th>hashtags</th>\n",
       "      <th>username</th>\n",
       "      <th>...</th>\n",
       "      <th>user_raw_description</th>\n",
       "      <th>user_verified</th>\n",
       "      <th>user_created</th>\n",
       "      <th>user_followers_count</th>\n",
       "      <th>user_friends_count</th>\n",
       "      <th>user_status_count</th>\n",
       "      <th>user_favourites_count</th>\n",
       "      <th>user_listed_count</th>\n",
       "      <th>user_media_count</th>\n",
       "      <th>user_location</th>\n",
       "    </tr>\n",
       "  </thead>\n",
       "  <tbody>\n",
       "    <tr>\n",
       "      <th>0</th>\n",
       "      <td>0</td>\n",
       "      <td>2022-08-23 08:37:37+00:00</td>\n",
       "      <td>@ghost_of_prof @zarkwan @dmck52 @tbablue1 @Ted...</td>\n",
       "      <td>1</td>\n",
       "      <td>0</td>\n",
       "      <td>0</td>\n",
       "      <td>en</td>\n",
       "      <td>Twitter for iPad</td>\n",
       "      <td>NaN</td>\n",
       "      <td>bellesareblue</td>\n",
       "      <td>...</td>\n",
       "      <td>General News History General News</td>\n",
       "      <td>False</td>\n",
       "      <td>2018-07-24T22:13:35+00:00</td>\n",
       "      <td>1657</td>\n",
       "      <td>1387</td>\n",
       "      <td>221659</td>\n",
       "      <td>265400</td>\n",
       "      <td>10</td>\n",
       "      <td>1</td>\n",
       "      <td>Scotland, United Kingdom</td>\n",
       "    </tr>\n",
       "    <tr>\n",
       "      <th>1</th>\n",
       "      <td>1</td>\n",
       "      <td>2022-08-23 07:53:29+00:00</td>\n",
       "      <td>@bilbo815 all VAT raised in Scotland goes on o...</td>\n",
       "      <td>1</td>\n",
       "      <td>1</td>\n",
       "      <td>1</td>\n",
       "      <td>en</td>\n",
       "      <td>Twitter for Android</td>\n",
       "      <td>NaN</td>\n",
       "      <td>Glenlyon17</td>\n",
       "      <td>...</td>\n",
       "      <td>Building a new Scotland 🏴󠁧󠁢󠁳󠁣󠁴󠁿</td>\n",
       "      <td>False</td>\n",
       "      <td>2019-03-30T14:45:47+00:00</td>\n",
       "      <td>4066</td>\n",
       "      <td>3987</td>\n",
       "      <td>80256</td>\n",
       "      <td>69917</td>\n",
       "      <td>3</td>\n",
       "      <td>2376</td>\n",
       "      <td>NaN</td>\n",
       "    </tr>\n",
       "    <tr>\n",
       "      <th>2</th>\n",
       "      <td>2</td>\n",
       "      <td>2022-08-22 18:48:58+00:00</td>\n",
       "      <td>@TERRYBUTCHER20 @IndyOnSkye They won't cancel ...</td>\n",
       "      <td>0</td>\n",
       "      <td>0</td>\n",
       "      <td>0</td>\n",
       "      <td>en</td>\n",
       "      <td>Twitter for Android</td>\n",
       "      <td>NaN</td>\n",
       "      <td>JonoCC</td>\n",
       "      <td>...</td>\n",
       "      <td>NaN</td>\n",
       "      <td>False</td>\n",
       "      <td>2010-05-30T18:59:22+00:00</td>\n",
       "      <td>50</td>\n",
       "      <td>231</td>\n",
       "      <td>2260</td>\n",
       "      <td>11892</td>\n",
       "      <td>0</td>\n",
       "      <td>41</td>\n",
       "      <td>Dundee, Scotland</td>\n",
       "    </tr>\n",
       "    <tr>\n",
       "      <th>3</th>\n",
       "      <td>3</td>\n",
       "      <td>2022-08-22 18:13:48+00:00</td>\n",
       "      <td>@OnThe7thDay1 @notbilge @CSG1973 @LeithWhisky ...</td>\n",
       "      <td>0</td>\n",
       "      <td>0</td>\n",
       "      <td>1</td>\n",
       "      <td>en</td>\n",
       "      <td>Twitter for iPhone</td>\n",
       "      <td>NaN</td>\n",
       "      <td>IncognitoMV</td>\n",
       "      <td>...</td>\n",
       "      <td>Yacht dweller. Enjoys messing about with class...</td>\n",
       "      <td>False</td>\n",
       "      <td>2021-10-01T11:51:45+00:00</td>\n",
       "      <td>468</td>\n",
       "      <td>526</td>\n",
       "      <td>10158</td>\n",
       "      <td>10441</td>\n",
       "      <td>0</td>\n",
       "      <td>1260</td>\n",
       "      <td>NaN</td>\n",
       "    </tr>\n",
       "    <tr>\n",
       "      <th>4</th>\n",
       "      <td>4</td>\n",
       "      <td>2022-08-22 17:52:42+00:00</td>\n",
       "      <td>@IncognitoMV @CSG1973 @LeithWhisky @edlonguk @...</td>\n",
       "      <td>1</td>\n",
       "      <td>0</td>\n",
       "      <td>0</td>\n",
       "      <td>en</td>\n",
       "      <td>Twitter for Android</td>\n",
       "      <td>NaN</td>\n",
       "      <td>OnThe7thDay1</td>\n",
       "      <td>...</td>\n",
       "      <td>They rested.</td>\n",
       "      <td>False</td>\n",
       "      <td>2021-05-05T06:04:59+00:00</td>\n",
       "      <td>417</td>\n",
       "      <td>653</td>\n",
       "      <td>9467</td>\n",
       "      <td>5315</td>\n",
       "      <td>2</td>\n",
       "      <td>2341</td>\n",
       "      <td>Jockistan, Occupied Scotland</td>\n",
       "    </tr>\n",
       "  </tbody>\n",
       "</table>\n",
       "<p>5 rows × 22 columns</p>\n",
       "</div>"
      ],
      "text/plain": [
       "   Unnamed: 0                       date  \\\n",
       "0           0  2022-08-23 08:37:37+00:00   \n",
       "1           1  2022-08-23 07:53:29+00:00   \n",
       "2           2  2022-08-22 18:48:58+00:00   \n",
       "3           3  2022-08-22 18:13:48+00:00   \n",
       "4           4  2022-08-22 17:52:42+00:00   \n",
       "\n",
       "                                             content  replyCount  \\\n",
       "0  @ghost_of_prof @zarkwan @dmck52 @tbablue1 @Ted...           1   \n",
       "1  @bilbo815 all VAT raised in Scotland goes on o...           1   \n",
       "2  @TERRYBUTCHER20 @IndyOnSkye They won't cancel ...           0   \n",
       "3  @OnThe7thDay1 @notbilge @CSG1973 @LeithWhisky ...           0   \n",
       "4  @IncognitoMV @CSG1973 @LeithWhisky @edlonguk @...           1   \n",
       "\n",
       "   retweetCount  likeCount lang          sourceLabel hashtags       username  \\\n",
       "0             0          0   en     Twitter for iPad      NaN  bellesareblue   \n",
       "1             1          1   en  Twitter for Android      NaN     Glenlyon17   \n",
       "2             0          0   en  Twitter for Android      NaN         JonoCC   \n",
       "3             0          1   en   Twitter for iPhone      NaN    IncognitoMV   \n",
       "4             0          0   en  Twitter for Android      NaN   OnThe7thDay1   \n",
       "\n",
       "   ...                               user_raw_description user_verified  \\\n",
       "0  ...                  General News History General News         False   \n",
       "1  ...                    Building a new Scotland 🏴󠁧󠁢󠁳󠁣󠁴󠁿         False   \n",
       "2  ...                                                NaN         False   \n",
       "3  ...  Yacht dweller. Enjoys messing about with class...         False   \n",
       "4  ...                                       They rested.         False   \n",
       "\n",
       "                user_created  user_followers_count user_friends_count  \\\n",
       "0  2018-07-24T22:13:35+00:00                  1657               1387   \n",
       "1  2019-03-30T14:45:47+00:00                  4066               3987   \n",
       "2  2010-05-30T18:59:22+00:00                    50                231   \n",
       "3  2021-10-01T11:51:45+00:00                   468                526   \n",
       "4  2021-05-05T06:04:59+00:00                   417                653   \n",
       "\n",
       "   user_status_count  user_favourites_count  user_listed_count  \\\n",
       "0             221659                 265400                 10   \n",
       "1              80256                  69917                  3   \n",
       "2               2260                  11892                  0   \n",
       "3              10158                  10441                  0   \n",
       "4               9467                   5315                  2   \n",
       "\n",
       "   user_media_count                  user_location  \n",
       "0                 1       Scotland, United Kingdom  \n",
       "1              2376                            NaN  \n",
       "2                41               Dundee, Scotland  \n",
       "3              1260                            NaN  \n",
       "4              2341  Jockistan, Occupied Scotland   \n",
       "\n",
       "[5 rows x 22 columns]"
      ]
     },
     "execution_count": 46,
     "metadata": {},
     "output_type": "execute_result"
    }
   ],
   "source": [
    "df.head()"
   ]
  },
  {
   "cell_type": "code",
   "execution_count": null,
   "id": "b83daf57",
   "metadata": {},
   "outputs": [],
   "source": []
  },
  {
   "cell_type": "code",
   "execution_count": null,
   "id": "c80f0133",
   "metadata": {},
   "outputs": [],
   "source": []
  },
  {
   "cell_type": "code",
   "execution_count": 47,
   "id": "3bb8cf6b",
   "metadata": {},
   "outputs": [],
   "source": [
    "content_perception_df = pd.concat([content_df, df], axis=1)"
   ]
  },
  {
   "cell_type": "code",
   "execution_count": 48,
   "id": "89acb675",
   "metadata": {
    "scrolled": true
   },
   "outputs": [
    {
     "data": {
      "text/html": [
       "<div>\n",
       "<style scoped>\n",
       "    .dataframe tbody tr th:only-of-type {\n",
       "        vertical-align: middle;\n",
       "    }\n",
       "\n",
       "    .dataframe tbody tr th {\n",
       "        vertical-align: top;\n",
       "    }\n",
       "\n",
       "    .dataframe thead th {\n",
       "        text-align: right;\n",
       "    }\n",
       "</style>\n",
       "<table border=\"1\" class=\"dataframe\">\n",
       "  <thead>\n",
       "    <tr style=\"text-align: right;\">\n",
       "      <th></th>\n",
       "      <th>tokenized_content</th>\n",
       "      <th>sentiment_vader</th>\n",
       "      <th>centre_terms_mentioned</th>\n",
       "      <th>state_terms_mentioned</th>\n",
       "      <th>perception</th>\n",
       "      <th>Unnamed: 0</th>\n",
       "      <th>date</th>\n",
       "      <th>content</th>\n",
       "      <th>replyCount</th>\n",
       "      <th>retweetCount</th>\n",
       "      <th>...</th>\n",
       "      <th>user_raw_description</th>\n",
       "      <th>user_verified</th>\n",
       "      <th>user_created</th>\n",
       "      <th>user_followers_count</th>\n",
       "      <th>user_friends_count</th>\n",
       "      <th>user_status_count</th>\n",
       "      <th>user_favourites_count</th>\n",
       "      <th>user_listed_count</th>\n",
       "      <th>user_media_count</th>\n",
       "      <th>user_location</th>\n",
       "    </tr>\n",
       "  </thead>\n",
       "  <tbody>\n",
       "    <tr>\n",
       "      <th>0</th>\n",
       "      <td>ghostofprof zarkwan dmck52 tbablue1 tedii69 qp...</td>\n",
       "      <td>positive</td>\n",
       "      <td>[]</td>\n",
       "      <td>[]</td>\n",
       "      <td>non-opinionated</td>\n",
       "      <td>0</td>\n",
       "      <td>2022-08-23 08:37:37+00:00</td>\n",
       "      <td>@ghost_of_prof @zarkwan @dmck52 @tbablue1 @Ted...</td>\n",
       "      <td>1</td>\n",
       "      <td>0</td>\n",
       "      <td>...</td>\n",
       "      <td>General News History General News</td>\n",
       "      <td>False</td>\n",
       "      <td>2018-07-24T22:13:35+00:00</td>\n",
       "      <td>1657</td>\n",
       "      <td>1387</td>\n",
       "      <td>221659</td>\n",
       "      <td>265400</td>\n",
       "      <td>10</td>\n",
       "      <td>1</td>\n",
       "      <td>Scotland, United Kingdom</td>\n",
       "    </tr>\n",
       "    <tr>\n",
       "      <th>1</th>\n",
       "      <td>bilbo815 vat raised scotland goes books scotti...</td>\n",
       "      <td>neutral</td>\n",
       "      <td>[]</td>\n",
       "      <td>[]</td>\n",
       "      <td>non-opinionated</td>\n",
       "      <td>1</td>\n",
       "      <td>2022-08-23 07:53:29+00:00</td>\n",
       "      <td>@bilbo815 all VAT raised in Scotland goes on o...</td>\n",
       "      <td>1</td>\n",
       "      <td>1</td>\n",
       "      <td>...</td>\n",
       "      <td>Building a new Scotland 🏴󠁧󠁢󠁳󠁣󠁴󠁿</td>\n",
       "      <td>False</td>\n",
       "      <td>2019-03-30T14:45:47+00:00</td>\n",
       "      <td>4066</td>\n",
       "      <td>3987</td>\n",
       "      <td>80256</td>\n",
       "      <td>69917</td>\n",
       "      <td>3</td>\n",
       "      <td>2376</td>\n",
       "      <td>NaN</td>\n",
       "    </tr>\n",
       "    <tr>\n",
       "      <th>2</th>\n",
       "      <td>terrybutcher20 indyonskye wont cancel treasury...</td>\n",
       "      <td>positive</td>\n",
       "      <td>[]</td>\n",
       "      <td>[]</td>\n",
       "      <td>non-opinionated</td>\n",
       "      <td>2</td>\n",
       "      <td>2022-08-22 18:48:58+00:00</td>\n",
       "      <td>@TERRYBUTCHER20 @IndyOnSkye They won't cancel ...</td>\n",
       "      <td>0</td>\n",
       "      <td>0</td>\n",
       "      <td>...</td>\n",
       "      <td>NaN</td>\n",
       "      <td>False</td>\n",
       "      <td>2010-05-30T18:59:22+00:00</td>\n",
       "      <td>50</td>\n",
       "      <td>231</td>\n",
       "      <td>2260</td>\n",
       "      <td>11892</td>\n",
       "      <td>0</td>\n",
       "      <td>41</td>\n",
       "      <td>Dundee, Scotland</td>\n",
       "    </tr>\n",
       "    <tr>\n",
       "      <th>3</th>\n",
       "      <td>onthe7thday1 notbilge csg1973 leithwhisky edlo...</td>\n",
       "      <td>neutral</td>\n",
       "      <td>[]</td>\n",
       "      <td>[]</td>\n",
       "      <td>non-opinionated</td>\n",
       "      <td>3</td>\n",
       "      <td>2022-08-22 18:13:48+00:00</td>\n",
       "      <td>@OnThe7thDay1 @notbilge @CSG1973 @LeithWhisky ...</td>\n",
       "      <td>0</td>\n",
       "      <td>0</td>\n",
       "      <td>...</td>\n",
       "      <td>Yacht dweller. Enjoys messing about with class...</td>\n",
       "      <td>False</td>\n",
       "      <td>2021-10-01T11:51:45+00:00</td>\n",
       "      <td>468</td>\n",
       "      <td>526</td>\n",
       "      <td>10158</td>\n",
       "      <td>10441</td>\n",
       "      <td>0</td>\n",
       "      <td>1260</td>\n",
       "      <td>NaN</td>\n",
       "    </tr>\n",
       "    <tr>\n",
       "      <th>4</th>\n",
       "      <td>incognitomv csg1973 leithwhisky edlonguk marti...</td>\n",
       "      <td>neutral</td>\n",
       "      <td>[]</td>\n",
       "      <td>[]</td>\n",
       "      <td>non-opinionated</td>\n",
       "      <td>4</td>\n",
       "      <td>2022-08-22 17:52:42+00:00</td>\n",
       "      <td>@IncognitoMV @CSG1973 @LeithWhisky @edlonguk @...</td>\n",
       "      <td>1</td>\n",
       "      <td>0</td>\n",
       "      <td>...</td>\n",
       "      <td>They rested.</td>\n",
       "      <td>False</td>\n",
       "      <td>2021-05-05T06:04:59+00:00</td>\n",
       "      <td>417</td>\n",
       "      <td>653</td>\n",
       "      <td>9467</td>\n",
       "      <td>5315</td>\n",
       "      <td>2</td>\n",
       "      <td>2341</td>\n",
       "      <td>Jockistan, Occupied Scotland</td>\n",
       "    </tr>\n",
       "  </tbody>\n",
       "</table>\n",
       "<p>5 rows × 27 columns</p>\n",
       "</div>"
      ],
      "text/plain": [
       "                                   tokenized_content sentiment_vader  \\\n",
       "0  ghostofprof zarkwan dmck52 tbablue1 tedii69 qp...        positive   \n",
       "1  bilbo815 vat raised scotland goes books scotti...         neutral   \n",
       "2  terrybutcher20 indyonskye wont cancel treasury...        positive   \n",
       "3  onthe7thday1 notbilge csg1973 leithwhisky edlo...         neutral   \n",
       "4  incognitomv csg1973 leithwhisky edlonguk marti...         neutral   \n",
       "\n",
       "  centre_terms_mentioned state_terms_mentioned       perception  Unnamed: 0  \\\n",
       "0                     []                    []  non-opinionated           0   \n",
       "1                     []                    []  non-opinionated           1   \n",
       "2                     []                    []  non-opinionated           2   \n",
       "3                     []                    []  non-opinionated           3   \n",
       "4                     []                    []  non-opinionated           4   \n",
       "\n",
       "                        date  \\\n",
       "0  2022-08-23 08:37:37+00:00   \n",
       "1  2022-08-23 07:53:29+00:00   \n",
       "2  2022-08-22 18:48:58+00:00   \n",
       "3  2022-08-22 18:13:48+00:00   \n",
       "4  2022-08-22 17:52:42+00:00   \n",
       "\n",
       "                                             content  replyCount  \\\n",
       "0  @ghost_of_prof @zarkwan @dmck52 @tbablue1 @Ted...           1   \n",
       "1  @bilbo815 all VAT raised in Scotland goes on o...           1   \n",
       "2  @TERRYBUTCHER20 @IndyOnSkye They won't cancel ...           0   \n",
       "3  @OnThe7thDay1 @notbilge @CSG1973 @LeithWhisky ...           0   \n",
       "4  @IncognitoMV @CSG1973 @LeithWhisky @edlonguk @...           1   \n",
       "\n",
       "   retweetCount  ...                               user_raw_description  \\\n",
       "0             0  ...                  General News History General News   \n",
       "1             1  ...                    Building a new Scotland 🏴󠁧󠁢󠁳󠁣󠁴󠁿   \n",
       "2             0  ...                                                NaN   \n",
       "3             0  ...  Yacht dweller. Enjoys messing about with class...   \n",
       "4             0  ...                                       They rested.   \n",
       "\n",
       "  user_verified               user_created user_followers_count  \\\n",
       "0         False  2018-07-24T22:13:35+00:00                 1657   \n",
       "1         False  2019-03-30T14:45:47+00:00                 4066   \n",
       "2         False  2010-05-30T18:59:22+00:00                   50   \n",
       "3         False  2021-10-01T11:51:45+00:00                  468   \n",
       "4         False  2021-05-05T06:04:59+00:00                  417   \n",
       "\n",
       "  user_friends_count user_status_count user_favourites_count  \\\n",
       "0               1387            221659                265400   \n",
       "1               3987             80256                 69917   \n",
       "2                231              2260                 11892   \n",
       "3                526             10158                 10441   \n",
       "4                653              9467                  5315   \n",
       "\n",
       "  user_listed_count  user_media_count                  user_location  \n",
       "0                10                 1       Scotland, United Kingdom  \n",
       "1                 3              2376                            NaN  \n",
       "2                 0                41               Dundee, Scotland  \n",
       "3                 0              1260                            NaN  \n",
       "4                 2              2341  Jockistan, Occupied Scotland   \n",
       "\n",
       "[5 rows x 27 columns]"
      ]
     },
     "execution_count": 48,
     "metadata": {},
     "output_type": "execute_result"
    }
   ],
   "source": [
    "content_perception_df.head()"
   ]
  },
  {
   "cell_type": "code",
   "execution_count": 49,
   "id": "16197da1",
   "metadata": {},
   "outputs": [
    {
     "name": "stdout",
     "output_type": "stream",
     "text": [
      "Percentage non-opinionated    0.913439\n",
      "correct            0.078393\n",
      "incorrect          0.008169\n",
      "Name: perception, dtype: float64\n"
     ]
    },
    {
     "data": {
      "image/png": "[encoded data removed]",
      "text/plain": [
       "<Figure size 288x288 with 1 Axes>"
      ]
     },
     "metadata": {},
     "output_type": "display_data"
    }
   ],
   "source": [
    "print('Percentage',content_perception_df.perception.value_counts(normalize=True))\n",
    "f, ax = plt.subplots(figsize=(4, 4))\n",
    "plt.pie(content_perception_df['perception'].value_counts().tolist(), \n",
    "        labels=['Non-opinionated', 'Correct', 'incorrect'], autopct='%1.1f%%', startangle=90)\n",
    "axis = plt.axis('equal')"
   ]
  },
  {
   "cell_type": "code",
   "execution_count": 50,
   "id": "444c6f7a",
   "metadata": {
    "scrolled": true
   },
   "outputs": [],
   "source": [
    "#def perception(voter):\n",
    "    #if voter == \"1\":\n",
    "        #return \"correct\"\n",
    "    #elif voter == \"\":\n",
    "        #return \"non-partisan\"\n",
    "    #elif voter == \"0\":\n",
    "        #return \"incorrect\""
   ]
  },
  {
   "cell_type": "code",
   "execution_count": 51,
   "id": "0fcc0c37",
   "metadata": {},
   "outputs": [],
   "source": [
    "#content_perception_df['voter'] = content_perception_df['voter_perception'].apply(perception)"
   ]
  },
  {
   "cell_type": "code",
   "execution_count": 52,
   "id": "a4eecfb0",
   "metadata": {},
   "outputs": [],
   "source": [
    "#content_perception_df"
   ]
  },
  {
   "cell_type": "code",
   "execution_count": 53,
   "id": "dcc4753f",
   "metadata": {},
   "outputs": [],
   "source": [
    "#fig = plt.figure(figsize=(5,5))\n",
    "#sns.countplot(x='voter', data = content_perception_df)"
   ]
  },
  {
   "cell_type": "markdown",
   "id": "5a8adada",
   "metadata": {},
   "source": [
    "#### fig = plt.figure(figsize=(7,7))\n",
    "colors = (\"yellowgreen\", \"gold\", \"red\")\n",
    "wp = {'linewidth':2, 'edgecolor': \"black\"}\n",
    "tags = content_perception_df['voter'].value_counts()\n",
    "explode = (0.1,0.1,0.1)\n",
    "tags.plot(kind='pie', autopct='%1.1f%%', shadow=True, colors = colors, startangle=90, wedgeprops = wp,\n",
    "         explode = explode, label=\"\")\n",
    "plt.title(\"attribution of responsibility by voters\")"
   ]
  },
  {
   "cell_type": "code",
   "execution_count": null,
   "id": "5bc9ee0c",
   "metadata": {},
   "outputs": [],
   "source": []
  },
  {
   "cell_type": "code",
   "execution_count": null,
   "id": "7f7f8aa6",
   "metadata": {},
   "outputs": [],
   "source": []
  },
  {
   "cell_type": "code",
   "execution_count": 54,
   "id": "972c8c80",
   "metadata": {},
   "outputs": [],
   "source": [
    "from sklearn.feature_extraction.text import CountVectorizer\n",
    "from sklearn.model_selection import train_test_split"
   ]
  },
  {
   "cell_type": "code",
   "execution_count": 55,
   "id": "27ed09d8",
   "metadata": {},
   "outputs": [],
   "source": [
    "vect = CountVectorizer(ngram_range=(1,2)).fit(content_perception_df['tokenized_content'])"
   ]
  },
  {
   "cell_type": "code",
   "execution_count": 56,
   "id": "7dbb5562",
   "metadata": {},
   "outputs": [
    {
     "name": "stdout",
     "output_type": "stream",
     "text": [
      "Number of features: 133703\n",
      "\n",
      "First 20 features:\n",
      " ['000', '000 total', '00000', '00000 gbp', '003ppl', '003ppl last', '005', '005 uk', '005ppl', '005ppl last', '007pseudonym', '007pseudonym chrisgiles', '008ppl', '008ppl last', '009ppl', '009ppl last', '01', '01 revenue', '011ppl', '011ppl last']\n"
     ]
    }
   ],
   "source": [
    "feature_names = vect.get_feature_names()\n",
    "print(\"Number of features: {}\\n\".format(len(feature_names)))\n",
    "print(\"First 20 features:\\n {}\".format(feature_names[:20]))"
   ]
  },
  {
   "cell_type": "code",
   "execution_count": 57,
   "id": "8dc13585",
   "metadata": {},
   "outputs": [],
   "source": [
    "x = content_perception_df['tokenized_content']\n",
    "y = content_perception_df['perception']\n",
    "x = vect.transform(x)"
   ]
  },
  {
   "cell_type": "code",
   "execution_count": 58,
   "id": "a25066af",
   "metadata": {},
   "outputs": [
    {
     "data": {
      "text/plain": [
       "(7590, 133703)"
      ]
     },
     "execution_count": 58,
     "metadata": {},
     "output_type": "execute_result"
    }
   ],
   "source": [
    "x.shape"
   ]
  },
  {
   "cell_type": "code",
   "execution_count": 59,
   "id": "107e2625",
   "metadata": {},
   "outputs": [],
   "source": [
    "x_train, x_test, y_train, y_test = train_test_split(x,y, test_size=0.2, random_state=42)"
   ]
  },
  {
   "cell_type": "code",
   "execution_count": 60,
   "id": "1810b504",
   "metadata": {},
   "outputs": [
    {
     "name": "stdout",
     "output_type": "stream",
     "text": [
      "Size of x_train: (6072, 133703)\n",
      "Size of y_train: (6072,)\n",
      "Size of x_test: (1518, 133703)\n",
      "Size of y_test: (1518,)\n"
     ]
    }
   ],
   "source": [
    "print(\"Size of x_train:\", (x_train.shape))\n",
    "print(\"Size of y_train:\", (y_train.shape))\n",
    "print(\"Size of x_test:\", (x_test.shape))\n",
    "print(\"Size of y_test:\", (y_test.shape))"
   ]
  },
  {
   "cell_type": "code",
   "execution_count": 61,
   "id": "092eb53f",
   "metadata": {},
   "outputs": [],
   "source": [
    "from sklearn.linear_model import LogisticRegression\n",
    "from sklearn.metrics import accuracy_score, classification_report, confusion_matrix, ConfusionMatrixDisplay"
   ]
  },
  {
   "cell_type": "code",
   "execution_count": 62,
   "id": "452f87b1",
   "metadata": {},
   "outputs": [
    {
     "name": "stdout",
     "output_type": "stream",
     "text": [
      "Test Accuracy: 95.59%\n"
     ]
    }
   ],
   "source": [
    "logreg = LogisticRegression()\n",
    "logreg.fit(x_train, y_train)\n",
    "logreg_pred = logreg.predict(x_test)\n",
    "logreg_acc = accuracy_score(logreg_pred, y_test)\n",
    "print(\"Test Accuracy: {:.2f}%\".format(logreg_acc*100))"
   ]
  },
  {
   "cell_type": "code",
   "execution_count": 101,
   "id": "8e7bf097",
   "metadata": {},
   "outputs": [
    {
     "data": {
      "text/plain": [
       "array([-1.43817804, -2.96371407,  4.40189211])"
      ]
     },
     "execution_count": 101,
     "metadata": {},
     "output_type": "execute_result"
    }
   ],
   "source": [
    "logreg.intercept_"
   ]
  },
  {
   "cell_type": "code",
   "execution_count": 102,
   "id": "b69bee6f",
   "metadata": {},
   "outputs": [
    {
     "data": {
      "text/plain": [
       "array([[-0.00247931,  0.        , -0.00245913, ...,  0.        ,\n",
       "         0.        ,  0.        ],\n",
       "       [-0.00028979,  0.        , -0.00039762, ...,  0.        ,\n",
       "         0.        ,  0.        ],\n",
       "       [ 0.0027691 ,  0.        ,  0.00285675, ...,  0.        ,\n",
       "         0.        ,  0.        ]])"
      ]
     },
     "execution_count": 102,
     "metadata": {},
     "output_type": "execute_result"
    }
   ],
   "source": [
    "logreg.coef_"
   ]
  },
  {
   "cell_type": "code",
   "execution_count": 63,
   "id": "d7d84570",
   "metadata": {},
   "outputs": [
    {
     "name": "stdout",
     "output_type": "stream",
     "text": [
      "[[  49    0   49]\n",
      " [   1    3   10]\n",
      " [   7    0 1399]]\n",
      "\n",
      "\n",
      "                 precision    recall  f1-score   support\n",
      "\n",
      "        correct       0.86      0.50      0.63        98\n",
      "      incorrect       1.00      0.21      0.35        14\n",
      "non-opinionated       0.96      1.00      0.98      1406\n",
      "\n",
      "       accuracy                           0.96      1518\n",
      "      macro avg       0.94      0.57      0.65      1518\n",
      "   weighted avg       0.95      0.96      0.95      1518\n",
      "\n"
     ]
    }
   ],
   "source": [
    "print(confusion_matrix(y_test, logreg_pred))\n",
    "print(\"\\n\")\n",
    "print(classification_report(y_test, logreg_pred))"
   ]
  },
  {
   "cell_type": "code",
   "execution_count": 64,
   "id": "c9952ade",
   "metadata": {},
   "outputs": [
    {
     "data": {
      "text/plain": [
       "<sklearn.metrics._plot.confusion_matrix.ConfusionMatrixDisplay at 0x7f8abad74a00>"
      ]
     },
     "execution_count": 64,
     "metadata": {},
     "output_type": "execute_result"
    },
    {
     "data": {
      "image/png": "[encoded data removed]",
      "text/plain": [
       "<Figure size 640x480 with 2 Axes>"
      ]
     },
     "metadata": {},
     "output_type": "display_data"
    }
   ],
   "source": [
    "style.use('classic')\n",
    "cm = confusion_matrix(y_test, logreg_pred, labels=logreg.classes_)\n",
    "disp = ConfusionMatrixDisplay(confusion_matrix = cm, display_labels=logreg.classes_)\n",
    "disp.plot()"
   ]
  },
  {
   "cell_type": "code",
   "execution_count": 65,
   "id": "ae267873",
   "metadata": {},
   "outputs": [],
   "source": [
    "from sklearn.model_selection import GridSearchCV"
   ]
  },
  {
   "cell_type": "code",
   "execution_count": 66,
   "id": "d0e4ef9f",
   "metadata": {},
   "outputs": [
    {
     "data": {
      "text/plain": [
       "GridSearchCV(estimator=LogisticRegression(),\n",
       "             param_grid={'C': [0.001, 0.01, 0.1, 1, 10]})"
      ]
     },
     "execution_count": 66,
     "metadata": {},
     "output_type": "execute_result"
    }
   ],
   "source": [
    "param_grid={'C':[0.001,0.01,0.1,1,10]}\n",
    "grid = GridSearchCV(LogisticRegression(), param_grid)\n",
    "grid.fit(x_train, y_train)"
   ]
  },
  {
   "cell_type": "code",
   "execution_count": 67,
   "id": "48caeacf",
   "metadata": {},
   "outputs": [
    {
     "name": "stdout",
     "output_type": "stream",
     "text": [
      "Best parameters: {'C': 10}\n"
     ]
    }
   ],
   "source": [
    "print(\"Best parameters:\", grid.best_params_)"
   ]
  },
  {
   "cell_type": "code",
   "execution_count": 68,
   "id": "b4eab37c",
   "metadata": {},
   "outputs": [],
   "source": [
    "y_pred= grid.predict(x_test)"
   ]
  },
  {
   "cell_type": "code",
   "execution_count": 69,
   "id": "0dbfbab4",
   "metadata": {},
   "outputs": [
    {
     "name": "stdout",
     "output_type": "stream",
     "text": [
      "Test accuracy: 95.85%\n"
     ]
    }
   ],
   "source": [
    "logreg_acc = accuracy_score(y_pred, y_test)\n",
    "print(\"Test accuracy: {:.2f}%\".format(logreg_acc*100))"
   ]
  },
  {
   "cell_type": "code",
   "execution_count": 70,
   "id": "07b2b002",
   "metadata": {
    "scrolled": true
   },
   "outputs": [
    {
     "name": "stdout",
     "output_type": "stream",
     "text": [
      "[[  49    0   49]\n",
      " [   1    3   10]\n",
      " [   7    0 1399]]\n",
      "\n",
      "\n",
      "                 precision    recall  f1-score   support\n",
      "\n",
      "        correct       0.86      0.50      0.63        98\n",
      "      incorrect       1.00      0.21      0.35        14\n",
      "non-opinionated       0.96      1.00      0.98      1406\n",
      "\n",
      "       accuracy                           0.96      1518\n",
      "      macro avg       0.94      0.57      0.65      1518\n",
      "   weighted avg       0.95      0.96      0.95      1518\n",
      "\n"
     ]
    }
   ],
   "source": [
    "print(confusion_matrix(y_test, logreg_pred))\n",
    "print(\"\\n\")\n",
    "print(classification_report(y_test, logreg_pred))"
   ]
  },
  {
   "cell_type": "code",
   "execution_count": null,
   "id": "831b0e3a",
   "metadata": {},
   "outputs": [],
   "source": []
  },
  {
   "cell_type": "code",
   "execution_count": 71,
   "id": "f5dc6109",
   "metadata": {},
   "outputs": [
    {
     "data": {
      "text/plain": [
       "LinearSVC()"
      ]
     },
     "execution_count": 71,
     "metadata": {},
     "output_type": "execute_result"
    }
   ],
   "source": [
    "SVCmodel = LinearSVC()\n",
    "SVCmodel.fit(x_train, y_train)"
   ]
  },
  {
   "cell_type": "code",
   "execution_count": 72,
   "id": "784b7236",
   "metadata": {},
   "outputs": [
    {
     "name": "stdout",
     "output_type": "stream",
     "text": [
      "test accuracy: 96.706192%\n"
     ]
    }
   ],
   "source": [
    "svc_pred = SVCmodel.predict(x_test)\n",
    "svc_acc = accuracy_score(svc_pred, y_test)\n",
    "print(\"test accuracy: {:2f}%\".format(svc_acc*100))"
   ]
  },
  {
   "cell_type": "code",
   "execution_count": 73,
   "id": "bb7269a6",
   "metadata": {},
   "outputs": [
    {
     "name": "stdout",
     "output_type": "stream",
     "text": [
      "[[  66    0   32]\n",
      " [   0    4   10]\n",
      " [   8    0 1398]]\n",
      "\n",
      "\n",
      "                 precision    recall  f1-score   support\n",
      "\n",
      "        correct       0.89      0.67      0.77        98\n",
      "      incorrect       1.00      0.29      0.44        14\n",
      "non-opinionated       0.97      0.99      0.98      1406\n",
      "\n",
      "       accuracy                           0.97      1518\n",
      "      macro avg       0.95      0.65      0.73      1518\n",
      "   weighted avg       0.97      0.97      0.96      1518\n",
      "\n"
     ]
    }
   ],
   "source": [
    "print(confusion_matrix(y_test, svc_pred))\n",
    "print(\"\\n\")\n",
    "print(classification_report(y_test, svc_pred))"
   ]
  },
  {
   "cell_type": "code",
   "execution_count": 74,
   "id": "af355cfe",
   "metadata": {},
   "outputs": [
    {
     "name": "stderr",
     "output_type": "stream",
     "text": [
      "/Users/noeljoseph/opt/anaconda3/lib/python3.8/site-packages/sklearn/svm/_base.py:985: ConvergenceWarning: Liblinear failed to converge, increase the number of iterations.\n",
      "  warnings.warn(\"Liblinear failed to converge, increase \"\n",
      "/Users/noeljoseph/opt/anaconda3/lib/python3.8/site-packages/sklearn/svm/_base.py:985: ConvergenceWarning: Liblinear failed to converge, increase the number of iterations.\n",
      "  warnings.warn(\"Liblinear failed to converge, increase \"\n",
      "/Users/noeljoseph/opt/anaconda3/lib/python3.8/site-packages/sklearn/svm/_base.py:985: ConvergenceWarning: Liblinear failed to converge, increase the number of iterations.\n",
      "  warnings.warn(\"Liblinear failed to converge, increase \"\n",
      "/Users/noeljoseph/opt/anaconda3/lib/python3.8/site-packages/sklearn/svm/_base.py:985: ConvergenceWarning: Liblinear failed to converge, increase the number of iterations.\n",
      "  warnings.warn(\"Liblinear failed to converge, increase \"\n",
      "/Users/noeljoseph/opt/anaconda3/lib/python3.8/site-packages/sklearn/svm/_base.py:985: ConvergenceWarning: Liblinear failed to converge, increase the number of iterations.\n",
      "  warnings.warn(\"Liblinear failed to converge, increase \"\n"
     ]
    },
    {
     "data": {
      "text/plain": [
       "GridSearchCV(estimator=LinearSVC(), param_grid={'C': [0.001, 0.01, 0.1, 1, 10]})"
      ]
     },
     "execution_count": 74,
     "metadata": {},
     "output_type": "execute_result"
    }
   ],
   "source": [
    "grid = {\n",
    "    'C':[0.01, 0.1, 1, 10],\n",
    "    'kernel': [\"linear\", \"poly\", \"rbf\", \"sigmoid\"],\n",
    "    'degree': [1,3,5,7],\n",
    "    'gamma': [0.01, 1]\n",
    "}\n",
    "grid = GridSearchCV(SVCmodel, param_grid)\n",
    "grid.fit(x_train, y_train)"
   ]
  },
  {
   "cell_type": "code",
   "execution_count": 75,
   "id": "a3560462",
   "metadata": {},
   "outputs": [
    {
     "name": "stdout",
     "output_type": "stream",
     "text": [
      "Best parameter: {'C': 1}\n"
     ]
    }
   ],
   "source": [
    "print(\"Best parameter:\", grid.best_params_)"
   ]
  },
  {
   "cell_type": "code",
   "execution_count": 76,
   "id": "849cc718",
   "metadata": {},
   "outputs": [],
   "source": [
    "y_pred = grid.predict(x_test)"
   ]
  },
  {
   "cell_type": "code",
   "execution_count": 77,
   "id": "11109f00",
   "metadata": {},
   "outputs": [
    {
     "name": "stdout",
     "output_type": "stream",
     "text": [
      "Test Accuracy: 96.71%\n"
     ]
    }
   ],
   "source": [
    "logreg_acc= accuracy_score(y_pred, y_test)\n",
    "print(\"Test Accuracy: {:.2f}%\".format(logreg_acc*100))"
   ]
  },
  {
   "cell_type": "code",
   "execution_count": 78,
   "id": "d6757168",
   "metadata": {},
   "outputs": [
    {
     "name": "stdout",
     "output_type": "stream",
     "text": [
      "[[  66    0   32]\n",
      " [   0    4   10]\n",
      " [   8    0 1398]]\n",
      "\n",
      "\n",
      "                 precision    recall  f1-score   support\n",
      "\n",
      "        correct       0.89      0.67      0.77        98\n",
      "      incorrect       1.00      0.29      0.44        14\n",
      "non-opinionated       0.97      0.99      0.98      1406\n",
      "\n",
      "       accuracy                           0.97      1518\n",
      "      macro avg       0.95      0.65      0.73      1518\n",
      "   weighted avg       0.97      0.97      0.96      1518\n",
      "\n"
     ]
    }
   ],
   "source": [
    "print(confusion_matrix(y_test, y_pred))\n",
    "print(\"\\n\")\n",
    "print(classification_report(y_test, y_pred))"
   ]
  },
  {
   "cell_type": "code",
   "execution_count": null,
   "id": "fea02209",
   "metadata": {},
   "outputs": [],
   "source": []
  },
  {
   "cell_type": "code",
   "execution_count": 79,
   "id": "f5a67584",
   "metadata": {},
   "outputs": [
    {
     "name": "stderr",
     "output_type": "stream",
     "text": [
      "/Users/noeljoseph/opt/anaconda3/lib/python3.8/site-packages/IPython/core/interactiveshell.py:3165: DtypeWarning: Columns (28,54,162,163,164,165,166,168,169,171,172,173,174,175,176,183,184,185,186,187,188,190,196,197,198,199,200,201,202,207,210,212,213,214,215) have mixed types.Specify dtype option on import or set low_memory=False.\n",
      "  has_raised = await self.run_ast_nodes(code_ast.body, cell_name,\n"
     ]
    }
   ],
   "source": [
    "test_df = pd.read_csv('tweetfinalhealthkerala.csv')"
   ]
  },
  {
   "cell_type": "code",
   "execution_count": 80,
   "id": "0ca95ece",
   "metadata": {},
   "outputs": [
    {
     "name": "stdout",
     "output_type": "stream",
     "text": [
      "<class 'pandas.core.frame.DataFrame'>\n",
      "RangeIndex: 20000 entries, 0 to 19999\n",
      "Columns: 217 entries, Unnamed: 0 to user.label.longDescription\n",
      "dtypes: bool(2), float64(64), int64(14), object(137)\n",
      "memory usage: 32.8+ MB\n"
     ]
    }
   ],
   "source": [
    "test_df.info()"
   ]
  },
  {
   "cell_type": "code",
   "execution_count": 81,
   "id": "da9ea4b2",
   "metadata": {},
   "outputs": [],
   "source": [
    "# drop the columns that are not required\n",
    "test_df = test_df.drop(['_type', 'url', 'renderedContent', 'id', 'user',\n",
    "                 'quoteCount', 'conversationId', 'source', 'sourceUrl',\n",
    "                 'outlinks', 'tcooutlinks', 'media', 'retweetedTweet',\n",
    "                 'quotedTweet', 'inReplyToTweetId','inReplyToUser',\n",
    "                 'mentionedUsers', 'coordinates', 'place', 'cashtags',\n",
    "                 'user_type', 'userID', 'user_description_urls',\n",
    "                 'user_protected', 'user_link_url', 'user_linkTcourl',\n",
    "                 'user_profile_imageUrl', 'user_profile_bannerUrl', 'user_label',\n",
    "                 'user_url', 'label._type', 'label.description', 'label.url',\n",
    "                 'label.badgeUrl', 'label.longDescription', '_type', 'id',\n",
    "                 'quotedTweet.mentionedUsers', 'quotedTweet.coordinates',\n",
    "                 'quotedTweet.place', 'quotedTweet.hashtags', 'quotedTweet.cashtags',\n",
    "                 'user.label._type', 'user.label.description', 'user.label.url',\n",
    "                 'user.label.badgeUrl','user.label.longDescription', 'quotedTweet.source',\n",
    "                 'quotedTweet.sourceUrl', 'quotedTweet.sourceLabel', 'quotedTweet.outlinks',\n",
    "                 'quotedTweet.tcooutlinks', 'quotedTweet.media', 'quotedTweet.retweetedTweet',\n",
    "                 'quotedTweet.quotedTweet', 'quotedTweet.inReplyToTweetId', 'quotedTweet.inReplyToUser'], axis = 'columns')"
   ]
  },
  {
   "cell_type": "code",
   "execution_count": 82,
   "id": "1c707e25",
   "metadata": {},
   "outputs": [],
   "source": [
    "# drop additional columns that appear towards the right of the last relevant column\n",
    "test_df.drop(test_df.columns[[22,23, 24, 25, 26, 27, 28, 29, 30, 31, 32, 33, 34, 35, 36, 37, 38,\n",
    "                    39, 40, 41, 42, 43, 44, 45, 46, 47, 48, 49, 50, 51, 52, 53, 54, 55, 56,\n",
    "                    57, 58, 59, 60, 61, 62, 63, 64, 65, 66, 67, 68, 69, 70, 71, 72, 73, 74, 75,\n",
    "                    76, 77, 78, 79, 80, 81, 82, 83, 84, 85, 86, 87, 88, 89, 90, 91, 92, 93, 94,\n",
    "                    95, 96, 97, 98, 99, 100, 101, 102, 103, 104, 105, 106, 107, 108, 109, 110,\n",
    "                    111, 112, 113, 114, 115, 116, 117, 118, 119, 120, 121, 122, 123, 124, 125,\n",
    "                    126, 127, 128, 129, 130, 131, 132, 133, 134, 135, 136, 137, 138, 139, 140,\n",
    "                    141, 142, 143, 144, 145, 146, 147, 148, 149, 150, 151, 152, 153, 154, 155,\n",
    "                    156, 157, 158, 159, 160, 161]], axis=1, inplace=True)"
   ]
  },
  {
   "cell_type": "code",
   "execution_count": 83,
   "id": "479ba516",
   "metadata": {},
   "outputs": [
    {
     "name": "stdout",
     "output_type": "stream",
     "text": [
      "<class 'pandas.core.frame.DataFrame'>\n",
      "RangeIndex: 20000 entries, 0 to 19999\n",
      "Data columns (total 22 columns):\n",
      " #   Column                 Non-Null Count  Dtype \n",
      "---  ------                 --------------  ----- \n",
      " 0   Unnamed: 0             20000 non-null  int64 \n",
      " 1   date                   20000 non-null  object\n",
      " 2   content                20000 non-null  object\n",
      " 3   replyCount             20000 non-null  int64 \n",
      " 4   retweetCount           20000 non-null  int64 \n",
      " 5   likeCount              20000 non-null  int64 \n",
      " 6   lang                   20000 non-null  object\n",
      " 7   sourceLabel            20000 non-null  object\n",
      " 8   hashtags               7826 non-null   object\n",
      " 9   username               20000 non-null  object\n",
      " 10  user_dispaly_name      19999 non-null  object\n",
      " 11  user_description       17983 non-null  object\n",
      " 12  user_raw_description   17983 non-null  object\n",
      " 13  user_verified          20000 non-null  bool  \n",
      " 14  user_created           20000 non-null  object\n",
      " 15  user_followers_count   20000 non-null  int64 \n",
      " 16  user_friends_count     20000 non-null  int64 \n",
      " 17  user_status_count      20000 non-null  int64 \n",
      " 18  user_favourites_count  20000 non-null  int64 \n",
      " 19  user_listed_count      20000 non-null  int64 \n",
      " 20  user_media_count       20000 non-null  int64 \n",
      " 21  user_location          15109 non-null  object\n",
      "dtypes: bool(1), int64(10), object(11)\n",
      "memory usage: 3.2+ MB\n"
     ]
    }
   ],
   "source": [
    "test_df.info()"
   ]
  },
  {
   "cell_type": "code",
   "execution_count": 84,
   "id": "12bc3a33",
   "metadata": {},
   "outputs": [],
   "source": [
    "# drop the rows\n",
    "test_df.drop(test_df.index[:19800],0,inplace=True)"
   ]
  },
  {
   "cell_type": "code",
   "execution_count": 85,
   "id": "489c6071",
   "metadata": {},
   "outputs": [
    {
     "name": "stdout",
     "output_type": "stream",
     "text": [
      "<class 'pandas.core.frame.DataFrame'>\n",
      "Int64Index: 200 entries, 19800 to 19999\n",
      "Data columns (total 22 columns):\n",
      " #   Column                 Non-Null Count  Dtype \n",
      "---  ------                 --------------  ----- \n",
      " 0   Unnamed: 0             200 non-null    int64 \n",
      " 1   date                   200 non-null    object\n",
      " 2   content                200 non-null    object\n",
      " 3   replyCount             200 non-null    int64 \n",
      " 4   retweetCount           200 non-null    int64 \n",
      " 5   likeCount              200 non-null    int64 \n",
      " 6   lang                   200 non-null    object\n",
      " 7   sourceLabel            200 non-null    object\n",
      " 8   hashtags               58 non-null     object\n",
      " 9   username               200 non-null    object\n",
      " 10  user_dispaly_name      200 non-null    object\n",
      " 11  user_description       164 non-null    object\n",
      " 12  user_raw_description   164 non-null    object\n",
      " 13  user_verified          200 non-null    bool  \n",
      " 14  user_created           200 non-null    object\n",
      " 15  user_followers_count   200 non-null    int64 \n",
      " 16  user_friends_count     200 non-null    int64 \n",
      " 17  user_status_count      200 non-null    int64 \n",
      " 18  user_favourites_count  200 non-null    int64 \n",
      " 19  user_listed_count      200 non-null    int64 \n",
      " 20  user_media_count       200 non-null    int64 \n",
      " 21  user_location          134 non-null    object\n",
      "dtypes: bool(1), int64(10), object(11)\n",
      "memory usage: 34.6+ KB\n"
     ]
    }
   ],
   "source": [
    "test_df.info()"
   ]
  },
  {
   "cell_type": "code",
   "execution_count": 86,
   "id": "bf11950f",
   "metadata": {},
   "outputs": [
    {
     "data": {
      "image/png": "[encoded data removed]",
      "text/plain": [
       "<Figure size 1600x1200 with 12 Axes>"
      ]
     },
     "metadata": {},
     "output_type": "display_data"
    }
   ],
   "source": [
    "#visualising for better undertanding of the spread of the variables\n",
    "test_df.hist(bins=100, figsize=(20,15))\n",
    "plt.show()"
   ]
  },
  {
   "cell_type": "code",
   "execution_count": 87,
   "id": "d1419368",
   "metadata": {},
   "outputs": [
    {
     "data": {
      "text/plain": [
       "Index(['Unnamed: 0', 'date', 'content', 'replyCount', 'retweetCount',\n",
       "       'likeCount', 'lang', 'sourceLabel', 'hashtags', 'username',\n",
       "       'user_dispaly_name', 'user_description', 'user_raw_description',\n",
       "       'user_verified', 'user_created', 'user_followers_count',\n",
       "       'user_friends_count', 'user_status_count', 'user_favourites_count',\n",
       "       'user_listed_count', 'user_media_count', 'user_location'],\n",
       "      dtype='object')"
      ]
     },
     "execution_count": 87,
     "metadata": {},
     "output_type": "execute_result"
    }
   ],
   "source": [
    "test_df.columns"
   ]
  },
  {
   "cell_type": "code",
   "execution_count": 88,
   "id": "be7ed220",
   "metadata": {},
   "outputs": [
    {
     "data": {
      "text/html": [
       "<div>\n",
       "<style scoped>\n",
       "    .dataframe tbody tr th:only-of-type {\n",
       "        vertical-align: middle;\n",
       "    }\n",
       "\n",
       "    .dataframe tbody tr th {\n",
       "        vertical-align: top;\n",
       "    }\n",
       "\n",
       "    .dataframe thead th {\n",
       "        text-align: right;\n",
       "    }\n",
       "</style>\n",
       "<table border=\"1\" class=\"dataframe\">\n",
       "  <thead>\n",
       "    <tr style=\"text-align: right;\">\n",
       "      <th></th>\n",
       "      <th>content</th>\n",
       "    </tr>\n",
       "  </thead>\n",
       "  <tbody>\n",
       "    <tr>\n",
       "      <th>19800</th>\n",
       "      <td>I'm a  kerala state syllabus +2 student. Every...</td>\n",
       "    </tr>\n",
       "    <tr>\n",
       "      <th>19801</th>\n",
       "      <td>With a total population of 35 million, Kerala ...</td>\n",
       "    </tr>\n",
       "    <tr>\n",
       "      <th>19802</th>\n",
       "      <td>Kerala govt partially relents after a long fig...</td>\n",
       "    </tr>\n",
       "    <tr>\n",
       "      <th>19803</th>\n",
       "      <td>@AdvMamtaSharma Justice for kerala students pl...</td>\n",
       "    </tr>\n",
       "    <tr>\n",
       "      <th>19804</th>\n",
       "      <td>The Central Gas Manifold System for Oxygen sup...</td>\n",
       "    </tr>\n",
       "  </tbody>\n",
       "</table>\n",
       "</div>"
      ],
      "text/plain": [
       "                                                 content\n",
       "19800  I'm a  kerala state syllabus +2 student. Every...\n",
       "19801  With a total population of 35 million, Kerala ...\n",
       "19802  Kerala govt partially relents after a long fig...\n",
       "19803  @AdvMamtaSharma Justice for kerala students pl...\n",
       "19804  The Central Gas Manifold System for Oxygen sup..."
      ]
     },
     "execution_count": 88,
     "metadata": {},
     "output_type": "execute_result"
    }
   ],
   "source": [
    "content_test_df = test_df.drop(['Unnamed: 0', 'date', 'replyCount', 'retweetCount',\n",
    "                      'likeCount', 'lang', 'sourceLabel', 'hashtags', 'username',\n",
    "                      'user_dispaly_name', 'user_description', 'user_raw_description',\n",
    "                      'user_verified', 'user_created', 'user_followers_count',\n",
    "                      'user_friends_count', 'user_status_count', 'user_favourites_count',\n",
    "                      'user_listed_count', 'user_media_count', 'user_location'], axis=1)\n",
    "content_test_df.head()"
   ]
  },
  {
   "cell_type": "code",
   "execution_count": 89,
   "id": "ad4961fa",
   "metadata": {},
   "outputs": [],
   "source": [
    "def preprocess_content_test_text(content):\n",
    "    \n",
    "    #convert all text to lowercase\n",
    "    content = content.lower()\n",
    "    \n",
    "    #remove any urls\n",
    "    content = re.sub(r\"http\\S+|www\\S+|https\\s+\", \"\", content, flags=re.MULTILINE)\n",
    "    \n",
    "    #remove punctuations\n",
    "    content = content.translate(str.maketrans(\"\", \"\", string.punctuation))\n",
    "    \n",
    "    #remove # from tweet\n",
    "    content = re.sub(r'\\#', \"\", content)\n",
    "    \n",
    "    #remove stopwords\n",
    "    content_tokens = word_tokenize(content)\n",
    "    filtered_words = [word for word in content_tokens if word not in stop_words]\n",
    "    \n",
    "    #stemming\n",
    "    #ps = PorterStemmer()\n",
    "    #stemmed_words = [ps.stem(w) for w in filtered_words]\n",
    "    \n",
    "    #lemmatizing\n",
    "    #lemmatizer = WordNetLemmatizer()\n",
    "    #lemma_words = [lemmatizer.lemmatize(w, pos='a') for w in stemmed_words]\n",
    "    \n",
    "    return \" \".join(filtered_words)\n",
    "    "
   ]
  },
  {
   "cell_type": "code",
   "execution_count": 90,
   "id": "1c969c08",
   "metadata": {},
   "outputs": [],
   "source": [
    "content_test_df.content = content_test_df['content'].apply(preprocess_content_test_text)"
   ]
  },
  {
   "cell_type": "code",
   "execution_count": 91,
   "id": "374e32e4",
   "metadata": {},
   "outputs": [
    {
     "data": {
      "text/plain": [
       "19800    im kerala state syllabus 2 student everyone ba...\n",
       "19801    total population 35 million kerala currently n...\n",
       "19802    kerala govt partially relents long fight us he...\n",
       "19803    advmamtasharma justice kerala students please ...\n",
       "19804    central gas manifold system oxygen supply esta...\n",
       "Name: content, dtype: object"
      ]
     },
     "execution_count": 91,
     "metadata": {},
     "output_type": "execute_result"
    }
   ],
   "source": [
    "content_test_df.content.head()"
   ]
  },
  {
   "cell_type": "code",
   "execution_count": 92,
   "id": "e7436dc8",
   "metadata": {},
   "outputs": [],
   "source": [
    "#stemming\n",
    "stemmer = PorterStemmer()\n",
    "def stemming(data):\n",
    "    content = [stemmer.stem(word) for word in data]\n",
    "    return data"
   ]
  },
  {
   "cell_type": "code",
   "execution_count": 93,
   "id": "9295e311",
   "metadata": {},
   "outputs": [],
   "source": [
    "content_test_df['content'] = content_test_df['content'].apply(lambda x: stemming(x))"
   ]
  },
  {
   "cell_type": "code",
   "execution_count": 94,
   "id": "dd9b3bad",
   "metadata": {},
   "outputs": [
    {
     "data": {
      "text/html": [
       "<div>\n",
       "<style scoped>\n",
       "    .dataframe tbody tr th:only-of-type {\n",
       "        vertical-align: middle;\n",
       "    }\n",
       "\n",
       "    .dataframe tbody tr th {\n",
       "        vertical-align: top;\n",
       "    }\n",
       "\n",
       "    .dataframe thead th {\n",
       "        text-align: right;\n",
       "    }\n",
       "</style>\n",
       "<table border=\"1\" class=\"dataframe\">\n",
       "  <thead>\n",
       "    <tr style=\"text-align: right;\">\n",
       "      <th></th>\n",
       "      <th>content</th>\n",
       "    </tr>\n",
       "  </thead>\n",
       "  <tbody>\n",
       "    <tr>\n",
       "      <th>19800</th>\n",
       "      <td>im kerala state syllabus 2 student everyone ba...</td>\n",
       "    </tr>\n",
       "    <tr>\n",
       "      <th>19801</th>\n",
       "      <td>total population 35 million kerala currently n...</td>\n",
       "    </tr>\n",
       "    <tr>\n",
       "      <th>19802</th>\n",
       "      <td>kerala govt partially relents long fight us he...</td>\n",
       "    </tr>\n",
       "    <tr>\n",
       "      <th>19803</th>\n",
       "      <td>advmamtasharma justice kerala students please ...</td>\n",
       "    </tr>\n",
       "    <tr>\n",
       "      <th>19804</th>\n",
       "      <td>central gas manifold system oxygen supply esta...</td>\n",
       "    </tr>\n",
       "    <tr>\n",
       "      <th>...</th>\n",
       "      <td>...</td>\n",
       "    </tr>\n",
       "    <tr>\n",
       "      <th>19995</th>\n",
       "      <td>short hindu temple anywhere india muslim chris...</td>\n",
       "    </tr>\n",
       "    <tr>\n",
       "      <th>19996</th>\n",
       "      <td>kerala health worker ’ fb post siva temple lak...</td>\n",
       "    </tr>\n",
       "    <tr>\n",
       "      <th>19997</th>\n",
       "      <td>1798 asha workers infected covid kerala far tw...</td>\n",
       "    </tr>\n",
       "    <tr>\n",
       "      <th>19998</th>\n",
       "      <td>kerala health services department ’ dr aarathy...</td>\n",
       "    </tr>\n",
       "    <tr>\n",
       "      <th>19999</th>\n",
       "      <td>anujkum44636294 rishibagree saw example kerala...</td>\n",
       "    </tr>\n",
       "  </tbody>\n",
       "</table>\n",
       "<p>200 rows × 1 columns</p>\n",
       "</div>"
      ],
      "text/plain": [
       "                                                 content\n",
       "19800  im kerala state syllabus 2 student everyone ba...\n",
       "19801  total population 35 million kerala currently n...\n",
       "19802  kerala govt partially relents long fight us he...\n",
       "19803  advmamtasharma justice kerala students please ...\n",
       "19804  central gas manifold system oxygen supply esta...\n",
       "...                                                  ...\n",
       "19995  short hindu temple anywhere india muslim chris...\n",
       "19996  kerala health worker ’ fb post siva temple lak...\n",
       "19997  1798 asha workers infected covid kerala far tw...\n",
       "19998  kerala health services department ’ dr aarathy...\n",
       "19999  anujkum44636294 rishibagree saw example kerala...\n",
       "\n",
       "[200 rows x 1 columns]"
      ]
     },
     "execution_count": 94,
     "metadata": {},
     "output_type": "execute_result"
    }
   ],
   "source": [
    "content_test_df"
   ]
  },
  {
   "cell_type": "code",
   "execution_count": 95,
   "id": "a81c9c7b",
   "metadata": {},
   "outputs": [],
   "source": [
    "vect = CountVectorizer(ngram_range=(1,2)).fit(content_test_df['content'])"
   ]
  },
  {
   "cell_type": "code",
   "execution_count": 96,
   "id": "5c703484",
   "metadata": {},
   "outputs": [
    {
     "name": "stdout",
     "output_type": "stream",
     "text": [
      "Number of features: 5431\n",
      "\n",
      "First 20 features:\n",
      " ['0471', '0471 2551056', '10', '10 govt', '10 march', '100', '100 perfection', '100 years', '1000s', '1000s health', '10750', '10750 vials', '11', '11 332', '11cms', '11cms nonbjp', '12thboardexams2021', '12thboardexams2021 cancelled', '14', '14 2021']\n"
     ]
    }
   ],
   "source": [
    "feature_names = vect.get_feature_names()\n",
    "print(\"Number of features: {}\\n\".format(len(feature_names)))\n",
    "print(\"First 20 features:\\n {}\".format(feature_names[:20]))"
   ]
  },
  {
   "cell_type": "code",
   "execution_count": 97,
   "id": "e2656bb2",
   "metadata": {},
   "outputs": [],
   "source": [
    "x = content_test_df['content']\n",
    "x = vect.transform(x)"
   ]
  },
  {
   "cell_type": "code",
   "execution_count": 98,
   "id": "d49b10b7",
   "metadata": {},
   "outputs": [
    {
     "data": {
      "text/plain": [
       "(200, 5431)"
      ]
     },
     "execution_count": 98,
     "metadata": {},
     "output_type": "execute_result"
    }
   ],
   "source": [
    "x.shape"
   ]
  },
  {
   "cell_type": "code",
   "execution_count": 99,
   "id": "2deda1da",
   "metadata": {
    "scrolled": true
   },
   "outputs": [
    {
     "data": {
      "text/plain": [
       "(200, 1)"
      ]
     },
     "execution_count": 99,
     "metadata": {},
     "output_type": "execute_result"
    }
   ],
   "source": [
    "content_test_df.shape"
   ]
  },
  {
   "cell_type": "code",
   "execution_count": 100,
   "id": "e521d66d",
   "metadata": {},
   "outputs": [
    {
     "ename": "ValueError",
     "evalue": "X has 5431 features per sample; expecting 133703",
     "output_type": "error",
     "traceback": [
      "\u001b[0;31m---------------------------------------------------------------------------\u001b[0m",
      "\u001b[0;31mValueError\u001b[0m                                Traceback (most recent call last)",
      "\u001b[0;32m<ipython-input-100-3dfc1219244a>\u001b[0m in \u001b[0;36m<module>\u001b[0;34m\u001b[0m\n\u001b[0;32m----> 1\u001b[0;31m \u001b[0mprediction\u001b[0m \u001b[0;34m=\u001b[0m \u001b[0mSVCmodel\u001b[0m\u001b[0;34m.\u001b[0m\u001b[0mpredict\u001b[0m\u001b[0;34m(\u001b[0m\u001b[0mx\u001b[0m\u001b[0;34m)\u001b[0m\u001b[0;34m\u001b[0m\u001b[0;34m\u001b[0m\u001b[0m\n\u001b[0m",
      "\u001b[0;32m~/opt/anaconda3/lib/python3.8/site-packages/sklearn/linear_model/_base.py\u001b[0m in \u001b[0;36mpredict\u001b[0;34m(self, X)\u001b[0m\n\u001b[1;32m    307\u001b[0m             \u001b[0mPredicted\u001b[0m \u001b[0;32mclass\u001b[0m \u001b[0mlabel\u001b[0m \u001b[0mper\u001b[0m \u001b[0msample\u001b[0m\u001b[0;34m.\u001b[0m\u001b[0;34m\u001b[0m\u001b[0;34m\u001b[0m\u001b[0m\n\u001b[1;32m    308\u001b[0m         \"\"\"\n\u001b[0;32m--> 309\u001b[0;31m         \u001b[0mscores\u001b[0m \u001b[0;34m=\u001b[0m \u001b[0mself\u001b[0m\u001b[0;34m.\u001b[0m\u001b[0mdecision_function\u001b[0m\u001b[0;34m(\u001b[0m\u001b[0mX\u001b[0m\u001b[0;34m)\u001b[0m\u001b[0;34m\u001b[0m\u001b[0;34m\u001b[0m\u001b[0m\n\u001b[0m\u001b[1;32m    310\u001b[0m         \u001b[0;32mif\u001b[0m \u001b[0mlen\u001b[0m\u001b[0;34m(\u001b[0m\u001b[0mscores\u001b[0m\u001b[0;34m.\u001b[0m\u001b[0mshape\u001b[0m\u001b[0;34m)\u001b[0m \u001b[0;34m==\u001b[0m \u001b[0;36m1\u001b[0m\u001b[0;34m:\u001b[0m\u001b[0;34m\u001b[0m\u001b[0;34m\u001b[0m\u001b[0m\n\u001b[1;32m    311\u001b[0m             \u001b[0mindices\u001b[0m \u001b[0;34m=\u001b[0m \u001b[0;34m(\u001b[0m\u001b[0mscores\u001b[0m \u001b[0;34m>\u001b[0m \u001b[0;36m0\u001b[0m\u001b[0;34m)\u001b[0m\u001b[0;34m.\u001b[0m\u001b[0mastype\u001b[0m\u001b[0;34m(\u001b[0m\u001b[0mint\u001b[0m\u001b[0;34m)\u001b[0m\u001b[0;34m\u001b[0m\u001b[0;34m\u001b[0m\u001b[0m\n",
      "\u001b[0;32m~/opt/anaconda3/lib/python3.8/site-packages/sklearn/linear_model/_base.py\u001b[0m in \u001b[0;36mdecision_function\u001b[0;34m(self, X)\u001b[0m\n\u001b[1;32m    286\u001b[0m         \u001b[0mn_features\u001b[0m \u001b[0;34m=\u001b[0m \u001b[0mself\u001b[0m\u001b[0;34m.\u001b[0m\u001b[0mcoef_\u001b[0m\u001b[0;34m.\u001b[0m\u001b[0mshape\u001b[0m\u001b[0;34m[\u001b[0m\u001b[0;36m1\u001b[0m\u001b[0;34m]\u001b[0m\u001b[0;34m\u001b[0m\u001b[0;34m\u001b[0m\u001b[0m\n\u001b[1;32m    287\u001b[0m         \u001b[0;32mif\u001b[0m \u001b[0mX\u001b[0m\u001b[0;34m.\u001b[0m\u001b[0mshape\u001b[0m\u001b[0;34m[\u001b[0m\u001b[0;36m1\u001b[0m\u001b[0;34m]\u001b[0m \u001b[0;34m!=\u001b[0m \u001b[0mn_features\u001b[0m\u001b[0;34m:\u001b[0m\u001b[0;34m\u001b[0m\u001b[0;34m\u001b[0m\u001b[0m\n\u001b[0;32m--> 288\u001b[0;31m             raise ValueError(\"X has %d features per sample; expecting %d\"\n\u001b[0m\u001b[1;32m    289\u001b[0m                              % (X.shape[1], n_features))\n\u001b[1;32m    290\u001b[0m \u001b[0;34m\u001b[0m\u001b[0m\n",
      "\u001b[0;31mValueError\u001b[0m: X has 5431 features per sample; expecting 133703"
     ]
    }
   ],
   "source": [
    "prediction = SVCmodel.predict(x)"
   ]
  },
  {
   "cell_type": "code",
   "execution_count": null,
   "id": "0e4fe5ee",
   "metadata": {},
   "outputs": [],
   "source": []
  },
  {
   "cell_type": "code",
   "execution_count": null,
   "id": "db22395c",
   "metadata": {},
   "outputs": [],
   "source": []
  }
 ],
 "metadata": {
  "kernelspec": {
   "display_name": "Python 3",
   "language": "python",
   "name": "python3"
  },
  "language_info": {
   "codemirror_mode": {
    "name": "ipython",
    "version": 3
   },
   "file_extension": ".py",
   "mimetype": "text/x-python",
   "name": "python",
   "nbconvert_exporter": "python",
   "pygments_lexer": "ipython3",
   "version": "3.8.8"
  }
 },
 "nbformat": 4,
 "nbformat_minor": 5
}
