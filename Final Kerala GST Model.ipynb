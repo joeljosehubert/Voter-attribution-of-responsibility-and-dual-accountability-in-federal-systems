{
 "cells": [
  {
   "cell_type": "code",
   "execution_count": 22,
   "id": "369d5f9a",
   "metadata": {},
   "outputs": [],
   "source": [
    "#Import the necessary libraries (numpy and pandas)\n",
    "import pandas as pd\n",
    "import numpy as np\n",
    "import matplotlib.pyplot as plt\n",
    "import seaborn as sns\n",
    "from matplotlib import style\n",
    "style.use('ggplot')\n",
    "from sklearn import datasets\n",
    "from sklearn.preprocessing import StandardScaler\n",
    "from sklearn.svm import LinearSVC\n",
    "from sklearn.model_selection import train_test_split\n",
    "from sklearn.multiclass import OneVsRestClassifier\n",
    "from sklearn.multiclass import OneVsOneClassifier\n",
    "from sklearn.svm import SVC\n",
    "from sklearn.metrics import confusion_matrix\n",
    "from sklearn.metrics import ConfusionMatrixDisplay\n",
    "from sklearn.metrics import classification_report\n",
    "from sklearn.metrics import precision_score, recall_score\n",
    "from sklearn.model_selection import cross_val_score\n",
    "%matplotlib inline"
   ]
  },
  {
   "cell_type": "code",
   "execution_count": 23,
   "id": "349951cb",
   "metadata": {},
   "outputs": [
    {
     "name": "stderr",
     "output_type": "stream",
     "text": [
      "/Users/noeljoseph/opt/anaconda3/lib/python3.8/site-packages/IPython/core/interactiveshell.py:3165: DtypeWarning: Columns (28,52,53,54,55,56,145,185,186,200,201,202,207,210,212,213,215,216,217,219,220,227,228,229,230,231,232,234) have mixed types.Specify dtype option on import or set low_memory=False.\n",
      "  has_raised = await self.run_ast_nodes(code_ast.body, cell_name,\n"
     ]
    }
   ],
   "source": [
    "#read the scraped file\n",
    "df = pd.read_csv('tweetfinalGSTkerala.csv')"
   ]
  },
  {
   "cell_type": "code",
   "execution_count": 24,
   "id": "8b3b27cf",
   "metadata": {},
   "outputs": [
    {
     "name": "stdout",
     "output_type": "stream",
     "text": [
      "<class 'pandas.core.frame.DataFrame'>\n",
      "RangeIndex: 10457 entries, 0 to 10456\n",
      "Columns: 235 entries, Unnamed: 0 to quotedTweet.inReplyToUser.url\n",
      "dtypes: bool(2), float64(73), int64(14), object(146)\n",
      "memory usage: 18.6+ MB\n"
     ]
    }
   ],
   "source": [
    "df.info()"
   ]
  },
  {
   "cell_type": "code",
   "execution_count": 25,
   "id": "e631fcf0",
   "metadata": {},
   "outputs": [],
   "source": [
    "# drop the columns that are not required\n",
    "df = df.drop(['_type', 'url', 'renderedContent', 'id', 'user',\n",
    "                 'quoteCount', 'conversationId', 'source', 'sourceUrl',\n",
    "                 'outlinks', 'tcooutlinks', 'media', 'retweetedTweet',\n",
    "                 'quotedTweet', 'inReplyToTweetId','inReplyToUser',\n",
    "                 'mentionedUsers', 'coordinates', 'place', 'cashtags',\n",
    "                 'user_type', 'userID', 'user_description_urls',\n",
    "                 'user_protected', 'user_link_url', 'user_linkTcourl',\n",
    "                 'user_profile_imageUrl', 'user_profile_bannerUrl', 'user_label',\n",
    "                 'user_url', 'label._type', 'label.description', 'label.url',\n",
    "                 'label.badgeUrl', 'label.longDescription', '_type', 'id',\n",
    "                 'quotedTweet.mentionedUsers', 'quotedTweet.coordinates',\n",
    "                 'quotedTweet.place', 'quotedTweet.hashtags', 'quotedTweet.cashtags',\n",
    "                  'quotedTweet.source','quotedTweet.sourceUrl', 'quotedTweet.sourceLabel', 'quotedTweet.outlinks',\n",
    "                 'quotedTweet.tcooutlinks', 'quotedTweet.media', 'quotedTweet.retweetedTweet',\n",
    "                 'quotedTweet.quotedTweet', 'quotedTweet.inReplyToTweetId', 'quotedTweet.inReplyToUser'], axis = 'columns')"
   ]
  },
  {
   "cell_type": "code",
   "execution_count": 26,
   "id": "9bd6231e",
   "metadata": {},
   "outputs": [],
   "source": [
    "# drop additional columns that appear towards the right of the last relevant column\n",
    "df.drop(df.columns[[22,23, 24, 25, 26, 27, 28, 29, 30, 31, 32, 33, 34, 35, 36, 37, 38,\n",
    "                    39, 40, 41, 42, 43, 44, 45, 46, 47, 48, 49, 50, 51, 52, 53, 54, 55, 56,\n",
    "                    57, 58, 59, 60, 61, 62, 63, 64, 65, 66, 67, 68, 69, 70, 71, 72, 73, 74, 75,\n",
    "                    76, 77, 78, 79, 80, 81, 82, 83, 84, 85, 86, 87, 88, 89, 90, 91, 92, 93, 94,\n",
    "                    95, 96, 97, 98, 99, 100, 101, 102, 103, 104, 105, 106, 107, 108, 109, 110,\n",
    "                    111, 112, 113, 114, 115, 116, 117, 118, 119, 120, 121, 122, 123, 124, 125,\n",
    "                    126, 127, 128, 129, 130, 131, 132, 133, 134, 135, 136, 137, 138, 139, 140,\n",
    "                    141, 142, 143, 144, 145, 146, 147, 148, 149, 150, 151, 152, 153, 154, 155,\n",
    "                    156, 157, 158, 159, 160, 161]], axis=1, inplace=True)"
   ]
  },
  {
   "cell_type": "code",
   "execution_count": 27,
   "id": "e182674a",
   "metadata": {},
   "outputs": [
    {
     "name": "stdout",
     "output_type": "stream",
     "text": [
      "<class 'pandas.core.frame.DataFrame'>\n",
      "RangeIndex: 10457 entries, 0 to 10456\n",
      "Data columns (total 45 columns):\n",
      " #   Column                                      Non-Null Count  Dtype  \n",
      "---  ------                                      --------------  -----  \n",
      " 0   Unnamed: 0                                  10457 non-null  int64  \n",
      " 1   date                                        10457 non-null  object \n",
      " 2   content                                     10457 non-null  object \n",
      " 3   replyCount                                  10457 non-null  int64  \n",
      " 4   retweetCount                                10457 non-null  int64  \n",
      " 5   likeCount                                   10457 non-null  int64  \n",
      " 6   lang                                        10457 non-null  object \n",
      " 7   sourceLabel                                 10457 non-null  object \n",
      " 8   hashtags                                    3119 non-null   object \n",
      " 9   username                                    10457 non-null  object \n",
      " 10  user_dispaly_name                           10356 non-null  object \n",
      " 11  user_description                            8775 non-null   object \n",
      " 12  user_raw_description                        8775 non-null   object \n",
      " 13  user_verified                               10457 non-null  bool   \n",
      " 14  user_created                                10457 non-null  object \n",
      " 15  user_followers_count                        10457 non-null  int64  \n",
      " 16  user_friends_count                          10457 non-null  int64  \n",
      " 17  user_status_count                           10457 non-null  int64  \n",
      " 18  user_favourites_count                       10457 non-null  int64  \n",
      " 19  user_listed_count                           10457 non-null  int64  \n",
      " 20  user_media_count                            10457 non-null  int64  \n",
      " 21  user_location                               7679 non-null   object \n",
      " 22  quotedTweet.inReplyToUser._type             4 non-null      object \n",
      " 23  quotedTweet.inReplyToUser.username          4 non-null      object \n",
      " 24  quotedTweet.inReplyToUser.id                4 non-null      float64\n",
      " 25  quotedTweet.inReplyToUser.displayname       4 non-null      object \n",
      " 26  quotedTweet.inReplyToUser.description       4 non-null      object \n",
      " 27  quotedTweet.inReplyToUser.rawDescription    4 non-null      object \n",
      " 28  quotedTweet.inReplyToUser.descriptionUrls   0 non-null      float64\n",
      " 29  quotedTweet.inReplyToUser.verified          4 non-null      object \n",
      " 30  quotedTweet.inReplyToUser.created           4 non-null      object \n",
      " 31  quotedTweet.inReplyToUser.followersCount    4 non-null      float64\n",
      " 32  quotedTweet.inReplyToUser.friendsCount      4 non-null      float64\n",
      " 33  quotedTweet.inReplyToUser.statusesCount     4 non-null      float64\n",
      " 34  quotedTweet.inReplyToUser.favouritesCount   4 non-null      float64\n",
      " 35  quotedTweet.inReplyToUser.listedCount       4 non-null      float64\n",
      " 36  quotedTweet.inReplyToUser.mediaCount        4 non-null      float64\n",
      " 37  quotedTweet.inReplyToUser.location          4 non-null      object \n",
      " 38  quotedTweet.inReplyToUser.protected         4 non-null      object \n",
      " 39  quotedTweet.inReplyToUser.linkUrl           4 non-null      object \n",
      " 40  quotedTweet.inReplyToUser.linkTcourl        4 non-null      object \n",
      " 41  quotedTweet.inReplyToUser.profileImageUrl   4 non-null      object \n",
      " 42  quotedTweet.inReplyToUser.profileBannerUrl  4 non-null      object \n",
      " 43  quotedTweet.inReplyToUser.label             0 non-null      float64\n",
      " 44  quotedTweet.inReplyToUser.url               4 non-null      object \n",
      "dtypes: bool(1), float64(9), int64(10), object(25)\n",
      "memory usage: 3.5+ MB\n"
     ]
    }
   ],
   "source": [
    "df.info()"
   ]
  },
  {
   "cell_type": "code",
   "execution_count": 28,
   "id": "4b2757f2",
   "metadata": {},
   "outputs": [],
   "source": [
    "# drop additional columns that appear towards the right of the last relevant column\n",
    "df.drop(df.columns[[22,23, 24, 25, 26, 27, 28, 29, 30, 31, 32, 33, 34, 35, 36, 37, 38,\n",
    "                    39, 40, 41, 42, 43, 44]], axis=1, inplace=True)"
   ]
  },
  {
   "cell_type": "code",
   "execution_count": 29,
   "id": "0e014933",
   "metadata": {},
   "outputs": [
    {
     "name": "stdout",
     "output_type": "stream",
     "text": [
      "<class 'pandas.core.frame.DataFrame'>\n",
      "RangeIndex: 10457 entries, 0 to 10456\n",
      "Data columns (total 22 columns):\n",
      " #   Column                 Non-Null Count  Dtype \n",
      "---  ------                 --------------  ----- \n",
      " 0   Unnamed: 0             10457 non-null  int64 \n",
      " 1   date                   10457 non-null  object\n",
      " 2   content                10457 non-null  object\n",
      " 3   replyCount             10457 non-null  int64 \n",
      " 4   retweetCount           10457 non-null  int64 \n",
      " 5   likeCount              10457 non-null  int64 \n",
      " 6   lang                   10457 non-null  object\n",
      " 7   sourceLabel            10457 non-null  object\n",
      " 8   hashtags               3119 non-null   object\n",
      " 9   username               10457 non-null  object\n",
      " 10  user_dispaly_name      10356 non-null  object\n",
      " 11  user_description       8775 non-null   object\n",
      " 12  user_raw_description   8775 non-null   object\n",
      " 13  user_verified          10457 non-null  bool  \n",
      " 14  user_created           10457 non-null  object\n",
      " 15  user_followers_count   10457 non-null  int64 \n",
      " 16  user_friends_count     10457 non-null  int64 \n",
      " 17  user_status_count      10457 non-null  int64 \n",
      " 18  user_favourites_count  10457 non-null  int64 \n",
      " 19  user_listed_count      10457 non-null  int64 \n",
      " 20  user_media_count       10457 non-null  int64 \n",
      " 21  user_location          7679 non-null   object\n",
      "dtypes: bool(1), int64(10), object(11)\n",
      "memory usage: 1.7+ MB\n"
     ]
    }
   ],
   "source": [
    "df.info()"
   ]
  },
  {
   "cell_type": "code",
   "execution_count": 30,
   "id": "e9c0abfb",
   "metadata": {},
   "outputs": [],
   "source": [
    "# drop the rows\n",
    "#df.drop(df.index[5500:4907],0,inplace=True)"
   ]
  },
  {
   "cell_type": "code",
   "execution_count": 31,
   "id": "1a330dd6",
   "metadata": {},
   "outputs": [
    {
     "name": "stdout",
     "output_type": "stream",
     "text": [
      "<class 'pandas.core.frame.DataFrame'>\n",
      "RangeIndex: 10457 entries, 0 to 10456\n",
      "Data columns (total 22 columns):\n",
      " #   Column                 Non-Null Count  Dtype \n",
      "---  ------                 --------------  ----- \n",
      " 0   Unnamed: 0             10457 non-null  int64 \n",
      " 1   date                   10457 non-null  object\n",
      " 2   content                10457 non-null  object\n",
      " 3   replyCount             10457 non-null  int64 \n",
      " 4   retweetCount           10457 non-null  int64 \n",
      " 5   likeCount              10457 non-null  int64 \n",
      " 6   lang                   10457 non-null  object\n",
      " 7   sourceLabel            10457 non-null  object\n",
      " 8   hashtags               3119 non-null   object\n",
      " 9   username               10457 non-null  object\n",
      " 10  user_dispaly_name      10356 non-null  object\n",
      " 11  user_description       8775 non-null   object\n",
      " 12  user_raw_description   8775 non-null   object\n",
      " 13  user_verified          10457 non-null  bool  \n",
      " 14  user_created           10457 non-null  object\n",
      " 15  user_followers_count   10457 non-null  int64 \n",
      " 16  user_friends_count     10457 non-null  int64 \n",
      " 17  user_status_count      10457 non-null  int64 \n",
      " 18  user_favourites_count  10457 non-null  int64 \n",
      " 19  user_listed_count      10457 non-null  int64 \n",
      " 20  user_media_count       10457 non-null  int64 \n",
      " 21  user_location          7679 non-null   object\n",
      "dtypes: bool(1), int64(10), object(11)\n",
      "memory usage: 1.7+ MB\n"
     ]
    }
   ],
   "source": [
    "df.info()"
   ]
  },
  {
   "cell_type": "code",
   "execution_count": 32,
   "id": "c4ae2a61",
   "metadata": {},
   "outputs": [
    {
     "data": {
      "image/png": "[encoded data removed]",
      "text/plain": [
       "<Figure size 1440x1080 with 12 Axes>"
      ]
     },
     "metadata": {
      "needs_background": "light"
     },
     "output_type": "display_data"
    }
   ],
   "source": [
    "#visualising for better undertanding of the spread of the variables\n",
    "df.hist(bins=100, figsize=(20,15))\n",
    "plt.show()"
   ]
  },
  {
   "cell_type": "code",
   "execution_count": 33,
   "id": "e9d1489f",
   "metadata": {},
   "outputs": [],
   "source": [
    "# IMPORT modules for natural language processing"
   ]
  },
  {
   "cell_type": "code",
   "execution_count": 34,
   "id": "34b16970",
   "metadata": {},
   "outputs": [],
   "source": [
    "import re\n",
    "import string\n",
    "import nltk"
   ]
  },
  {
   "cell_type": "code",
   "execution_count": 35,
   "id": "0ad670dc",
   "metadata": {},
   "outputs": [],
   "source": [
    "from nltk.corpus import stopwords\n",
    "from nltk.tokenize import word_tokenize\n",
    "from nltk.stem import PorterStemmer\n",
    "from nltk.stem import WordNetLemmatizer\n",
    "from sklearn.model_selection import train_test_split"
   ]
  },
  {
   "cell_type": "code",
   "execution_count": 36,
   "id": "e1429411",
   "metadata": {
    "scrolled": true
   },
   "outputs": [
    {
     "name": "stderr",
     "output_type": "stream",
     "text": [
      "[nltk_data] Downloading package stopwords to\n",
      "[nltk_data]     /Users/noeljoseph/nltk_data...\n",
      "[nltk_data]   Package stopwords is already up-to-date!\n"
     ]
    }
   ],
   "source": [
    "#creating a stopwords set\n",
    "import nltk\n",
    "nltk.download('stopwords')\n",
    "stop_words = set(stopwords.words('english'))"
   ]
  },
  {
   "cell_type": "code",
   "execution_count": 37,
   "id": "0420db6b",
   "metadata": {},
   "outputs": [
    {
     "data": {
      "text/plain": [
       "Index(['Unnamed: 0', 'date', 'content', 'replyCount', 'retweetCount',\n",
       "       'likeCount', 'lang', 'sourceLabel', 'hashtags', 'username',\n",
       "       'user_dispaly_name', 'user_description', 'user_raw_description',\n",
       "       'user_verified', 'user_created', 'user_followers_count',\n",
       "       'user_friends_count', 'user_status_count', 'user_favourites_count',\n",
       "       'user_listed_count', 'user_media_count', 'user_location'],\n",
       "      dtype='object')"
      ]
     },
     "execution_count": 37,
     "metadata": {},
     "output_type": "execute_result"
    }
   ],
   "source": [
    "df.columns"
   ]
  },
  {
   "cell_type": "code",
   "execution_count": 38,
   "id": "1f70165b",
   "metadata": {},
   "outputs": [
    {
     "data": {
      "text/plain": [
       "<AxesSubplot:>"
      ]
     },
     "execution_count": 38,
     "metadata": {},
     "output_type": "execute_result"
    },
    {
     "data": {
      "image/png": "[encoded data removed]",
      "text/plain": [
       "<Figure size 432x288 with 2 Axes>"
      ]
     },
     "metadata": {
      "needs_background": "light"
     },
     "output_type": "display_data"
    }
   ],
   "source": [
    "import seaborn as sns\n",
    "sns.heatmap(df.corr())"
   ]
  },
  {
   "cell_type": "code",
   "execution_count": 39,
   "id": "c3f6db95",
   "metadata": {},
   "outputs": [
    {
     "name": "stdout",
     "output_type": "stream",
     "text": [
      "Percentage False    0.876733\n",
      "True     0.123267\n",
      "Name: user_verified, dtype: float64\n"
     ]
    },
    {
     "data": {
      "text/plain": [
       "<AxesSubplot:ylabel='user_verified'>"
      ]
     },
     "execution_count": 39,
     "metadata": {},
     "output_type": "execute_result"
    },
    {
     "data": {
      "image/png": "[encoded data removed]",
      "text/plain": [
       "<Figure size 432x288 with 1 Axes>"
      ]
     },
     "metadata": {},
     "output_type": "display_data"
    }
   ],
   "source": [
    "print('Percentage',df.user_verified.value_counts(normalize=True))\n",
    "df.user_verified.value_counts(normalize=True).plot(kind='pie')"
   ]
  },
  {
   "cell_type": "code",
   "execution_count": 40,
   "id": "35b6a526",
   "metadata": {},
   "outputs": [
    {
     "data": {
      "text/plain": [
       "Index(['Unnamed: 0', 'date', 'content', 'replyCount', 'retweetCount',\n",
       "       'likeCount', 'lang', 'sourceLabel', 'hashtags', 'username',\n",
       "       'user_dispaly_name', 'user_description', 'user_raw_description',\n",
       "       'user_verified', 'user_created', 'user_followers_count',\n",
       "       'user_friends_count', 'user_status_count', 'user_favourites_count',\n",
       "       'user_listed_count', 'user_media_count', 'user_location'],\n",
       "      dtype='object')"
      ]
     },
     "execution_count": 40,
     "metadata": {},
     "output_type": "execute_result"
    }
   ],
   "source": [
    "df.columns"
   ]
  },
  {
   "cell_type": "code",
   "execution_count": null,
   "id": "ece85a44",
   "metadata": {},
   "outputs": [],
   "source": []
  },
  {
   "cell_type": "code",
   "execution_count": 41,
   "id": "28a013a1",
   "metadata": {
    "scrolled": true
   },
   "outputs": [
    {
     "data": {
      "text/html": [
       "<div>\n",
       "<style scoped>\n",
       "    .dataframe tbody tr th:only-of-type {\n",
       "        vertical-align: middle;\n",
       "    }\n",
       "\n",
       "    .dataframe tbody tr th {\n",
       "        vertical-align: top;\n",
       "    }\n",
       "\n",
       "    .dataframe thead th {\n",
       "        text-align: right;\n",
       "    }\n",
       "</style>\n",
       "<table border=\"1\" class=\"dataframe\">\n",
       "  <thead>\n",
       "    <tr style=\"text-align: right;\">\n",
       "      <th></th>\n",
       "      <th>content</th>\n",
       "    </tr>\n",
       "  </thead>\n",
       "  <tbody>\n",
       "    <tr>\n",
       "      <th>0</th>\n",
       "      <td>Private education training firms subject to GS...</td>\n",
       "    </tr>\n",
       "    <tr>\n",
       "      <th>1</th>\n",
       "      <td>Right to appeal could not be deprived if amoun...</td>\n",
       "    </tr>\n",
       "    <tr>\n",
       "      <th>2</th>\n",
       "      <td>@Paguthuaribavan still have to talk about Sout...</td>\n",
       "    </tr>\n",
       "    <tr>\n",
       "      <th>3</th>\n",
       "      <td>#India\\nOnline education firms not exempt from...</td>\n",
       "    </tr>\n",
       "    <tr>\n",
       "      <th>4</th>\n",
       "      <td>#GST #CaseLaw\\n\\nRight to appeal could not be ...</td>\n",
       "    </tr>\n",
       "  </tbody>\n",
       "</table>\n",
       "</div>"
      ],
      "text/plain": [
       "                                             content\n",
       "0  Private education training firms subject to GS...\n",
       "1  Right to appeal could not be deprived if amoun...\n",
       "2  @Paguthuaribavan still have to talk about Sout...\n",
       "3  #India\\nOnline education firms not exempt from...\n",
       "4  #GST #CaseLaw\\n\\nRight to appeal could not be ..."
      ]
     },
     "execution_count": 41,
     "metadata": {},
     "output_type": "execute_result"
    }
   ],
   "source": [
    "# make a new dataframe with only content\n",
    "content_df = df.drop(['Unnamed: 0', 'date', 'replyCount', 'retweetCount',\n",
    "                      'likeCount', 'lang', 'sourceLabel', 'hashtags', 'username',\n",
    "                      'user_dispaly_name', 'user_description', 'user_raw_description',\n",
    "                      'user_verified', 'user_created', 'user_followers_count',\n",
    "                      'user_friends_count', 'user_status_count', 'user_favourites_count',\n",
    "                      'user_listed_count', 'user_media_count', 'user_location'], axis=1)\n",
    "content_df.head()"
   ]
  },
  {
   "cell_type": "code",
   "execution_count": 42,
   "id": "c26a6ac8",
   "metadata": {
    "scrolled": true
   },
   "outputs": [
    {
     "name": "stdout",
     "output_type": "stream",
     "text": [
      "<class 'pandas.core.frame.DataFrame'>\n",
      "RangeIndex: 10457 entries, 0 to 10456\n",
      "Data columns (total 1 columns):\n",
      " #   Column   Non-Null Count  Dtype \n",
      "---  ------   --------------  ----- \n",
      " 0   content  10457 non-null  object\n",
      "dtypes: object(1)\n",
      "memory usage: 81.8+ KB\n"
     ]
    }
   ],
   "source": [
    "content_df.info()"
   ]
  },
  {
   "cell_type": "code",
   "execution_count": 43,
   "id": "197be4c7",
   "metadata": {},
   "outputs": [],
   "source": [
    "content_df = content_df.rename(columns={'content':'tokenized_content'})"
   ]
  },
  {
   "cell_type": "code",
   "execution_count": 44,
   "id": "341eb09f",
   "metadata": {},
   "outputs": [
    {
     "data": {
      "text/html": [
       "<div>\n",
       "<style scoped>\n",
       "    .dataframe tbody tr th:only-of-type {\n",
       "        vertical-align: middle;\n",
       "    }\n",
       "\n",
       "    .dataframe tbody tr th {\n",
       "        vertical-align: top;\n",
       "    }\n",
       "\n",
       "    .dataframe thead th {\n",
       "        text-align: right;\n",
       "    }\n",
       "</style>\n",
       "<table border=\"1\" class=\"dataframe\">\n",
       "  <thead>\n",
       "    <tr style=\"text-align: right;\">\n",
       "      <th></th>\n",
       "      <th>tokenized_content</th>\n",
       "    </tr>\n",
       "  </thead>\n",
       "  <tbody>\n",
       "    <tr>\n",
       "      <th>0</th>\n",
       "      <td>Private education training firms subject to GS...</td>\n",
       "    </tr>\n",
       "    <tr>\n",
       "      <th>1</th>\n",
       "      <td>Right to appeal could not be deprived if amoun...</td>\n",
       "    </tr>\n",
       "    <tr>\n",
       "      <th>2</th>\n",
       "      <td>@Paguthuaribavan still have to talk about Sout...</td>\n",
       "    </tr>\n",
       "    <tr>\n",
       "      <th>3</th>\n",
       "      <td>#India\\nOnline education firms not exempt from...</td>\n",
       "    </tr>\n",
       "    <tr>\n",
       "      <th>4</th>\n",
       "      <td>#GST #CaseLaw\\n\\nRight to appeal could not be ...</td>\n",
       "    </tr>\n",
       "  </tbody>\n",
       "</table>\n",
       "</div>"
      ],
      "text/plain": [
       "                                   tokenized_content\n",
       "0  Private education training firms subject to GS...\n",
       "1  Right to appeal could not be deprived if amoun...\n",
       "2  @Paguthuaribavan still have to talk about Sout...\n",
       "3  #India\\nOnline education firms not exempt from...\n",
       "4  #GST #CaseLaw\\n\\nRight to appeal could not be ..."
      ]
     },
     "execution_count": 44,
     "metadata": {},
     "output_type": "execute_result"
    }
   ],
   "source": [
    "content_df.head()"
   ]
  },
  {
   "cell_type": "code",
   "execution_count": 45,
   "id": "1cd8c620",
   "metadata": {},
   "outputs": [],
   "source": [
    "def preprocess_content_text(content):\n",
    "    \n",
    "    #convert all text to lowercase\n",
    "    content = content.lower()\n",
    "    \n",
    "    #remove any urls\n",
    "    content = re.sub(r\"http\\S+|www\\S+|https\\s+\", \"\", content, flags=re.MULTILINE)\n",
    "    \n",
    "    #remove punctuations\n",
    "    content = content.translate(str.maketrans(\"\", \"\", string.punctuation))\n",
    "    \n",
    "    #remove # from tweet\n",
    "    content = re.sub(r'\\#', \"\", content)\n",
    "    \n",
    "    #remove stopwords\n",
    "    content_tokens = word_tokenize(content)\n",
    "    filtered_words = [word for word in content_tokens if word not in stop_words]\n",
    "    \n",
    "    #stemming\n",
    "    #ps = PorterStemmer()\n",
    "    #stemmed_words = [ps.stem(w) for w in filtered_words]\n",
    "    \n",
    "    #lemmatizing\n",
    "    #lemmatizer = WordNetLemmatizer()\n",
    "    #lemma_words = [lemmatizer.lemmatize(w, pos='a') for w in stemmed_words]\n",
    "    \n",
    "    return \" \".join(filtered_words)\n",
    "    "
   ]
  },
  {
   "cell_type": "code",
   "execution_count": 46,
   "id": "f98aedfe",
   "metadata": {},
   "outputs": [],
   "source": [
    "content_df.tokenized_content = content_df['tokenized_content'].apply(preprocess_content_text)"
   ]
  },
  {
   "cell_type": "code",
   "execution_count": 47,
   "id": "3d1e33d9",
   "metadata": {},
   "outputs": [
    {
     "data": {
      "text/plain": [
       "0    private education training firms subject gst r...\n",
       "1    right appeal could deprived amount paid releas...\n",
       "2    paguthuaribavan still talk south right happene...\n",
       "3    india online education firms exempt gst clarif...\n",
       "4    gst caselaw right appeal could deprived amount...\n",
       "Name: tokenized_content, dtype: object"
      ]
     },
     "execution_count": 47,
     "metadata": {},
     "output_type": "execute_result"
    }
   ],
   "source": [
    "content_df.tokenized_content.head()\n",
    "                "
   ]
  },
  {
   "cell_type": "code",
   "execution_count": 48,
   "id": "8b278d46",
   "metadata": {},
   "outputs": [],
   "source": [
    "#content_df = content_df.drop_duplicates('content')"
   ]
  },
  {
   "cell_type": "code",
   "execution_count": 49,
   "id": "2f3c5607",
   "metadata": {
    "scrolled": true
   },
   "outputs": [],
   "source": [
    "#stemming\n",
    "stemmer = PorterStemmer()\n",
    "def stemming(data):\n",
    "    content = [stemmer.stem(word) for word in data]\n",
    "    return data"
   ]
  },
  {
   "cell_type": "code",
   "execution_count": 50,
   "id": "35581d94",
   "metadata": {},
   "outputs": [],
   "source": [
    "content_df['tokenized_content'] = content_df['tokenized_content'].apply(lambda x: stemming(x))"
   ]
  },
  {
   "cell_type": "code",
   "execution_count": 51,
   "id": "81afe407",
   "metadata": {},
   "outputs": [
    {
     "data": {
      "text/plain": [
       "'private education training firms subject gst rules kerala aar'"
      ]
     },
     "execution_count": 51,
     "metadata": {},
     "output_type": "execute_result"
    }
   ],
   "source": [
    "# check the data after pre-processing\n",
    "content_df['tokenized_content'][0]"
   ]
  },
  {
   "cell_type": "code",
   "execution_count": 52,
   "id": "f3cd5268",
   "metadata": {},
   "outputs": [
    {
     "name": "stderr",
     "output_type": "stream",
     "text": [
      "[nltk_data] Downloading package vader_lexicon to\n",
      "[nltk_data]     /Users/noeljoseph/nltk_data...\n",
      "[nltk_data]   Package vader_lexicon is already up-to-date!\n"
     ]
    },
    {
     "data": {
      "text/plain": [
       "True"
      ]
     },
     "execution_count": 52,
     "metadata": {},
     "output_type": "execute_result"
    }
   ],
   "source": [
    "# import VADER for sentiment analysis\n",
    "import nltk\n",
    "nltk.download('vader_lexicon')"
   ]
  },
  {
   "cell_type": "code",
   "execution_count": 53,
   "id": "bd53f969",
   "metadata": {},
   "outputs": [],
   "source": [
    "from nltk.sentiment import SentimentIntensityAnalyzer\n",
    "sia = SentimentIntensityAnalyzer()"
   ]
  },
  {
   "cell_type": "code",
   "execution_count": 54,
   "id": "567cf482",
   "metadata": {},
   "outputs": [],
   "source": [
    "def sentiment_vader(content):\n",
    "    over_all_polarity = sia.polarity_scores(content)\n",
    "    if over_all_polarity['compound'] >= 0.05:\n",
    "        return \"positive\"\n",
    "    elif over_all_polarity['compound'] <= -0.05:\n",
    "        return \"negative\"\n",
    "    else:\n",
    "        return \"neutral\""
   ]
  },
  {
   "cell_type": "code",
   "execution_count": 55,
   "id": "fbc9d908",
   "metadata": {},
   "outputs": [],
   "source": [
    "content_df['sentiment_vader'] = content_df['tokenized_content'].apply(lambda x: sentiment_vader(x))"
   ]
  },
  {
   "cell_type": "code",
   "execution_count": 56,
   "id": "ce5e4109",
   "metadata": {
    "scrolled": true
   },
   "outputs": [
    {
     "data": {
      "text/html": [
       "<div>\n",
       "<style scoped>\n",
       "    .dataframe tbody tr th:only-of-type {\n",
       "        vertical-align: middle;\n",
       "    }\n",
       "\n",
       "    .dataframe tbody tr th {\n",
       "        vertical-align: top;\n",
       "    }\n",
       "\n",
       "    .dataframe thead th {\n",
       "        text-align: right;\n",
       "    }\n",
       "</style>\n",
       "<table border=\"1\" class=\"dataframe\">\n",
       "  <thead>\n",
       "    <tr style=\"text-align: right;\">\n",
       "      <th></th>\n",
       "      <th>tokenized_content</th>\n",
       "      <th>sentiment_vader</th>\n",
       "    </tr>\n",
       "  </thead>\n",
       "  <tbody>\n",
       "    <tr>\n",
       "      <th>0</th>\n",
       "      <td>private education training firms subject gst r...</td>\n",
       "      <td>neutral</td>\n",
       "    </tr>\n",
       "    <tr>\n",
       "      <th>1</th>\n",
       "      <td>right appeal could deprived amount paid releas...</td>\n",
       "      <td>negative</td>\n",
       "    </tr>\n",
       "    <tr>\n",
       "      <th>2</th>\n",
       "      <td>paguthuaribavan still talk south right happene...</td>\n",
       "      <td>positive</td>\n",
       "    </tr>\n",
       "    <tr>\n",
       "      <th>3</th>\n",
       "      <td>india online education firms exempt gst clarif...</td>\n",
       "      <td>positive</td>\n",
       "    </tr>\n",
       "    <tr>\n",
       "      <th>4</th>\n",
       "      <td>gst caselaw right appeal could deprived amount...</td>\n",
       "      <td>negative</td>\n",
       "    </tr>\n",
       "    <tr>\n",
       "      <th>...</th>\n",
       "      <td>...</td>\n",
       "      <td>...</td>\n",
       "    </tr>\n",
       "    <tr>\n",
       "      <th>10452</th>\n",
       "      <td>gst kerala implement eway bill december</td>\n",
       "      <td>neutral</td>\n",
       "    </tr>\n",
       "    <tr>\n",
       "      <th>10453</th>\n",
       "      <td>gst kerala implement eway bill december cleart...</td>\n",
       "      <td>neutral</td>\n",
       "    </tr>\n",
       "    <tr>\n",
       "      <th>10454</th>\n",
       "      <td>gst kerala implement eway bill december read</td>\n",
       "      <td>neutral</td>\n",
       "    </tr>\n",
       "    <tr>\n",
       "      <th>10455</th>\n",
       "      <td>gst kerala implement eway bill december read</td>\n",
       "      <td>neutral</td>\n",
       "    </tr>\n",
       "    <tr>\n",
       "      <th>10456</th>\n",
       "      <td>tax applicability – kerala gst – state goods s...</td>\n",
       "      <td>neutral</td>\n",
       "    </tr>\n",
       "  </tbody>\n",
       "</table>\n",
       "<p>10457 rows × 2 columns</p>\n",
       "</div>"
      ],
      "text/plain": [
       "                                       tokenized_content sentiment_vader\n",
       "0      private education training firms subject gst r...         neutral\n",
       "1      right appeal could deprived amount paid releas...        negative\n",
       "2      paguthuaribavan still talk south right happene...        positive\n",
       "3      india online education firms exempt gst clarif...        positive\n",
       "4      gst caselaw right appeal could deprived amount...        negative\n",
       "...                                                  ...             ...\n",
       "10452            gst kerala implement eway bill december         neutral\n",
       "10453  gst kerala implement eway bill december cleart...         neutral\n",
       "10454       gst kerala implement eway bill december read         neutral\n",
       "10455       gst kerala implement eway bill december read         neutral\n",
       "10456  tax applicability – kerala gst – state goods s...         neutral\n",
       "\n",
       "[10457 rows x 2 columns]"
      ]
     },
     "execution_count": 56,
     "metadata": {},
     "output_type": "execute_result"
    }
   ],
   "source": [
    "#diplay the dataframe with the new column for sentiment\n",
    "content_df"
   ]
  },
  {
   "cell_type": "code",
   "execution_count": 58,
   "id": "5e8b6526",
   "metadata": {},
   "outputs": [
    {
     "name": "stdout",
     "output_type": "stream",
     "text": [
      "Percentage positive    0.409008\n",
      "neutral     0.310414\n",
      "negative    0.280578\n",
      "Name: sentiment_vader, dtype: float64\n"
     ]
    },
    {
     "data": {
      "image/png": "[encoded data removed]",
      "text/plain": [
       "<Figure size 288x288 with 1 Axes>"
      ]
     },
     "metadata": {},
     "output_type": "display_data"
    }
   ],
   "source": [
    "print('Percentage',content_df['sentiment_vader'].value_counts(normalize=True))\n",
    "#content_df.sentiment_vader._counts(normalize=True).plot(kind='pie')\n",
    "f, ax = plt.subplots(figsize=(4, 4))\n",
    "plt.pie(content_df['sentiment_vader'].value_counts().tolist(), \n",
    "        labels=['Positive', 'Neutral', 'Negative'], autopct='%1.1f%%', startangle=90)\n",
    "axis = plt.axis('equal')"
   ]
  },
  {
   "cell_type": "code",
   "execution_count": 59,
   "id": "85d73e76",
   "metadata": {},
   "outputs": [],
   "source": [
    "#extracting the positive for state\n",
    "def positive_mention_state(content):\n",
    "    terms = re.findall(\"Nirmala|nsitharaman|council|union|centre\", content)\n",
    "    \n",
    "    return terms"
   ]
  },
  {
   "cell_type": "code",
   "execution_count": 60,
   "id": "1b8e53c5",
   "metadata": {
    "scrolled": true
   },
   "outputs": [],
   "source": [
    "content_df['centre_terms_mentioned'] = content_df['tokenized_content'].apply(lambda x: positive_mention_state(x))"
   ]
  },
  {
   "cell_type": "code",
   "execution_count": 61,
   "id": "d3d339b4",
   "metadata": {},
   "outputs": [
    {
     "data": {
      "text/html": [
       "<div>\n",
       "<style scoped>\n",
       "    .dataframe tbody tr th:only-of-type {\n",
       "        vertical-align: middle;\n",
       "    }\n",
       "\n",
       "    .dataframe tbody tr th {\n",
       "        vertical-align: top;\n",
       "    }\n",
       "\n",
       "    .dataframe thead th {\n",
       "        text-align: right;\n",
       "    }\n",
       "</style>\n",
       "<table border=\"1\" class=\"dataframe\">\n",
       "  <thead>\n",
       "    <tr style=\"text-align: right;\">\n",
       "      <th></th>\n",
       "      <th>tokenized_content</th>\n",
       "      <th>sentiment_vader</th>\n",
       "      <th>centre_terms_mentioned</th>\n",
       "    </tr>\n",
       "  </thead>\n",
       "  <tbody>\n",
       "    <tr>\n",
       "      <th>0</th>\n",
       "      <td>private education training firms subject gst r...</td>\n",
       "      <td>neutral</td>\n",
       "      <td>[]</td>\n",
       "    </tr>\n",
       "    <tr>\n",
       "      <th>1</th>\n",
       "      <td>right appeal could deprived amount paid releas...</td>\n",
       "      <td>negative</td>\n",
       "      <td>[]</td>\n",
       "    </tr>\n",
       "    <tr>\n",
       "      <th>2</th>\n",
       "      <td>paguthuaribavan still talk south right happene...</td>\n",
       "      <td>positive</td>\n",
       "      <td>[]</td>\n",
       "    </tr>\n",
       "    <tr>\n",
       "      <th>3</th>\n",
       "      <td>india online education firms exempt gst clarif...</td>\n",
       "      <td>positive</td>\n",
       "      <td>[]</td>\n",
       "    </tr>\n",
       "    <tr>\n",
       "      <th>4</th>\n",
       "      <td>gst caselaw right appeal could deprived amount...</td>\n",
       "      <td>negative</td>\n",
       "      <td>[]</td>\n",
       "    </tr>\n",
       "    <tr>\n",
       "      <th>...</th>\n",
       "      <td>...</td>\n",
       "      <td>...</td>\n",
       "      <td>...</td>\n",
       "    </tr>\n",
       "    <tr>\n",
       "      <th>10452</th>\n",
       "      <td>gst kerala implement eway bill december</td>\n",
       "      <td>neutral</td>\n",
       "      <td>[]</td>\n",
       "    </tr>\n",
       "    <tr>\n",
       "      <th>10453</th>\n",
       "      <td>gst kerala implement eway bill december cleart...</td>\n",
       "      <td>neutral</td>\n",
       "      <td>[]</td>\n",
       "    </tr>\n",
       "    <tr>\n",
       "      <th>10454</th>\n",
       "      <td>gst kerala implement eway bill december read</td>\n",
       "      <td>neutral</td>\n",
       "      <td>[]</td>\n",
       "    </tr>\n",
       "    <tr>\n",
       "      <th>10455</th>\n",
       "      <td>gst kerala implement eway bill december read</td>\n",
       "      <td>neutral</td>\n",
       "      <td>[]</td>\n",
       "    </tr>\n",
       "    <tr>\n",
       "      <th>10456</th>\n",
       "      <td>tax applicability – kerala gst – state goods s...</td>\n",
       "      <td>neutral</td>\n",
       "      <td>[]</td>\n",
       "    </tr>\n",
       "  </tbody>\n",
       "</table>\n",
       "<p>10457 rows × 3 columns</p>\n",
       "</div>"
      ],
      "text/plain": [
       "                                       tokenized_content sentiment_vader  \\\n",
       "0      private education training firms subject gst r...         neutral   \n",
       "1      right appeal could deprived amount paid releas...        negative   \n",
       "2      paguthuaribavan still talk south right happene...        positive   \n",
       "3      india online education firms exempt gst clarif...        positive   \n",
       "4      gst caselaw right appeal could deprived amount...        negative   \n",
       "...                                                  ...             ...   \n",
       "10452            gst kerala implement eway bill december         neutral   \n",
       "10453  gst kerala implement eway bill december cleart...         neutral   \n",
       "10454       gst kerala implement eway bill december read         neutral   \n",
       "10455       gst kerala implement eway bill december read         neutral   \n",
       "10456  tax applicability – kerala gst – state goods s...         neutral   \n",
       "\n",
       "      centre_terms_mentioned  \n",
       "0                         []  \n",
       "1                         []  \n",
       "2                         []  \n",
       "3                         []  \n",
       "4                         []  \n",
       "...                      ...  \n",
       "10452                     []  \n",
       "10453                     []  \n",
       "10454                     []  \n",
       "10455                     []  \n",
       "10456                     []  \n",
       "\n",
       "[10457 rows x 3 columns]"
      ]
     },
     "execution_count": 61,
     "metadata": {},
     "output_type": "execute_result"
    }
   ],
   "source": [
    "content_df"
   ]
  },
  {
   "cell_type": "code",
   "execution_count": 62,
   "id": "d2286f59",
   "metadata": {},
   "outputs": [],
   "source": [
    "#extracting the positive for state\n",
    "def positive_mention_state(content):\n",
    "    terms = re.findall(\"state|opposition|revenue|implement\", content)\n",
    "    \n",
    "    return terms"
   ]
  },
  {
   "cell_type": "code",
   "execution_count": 63,
   "id": "0eaf150e",
   "metadata": {},
   "outputs": [],
   "source": [
    "content_df['state_terms_mentioned'] = content_df['tokenized_content'].apply(lambda x: positive_mention_state(x))"
   ]
  },
  {
   "cell_type": "code",
   "execution_count": 64,
   "id": "02a2008d",
   "metadata": {},
   "outputs": [
    {
     "data": {
      "text/html": [
       "<div>\n",
       "<style scoped>\n",
       "    .dataframe tbody tr th:only-of-type {\n",
       "        vertical-align: middle;\n",
       "    }\n",
       "\n",
       "    .dataframe tbody tr th {\n",
       "        vertical-align: top;\n",
       "    }\n",
       "\n",
       "    .dataframe thead th {\n",
       "        text-align: right;\n",
       "    }\n",
       "</style>\n",
       "<table border=\"1\" class=\"dataframe\">\n",
       "  <thead>\n",
       "    <tr style=\"text-align: right;\">\n",
       "      <th></th>\n",
       "      <th>tokenized_content</th>\n",
       "      <th>sentiment_vader</th>\n",
       "      <th>centre_terms_mentioned</th>\n",
       "      <th>state_terms_mentioned</th>\n",
       "    </tr>\n",
       "  </thead>\n",
       "  <tbody>\n",
       "    <tr>\n",
       "      <th>0</th>\n",
       "      <td>private education training firms subject gst r...</td>\n",
       "      <td>neutral</td>\n",
       "      <td>[]</td>\n",
       "      <td>[]</td>\n",
       "    </tr>\n",
       "    <tr>\n",
       "      <th>1</th>\n",
       "      <td>right appeal could deprived amount paid releas...</td>\n",
       "      <td>negative</td>\n",
       "      <td>[]</td>\n",
       "      <td>[state]</td>\n",
       "    </tr>\n",
       "    <tr>\n",
       "      <th>2</th>\n",
       "      <td>paguthuaribavan still talk south right happene...</td>\n",
       "      <td>positive</td>\n",
       "      <td>[]</td>\n",
       "      <td>[state]</td>\n",
       "    </tr>\n",
       "    <tr>\n",
       "      <th>3</th>\n",
       "      <td>india online education firms exempt gst clarif...</td>\n",
       "      <td>positive</td>\n",
       "      <td>[]</td>\n",
       "      <td>[]</td>\n",
       "    </tr>\n",
       "    <tr>\n",
       "      <th>4</th>\n",
       "      <td>gst caselaw right appeal could deprived amount...</td>\n",
       "      <td>negative</td>\n",
       "      <td>[]</td>\n",
       "      <td>[]</td>\n",
       "    </tr>\n",
       "    <tr>\n",
       "      <th>...</th>\n",
       "      <td>...</td>\n",
       "      <td>...</td>\n",
       "      <td>...</td>\n",
       "      <td>...</td>\n",
       "    </tr>\n",
       "    <tr>\n",
       "      <th>10452</th>\n",
       "      <td>gst kerala implement eway bill december</td>\n",
       "      <td>neutral</td>\n",
       "      <td>[]</td>\n",
       "      <td>[implement]</td>\n",
       "    </tr>\n",
       "    <tr>\n",
       "      <th>10453</th>\n",
       "      <td>gst kerala implement eway bill december cleart...</td>\n",
       "      <td>neutral</td>\n",
       "      <td>[]</td>\n",
       "      <td>[implement]</td>\n",
       "    </tr>\n",
       "    <tr>\n",
       "      <th>10454</th>\n",
       "      <td>gst kerala implement eway bill december read</td>\n",
       "      <td>neutral</td>\n",
       "      <td>[]</td>\n",
       "      <td>[implement]</td>\n",
       "    </tr>\n",
       "    <tr>\n",
       "      <th>10455</th>\n",
       "      <td>gst kerala implement eway bill december read</td>\n",
       "      <td>neutral</td>\n",
       "      <td>[]</td>\n",
       "      <td>[implement]</td>\n",
       "    </tr>\n",
       "    <tr>\n",
       "      <th>10456</th>\n",
       "      <td>tax applicability – kerala gst – state goods s...</td>\n",
       "      <td>neutral</td>\n",
       "      <td>[]</td>\n",
       "      <td>[state]</td>\n",
       "    </tr>\n",
       "  </tbody>\n",
       "</table>\n",
       "<p>10457 rows × 4 columns</p>\n",
       "</div>"
      ],
      "text/plain": [
       "                                       tokenized_content sentiment_vader  \\\n",
       "0      private education training firms subject gst r...         neutral   \n",
       "1      right appeal could deprived amount paid releas...        negative   \n",
       "2      paguthuaribavan still talk south right happene...        positive   \n",
       "3      india online education firms exempt gst clarif...        positive   \n",
       "4      gst caselaw right appeal could deprived amount...        negative   \n",
       "...                                                  ...             ...   \n",
       "10452            gst kerala implement eway bill december         neutral   \n",
       "10453  gst kerala implement eway bill december cleart...         neutral   \n",
       "10454       gst kerala implement eway bill december read         neutral   \n",
       "10455       gst kerala implement eway bill december read         neutral   \n",
       "10456  tax applicability – kerala gst – state goods s...         neutral   \n",
       "\n",
       "      centre_terms_mentioned state_terms_mentioned  \n",
       "0                         []                    []  \n",
       "1                         []               [state]  \n",
       "2                         []               [state]  \n",
       "3                         []                    []  \n",
       "4                         []                    []  \n",
       "...                      ...                   ...  \n",
       "10452                     []           [implement]  \n",
       "10453                     []           [implement]  \n",
       "10454                     []           [implement]  \n",
       "10455                     []           [implement]  \n",
       "10456                     []               [state]  \n",
       "\n",
       "[10457 rows x 4 columns]"
      ]
     },
     "execution_count": 64,
     "metadata": {},
     "output_type": "execute_result"
    }
   ],
   "source": [
    "content_df"
   ]
  },
  {
   "cell_type": "code",
   "execution_count": 72,
   "id": "6552ad2b",
   "metadata": {},
   "outputs": [],
   "source": [
    "#extracting the correct and incorrect attribution for state\n",
    "\n",
    "def perception(content):\n",
    "    if(content['sentiment_vader'] == 'positive' and len(content['centre_terms_mentioned'])!=0):\n",
    "        return 'correct'\n",
    "    elif(content['sentiment_vader'] == 'negative' and len(content['centre_terms_mentioned'])!=0):\n",
    "        return 'correct'\n",
    "    elif(content['sentiment_vader'] == 'positive' and len(content['state_terms_mentioned'])!=0):\n",
    "        return 'incorrect'\n",
    "    elif(content['sentiment_vader'] == 'negative' and len(content['state_terms_mentioned'])!=0):\n",
    "        return 'incorrect'\n",
    "    \n",
    "    return 'non-opinionated'"
   ]
  },
  {
   "cell_type": "code",
   "execution_count": 73,
   "id": "80382036",
   "metadata": {},
   "outputs": [],
   "source": [
    "content_df['perception'] = content_df.apply(perception, axis=1)"
   ]
  },
  {
   "cell_type": "code",
   "execution_count": 74,
   "id": "f65947a6",
   "metadata": {},
   "outputs": [
    {
     "data": {
      "text/html": [
       "<div>\n",
       "<style scoped>\n",
       "    .dataframe tbody tr th:only-of-type {\n",
       "        vertical-align: middle;\n",
       "    }\n",
       "\n",
       "    .dataframe tbody tr th {\n",
       "        vertical-align: top;\n",
       "    }\n",
       "\n",
       "    .dataframe thead th {\n",
       "        text-align: right;\n",
       "    }\n",
       "</style>\n",
       "<table border=\"1\" class=\"dataframe\">\n",
       "  <thead>\n",
       "    <tr style=\"text-align: right;\">\n",
       "      <th></th>\n",
       "      <th>tokenized_content</th>\n",
       "      <th>sentiment_vader</th>\n",
       "      <th>centre_terms_mentioned</th>\n",
       "      <th>state_terms_mentioned</th>\n",
       "      <th>perception</th>\n",
       "    </tr>\n",
       "  </thead>\n",
       "  <tbody>\n",
       "    <tr>\n",
       "      <th>0</th>\n",
       "      <td>private education training firms subject gst r...</td>\n",
       "      <td>neutral</td>\n",
       "      <td>[]</td>\n",
       "      <td>[]</td>\n",
       "      <td>non-opinionated</td>\n",
       "    </tr>\n",
       "    <tr>\n",
       "      <th>1</th>\n",
       "      <td>right appeal could deprived amount paid releas...</td>\n",
       "      <td>negative</td>\n",
       "      <td>[]</td>\n",
       "      <td>[state]</td>\n",
       "      <td>incorrect</td>\n",
       "    </tr>\n",
       "    <tr>\n",
       "      <th>2</th>\n",
       "      <td>paguthuaribavan still talk south right happene...</td>\n",
       "      <td>positive</td>\n",
       "      <td>[]</td>\n",
       "      <td>[state]</td>\n",
       "      <td>incorrect</td>\n",
       "    </tr>\n",
       "    <tr>\n",
       "      <th>3</th>\n",
       "      <td>india online education firms exempt gst clarif...</td>\n",
       "      <td>positive</td>\n",
       "      <td>[]</td>\n",
       "      <td>[]</td>\n",
       "      <td>non-opinionated</td>\n",
       "    </tr>\n",
       "    <tr>\n",
       "      <th>4</th>\n",
       "      <td>gst caselaw right appeal could deprived amount...</td>\n",
       "      <td>negative</td>\n",
       "      <td>[]</td>\n",
       "      <td>[]</td>\n",
       "      <td>non-opinionated</td>\n",
       "    </tr>\n",
       "    <tr>\n",
       "      <th>...</th>\n",
       "      <td>...</td>\n",
       "      <td>...</td>\n",
       "      <td>...</td>\n",
       "      <td>...</td>\n",
       "      <td>...</td>\n",
       "    </tr>\n",
       "    <tr>\n",
       "      <th>10452</th>\n",
       "      <td>gst kerala implement eway bill december</td>\n",
       "      <td>neutral</td>\n",
       "      <td>[]</td>\n",
       "      <td>[implement]</td>\n",
       "      <td>non-opinionated</td>\n",
       "    </tr>\n",
       "    <tr>\n",
       "      <th>10453</th>\n",
       "      <td>gst kerala implement eway bill december cleart...</td>\n",
       "      <td>neutral</td>\n",
       "      <td>[]</td>\n",
       "      <td>[implement]</td>\n",
       "      <td>non-opinionated</td>\n",
       "    </tr>\n",
       "    <tr>\n",
       "      <th>10454</th>\n",
       "      <td>gst kerala implement eway bill december read</td>\n",
       "      <td>neutral</td>\n",
       "      <td>[]</td>\n",
       "      <td>[implement]</td>\n",
       "      <td>non-opinionated</td>\n",
       "    </tr>\n",
       "    <tr>\n",
       "      <th>10455</th>\n",
       "      <td>gst kerala implement eway bill december read</td>\n",
       "      <td>neutral</td>\n",
       "      <td>[]</td>\n",
       "      <td>[implement]</td>\n",
       "      <td>non-opinionated</td>\n",
       "    </tr>\n",
       "    <tr>\n",
       "      <th>10456</th>\n",
       "      <td>tax applicability – kerala gst – state goods s...</td>\n",
       "      <td>neutral</td>\n",
       "      <td>[]</td>\n",
       "      <td>[state]</td>\n",
       "      <td>non-opinionated</td>\n",
       "    </tr>\n",
       "  </tbody>\n",
       "</table>\n",
       "<p>10457 rows × 5 columns</p>\n",
       "</div>"
      ],
      "text/plain": [
       "                                       tokenized_content sentiment_vader  \\\n",
       "0      private education training firms subject gst r...         neutral   \n",
       "1      right appeal could deprived amount paid releas...        negative   \n",
       "2      paguthuaribavan still talk south right happene...        positive   \n",
       "3      india online education firms exempt gst clarif...        positive   \n",
       "4      gst caselaw right appeal could deprived amount...        negative   \n",
       "...                                                  ...             ...   \n",
       "10452            gst kerala implement eway bill december         neutral   \n",
       "10453  gst kerala implement eway bill december cleart...         neutral   \n",
       "10454       gst kerala implement eway bill december read         neutral   \n",
       "10455       gst kerala implement eway bill december read         neutral   \n",
       "10456  tax applicability – kerala gst – state goods s...         neutral   \n",
       "\n",
       "      centre_terms_mentioned state_terms_mentioned       perception  \n",
       "0                         []                    []  non-opinionated  \n",
       "1                         []               [state]        incorrect  \n",
       "2                         []               [state]        incorrect  \n",
       "3                         []                    []  non-opinionated  \n",
       "4                         []                    []  non-opinionated  \n",
       "...                      ...                   ...              ...  \n",
       "10452                     []           [implement]  non-opinionated  \n",
       "10453                     []           [implement]  non-opinionated  \n",
       "10454                     []           [implement]  non-opinionated  \n",
       "10455                     []           [implement]  non-opinionated  \n",
       "10456                     []               [state]  non-opinionated  \n",
       "\n",
       "[10457 rows x 5 columns]"
      ]
     },
     "execution_count": 74,
     "metadata": {},
     "output_type": "execute_result"
    }
   ],
   "source": [
    "content_df"
   ]
  },
  {
   "cell_type": "code",
   "execution_count": 75,
   "id": "320ccc83",
   "metadata": {},
   "outputs": [
    {
     "data": {
      "text/html": [
       "<div>\n",
       "<style scoped>\n",
       "    .dataframe tbody tr th:only-of-type {\n",
       "        vertical-align: middle;\n",
       "    }\n",
       "\n",
       "    .dataframe tbody tr th {\n",
       "        vertical-align: top;\n",
       "    }\n",
       "\n",
       "    .dataframe thead th {\n",
       "        text-align: right;\n",
       "    }\n",
       "</style>\n",
       "<table border=\"1\" class=\"dataframe\">\n",
       "  <thead>\n",
       "    <tr style=\"text-align: right;\">\n",
       "      <th></th>\n",
       "      <th>Unnamed: 0</th>\n",
       "      <th>date</th>\n",
       "      <th>content</th>\n",
       "      <th>replyCount</th>\n",
       "      <th>retweetCount</th>\n",
       "      <th>likeCount</th>\n",
       "      <th>lang</th>\n",
       "      <th>sourceLabel</th>\n",
       "      <th>hashtags</th>\n",
       "      <th>username</th>\n",
       "      <th>...</th>\n",
       "      <th>user_raw_description</th>\n",
       "      <th>user_verified</th>\n",
       "      <th>user_created</th>\n",
       "      <th>user_followers_count</th>\n",
       "      <th>user_friends_count</th>\n",
       "      <th>user_status_count</th>\n",
       "      <th>user_favourites_count</th>\n",
       "      <th>user_listed_count</th>\n",
       "      <th>user_media_count</th>\n",
       "      <th>user_location</th>\n",
       "    </tr>\n",
       "  </thead>\n",
       "  <tbody>\n",
       "    <tr>\n",
       "      <th>0</th>\n",
       "      <td>0</td>\n",
       "      <td>2022-08-23 05:49:44+00:00</td>\n",
       "      <td>Private education training firms subject to GS...</td>\n",
       "      <td>0</td>\n",
       "      <td>0</td>\n",
       "      <td>0</td>\n",
       "      <td>en</td>\n",
       "      <td>WordPress.com</td>\n",
       "      <td>NaN</td>\n",
       "      <td>24Aandd</td>\n",
       "      <td>...</td>\n",
       "      <td>Read Business related News Today &amp; latest Cryp...</td>\n",
       "      <td>False</td>\n",
       "      <td>2022-08-02T01:29:36+00:00</td>\n",
       "      <td>0</td>\n",
       "      <td>0</td>\n",
       "      <td>597</td>\n",
       "      <td>0</td>\n",
       "      <td>0</td>\n",
       "      <td>0</td>\n",
       "      <td>india</td>\n",
       "    </tr>\n",
       "    <tr>\n",
       "      <th>1</th>\n",
       "      <td>1</td>\n",
       "      <td>2022-08-23 02:31:23+00:00</td>\n",
       "      <td>Right to appeal could not be deprived if amoun...</td>\n",
       "      <td>1</td>\n",
       "      <td>0</td>\n",
       "      <td>0</td>\n",
       "      <td>en</td>\n",
       "      <td>Twitter Web App</td>\n",
       "      <td>NaN</td>\n",
       "      <td>GoyalPradeepCA</td>\n",
       "      <td>...</td>\n",
       "      <td>CA | Certified Fraud Examiner with ACFE | Acti...</td>\n",
       "      <td>False</td>\n",
       "      <td>2018-07-16T12:19:43+00:00</td>\n",
       "      <td>1594</td>\n",
       "      <td>1653</td>\n",
       "      <td>68385</td>\n",
       "      <td>62100</td>\n",
       "      <td>10</td>\n",
       "      <td>8506</td>\n",
       "      <td>New Delhi, India</td>\n",
       "    </tr>\n",
       "    <tr>\n",
       "      <th>2</th>\n",
       "      <td>2</td>\n",
       "      <td>2022-08-22 22:56:05+00:00</td>\n",
       "      <td>@Paguthuaribavan still have to talk about Sout...</td>\n",
       "      <td>0</td>\n",
       "      <td>0</td>\n",
       "      <td>0</td>\n",
       "      <td>en</td>\n",
       "      <td>Twitter Web App</td>\n",
       "      <td>NaN</td>\n",
       "      <td>adhu_idu111</td>\n",
       "      <td>...</td>\n",
       "      <td>NaN</td>\n",
       "      <td>False</td>\n",
       "      <td>2014-01-21T12:53:19+00:00</td>\n",
       "      <td>48</td>\n",
       "      <td>93</td>\n",
       "      <td>17077</td>\n",
       "      <td>20328</td>\n",
       "      <td>5</td>\n",
       "      <td>675</td>\n",
       "      <td>NaN</td>\n",
       "    </tr>\n",
       "    <tr>\n",
       "      <th>3</th>\n",
       "      <td>3</td>\n",
       "      <td>2022-08-22 12:00:09+00:00</td>\n",
       "      <td>#India\\nOnline education firms not exempt from...</td>\n",
       "      <td>0</td>\n",
       "      <td>0</td>\n",
       "      <td>0</td>\n",
       "      <td>en</td>\n",
       "      <td>AutopostVatupdate</td>\n",
       "      <td>['India', 'Exemption', 'GST', 'VAT', 'SalesTax...</td>\n",
       "      <td>TupdateVa</td>\n",
       "      <td>...</td>\n",
       "      <td>https://t.co/65UMeDsIIN is the first website t...</td>\n",
       "      <td>False</td>\n",
       "      <td>2018-08-30T08:20:45+00:00</td>\n",
       "      <td>557</td>\n",
       "      <td>1036</td>\n",
       "      <td>32592</td>\n",
       "      <td>28</td>\n",
       "      <td>5</td>\n",
       "      <td>21493</td>\n",
       "      <td>The Netherlands</td>\n",
       "    </tr>\n",
       "    <tr>\n",
       "      <th>4</th>\n",
       "      <td>4</td>\n",
       "      <td>2022-08-22 11:55:18+00:00</td>\n",
       "      <td>#GST #CaseLaw\\n\\nRight to appeal could not be ...</td>\n",
       "      <td>0</td>\n",
       "      <td>1</td>\n",
       "      <td>1</td>\n",
       "      <td>en</td>\n",
       "      <td>Twitter Web App</td>\n",
       "      <td>['GST', 'CaseLaw', 'TaxmannUpdates', 'HighCourt']</td>\n",
       "      <td>taxmannindia</td>\n",
       "      <td>...</td>\n",
       "      <td>India's #1 source for everything on Tax &amp; Corp...</td>\n",
       "      <td>True</td>\n",
       "      <td>2009-11-30T10:43:39+00:00</td>\n",
       "      <td>83991</td>\n",
       "      <td>318</td>\n",
       "      <td>51603</td>\n",
       "      <td>8228</td>\n",
       "      <td>207</td>\n",
       "      <td>6354</td>\n",
       "      <td>India</td>\n",
       "    </tr>\n",
       "  </tbody>\n",
       "</table>\n",
       "<p>5 rows × 22 columns</p>\n",
       "</div>"
      ],
      "text/plain": [
       "   Unnamed: 0                       date  \\\n",
       "0           0  2022-08-23 05:49:44+00:00   \n",
       "1           1  2022-08-23 02:31:23+00:00   \n",
       "2           2  2022-08-22 22:56:05+00:00   \n",
       "3           3  2022-08-22 12:00:09+00:00   \n",
       "4           4  2022-08-22 11:55:18+00:00   \n",
       "\n",
       "                                             content  replyCount  \\\n",
       "0  Private education training firms subject to GS...           0   \n",
       "1  Right to appeal could not be deprived if amoun...           1   \n",
       "2  @Paguthuaribavan still have to talk about Sout...           0   \n",
       "3  #India\\nOnline education firms not exempt from...           0   \n",
       "4  #GST #CaseLaw\\n\\nRight to appeal could not be ...           0   \n",
       "\n",
       "   retweetCount  likeCount lang        sourceLabel  \\\n",
       "0             0          0   en      WordPress.com   \n",
       "1             0          0   en    Twitter Web App   \n",
       "2             0          0   en    Twitter Web App   \n",
       "3             0          0   en  AutopostVatupdate   \n",
       "4             1          1   en    Twitter Web App   \n",
       "\n",
       "                                            hashtags        username  ...  \\\n",
       "0                                                NaN         24Aandd  ...   \n",
       "1                                                NaN  GoyalPradeepCA  ...   \n",
       "2                                                NaN     adhu_idu111  ...   \n",
       "3  ['India', 'Exemption', 'GST', 'VAT', 'SalesTax...       TupdateVa  ...   \n",
       "4  ['GST', 'CaseLaw', 'TaxmannUpdates', 'HighCourt']    taxmannindia  ...   \n",
       "\n",
       "                                user_raw_description user_verified  \\\n",
       "0  Read Business related News Today & latest Cryp...         False   \n",
       "1  CA | Certified Fraud Examiner with ACFE | Acti...         False   \n",
       "2                                                NaN         False   \n",
       "3  https://t.co/65UMeDsIIN is the first website t...         False   \n",
       "4  India's #1 source for everything on Tax & Corp...          True   \n",
       "\n",
       "                user_created  user_followers_count user_friends_count  \\\n",
       "0  2022-08-02T01:29:36+00:00                     0                  0   \n",
       "1  2018-07-16T12:19:43+00:00                  1594               1653   \n",
       "2  2014-01-21T12:53:19+00:00                    48                 93   \n",
       "3  2018-08-30T08:20:45+00:00                   557               1036   \n",
       "4  2009-11-30T10:43:39+00:00                 83991                318   \n",
       "\n",
       "   user_status_count  user_favourites_count  user_listed_count  \\\n",
       "0                597                      0                  0   \n",
       "1              68385                  62100                 10   \n",
       "2              17077                  20328                  5   \n",
       "3              32592                     28                  5   \n",
       "4              51603                   8228                207   \n",
       "\n",
       "   user_media_count     user_location  \n",
       "0                 0             india  \n",
       "1              8506  New Delhi, India  \n",
       "2               675               NaN  \n",
       "3             21493   The Netherlands  \n",
       "4              6354             India  \n",
       "\n",
       "[5 rows x 22 columns]"
      ]
     },
     "execution_count": 75,
     "metadata": {},
     "output_type": "execute_result"
    }
   ],
   "source": [
    "df.head()"
   ]
  },
  {
   "cell_type": "code",
   "execution_count": null,
   "id": "b83daf57",
   "metadata": {},
   "outputs": [],
   "source": []
  },
  {
   "cell_type": "code",
   "execution_count": null,
   "id": "c80f0133",
   "metadata": {},
   "outputs": [],
   "source": []
  },
  {
   "cell_type": "code",
   "execution_count": 76,
   "id": "3bb8cf6b",
   "metadata": {},
   "outputs": [],
   "source": [
    "content_perception_df = pd.concat([content_df, df], axis=1)"
   ]
  },
  {
   "cell_type": "code",
   "execution_count": 77,
   "id": "89acb675",
   "metadata": {
    "scrolled": true
   },
   "outputs": [
    {
     "data": {
      "text/html": [
       "<div>\n",
       "<style scoped>\n",
       "    .dataframe tbody tr th:only-of-type {\n",
       "        vertical-align: middle;\n",
       "    }\n",
       "\n",
       "    .dataframe tbody tr th {\n",
       "        vertical-align: top;\n",
       "    }\n",
       "\n",
       "    .dataframe thead th {\n",
       "        text-align: right;\n",
       "    }\n",
       "</style>\n",
       "<table border=\"1\" class=\"dataframe\">\n",
       "  <thead>\n",
       "    <tr style=\"text-align: right;\">\n",
       "      <th></th>\n",
       "      <th>tokenized_content</th>\n",
       "      <th>sentiment_vader</th>\n",
       "      <th>centre_terms_mentioned</th>\n",
       "      <th>state_terms_mentioned</th>\n",
       "      <th>perception</th>\n",
       "      <th>Unnamed: 0</th>\n",
       "      <th>date</th>\n",
       "      <th>content</th>\n",
       "      <th>replyCount</th>\n",
       "      <th>retweetCount</th>\n",
       "      <th>...</th>\n",
       "      <th>user_raw_description</th>\n",
       "      <th>user_verified</th>\n",
       "      <th>user_created</th>\n",
       "      <th>user_followers_count</th>\n",
       "      <th>user_friends_count</th>\n",
       "      <th>user_status_count</th>\n",
       "      <th>user_favourites_count</th>\n",
       "      <th>user_listed_count</th>\n",
       "      <th>user_media_count</th>\n",
       "      <th>user_location</th>\n",
       "    </tr>\n",
       "  </thead>\n",
       "  <tbody>\n",
       "    <tr>\n",
       "      <th>0</th>\n",
       "      <td>private education training firms subject gst r...</td>\n",
       "      <td>neutral</td>\n",
       "      <td>[]</td>\n",
       "      <td>[]</td>\n",
       "      <td>non-opinionated</td>\n",
       "      <td>0</td>\n",
       "      <td>2022-08-23 05:49:44+00:00</td>\n",
       "      <td>Private education training firms subject to GS...</td>\n",
       "      <td>0</td>\n",
       "      <td>0</td>\n",
       "      <td>...</td>\n",
       "      <td>Read Business related News Today &amp; latest Cryp...</td>\n",
       "      <td>False</td>\n",
       "      <td>2022-08-02T01:29:36+00:00</td>\n",
       "      <td>0</td>\n",
       "      <td>0</td>\n",
       "      <td>597</td>\n",
       "      <td>0</td>\n",
       "      <td>0</td>\n",
       "      <td>0</td>\n",
       "      <td>india</td>\n",
       "    </tr>\n",
       "    <tr>\n",
       "      <th>1</th>\n",
       "      <td>right appeal could deprived amount paid releas...</td>\n",
       "      <td>negative</td>\n",
       "      <td>[]</td>\n",
       "      <td>[state]</td>\n",
       "      <td>incorrect</td>\n",
       "      <td>1</td>\n",
       "      <td>2022-08-23 02:31:23+00:00</td>\n",
       "      <td>Right to appeal could not be deprived if amoun...</td>\n",
       "      <td>1</td>\n",
       "      <td>0</td>\n",
       "      <td>...</td>\n",
       "      <td>CA | Certified Fraud Examiner with ACFE | Acti...</td>\n",
       "      <td>False</td>\n",
       "      <td>2018-07-16T12:19:43+00:00</td>\n",
       "      <td>1594</td>\n",
       "      <td>1653</td>\n",
       "      <td>68385</td>\n",
       "      <td>62100</td>\n",
       "      <td>10</td>\n",
       "      <td>8506</td>\n",
       "      <td>New Delhi, India</td>\n",
       "    </tr>\n",
       "    <tr>\n",
       "      <th>2</th>\n",
       "      <td>paguthuaribavan still talk south right happene...</td>\n",
       "      <td>positive</td>\n",
       "      <td>[]</td>\n",
       "      <td>[state]</td>\n",
       "      <td>incorrect</td>\n",
       "      <td>2</td>\n",
       "      <td>2022-08-22 22:56:05+00:00</td>\n",
       "      <td>@Paguthuaribavan still have to talk about Sout...</td>\n",
       "      <td>0</td>\n",
       "      <td>0</td>\n",
       "      <td>...</td>\n",
       "      <td>NaN</td>\n",
       "      <td>False</td>\n",
       "      <td>2014-01-21T12:53:19+00:00</td>\n",
       "      <td>48</td>\n",
       "      <td>93</td>\n",
       "      <td>17077</td>\n",
       "      <td>20328</td>\n",
       "      <td>5</td>\n",
       "      <td>675</td>\n",
       "      <td>NaN</td>\n",
       "    </tr>\n",
       "    <tr>\n",
       "      <th>3</th>\n",
       "      <td>india online education firms exempt gst clarif...</td>\n",
       "      <td>positive</td>\n",
       "      <td>[]</td>\n",
       "      <td>[]</td>\n",
       "      <td>non-opinionated</td>\n",
       "      <td>3</td>\n",
       "      <td>2022-08-22 12:00:09+00:00</td>\n",
       "      <td>#India\\nOnline education firms not exempt from...</td>\n",
       "      <td>0</td>\n",
       "      <td>0</td>\n",
       "      <td>...</td>\n",
       "      <td>https://t.co/65UMeDsIIN is the first website t...</td>\n",
       "      <td>False</td>\n",
       "      <td>2018-08-30T08:20:45+00:00</td>\n",
       "      <td>557</td>\n",
       "      <td>1036</td>\n",
       "      <td>32592</td>\n",
       "      <td>28</td>\n",
       "      <td>5</td>\n",
       "      <td>21493</td>\n",
       "      <td>The Netherlands</td>\n",
       "    </tr>\n",
       "    <tr>\n",
       "      <th>4</th>\n",
       "      <td>gst caselaw right appeal could deprived amount...</td>\n",
       "      <td>negative</td>\n",
       "      <td>[]</td>\n",
       "      <td>[]</td>\n",
       "      <td>non-opinionated</td>\n",
       "      <td>4</td>\n",
       "      <td>2022-08-22 11:55:18+00:00</td>\n",
       "      <td>#GST #CaseLaw\\n\\nRight to appeal could not be ...</td>\n",
       "      <td>0</td>\n",
       "      <td>1</td>\n",
       "      <td>...</td>\n",
       "      <td>India's #1 source for everything on Tax &amp; Corp...</td>\n",
       "      <td>True</td>\n",
       "      <td>2009-11-30T10:43:39+00:00</td>\n",
       "      <td>83991</td>\n",
       "      <td>318</td>\n",
       "      <td>51603</td>\n",
       "      <td>8228</td>\n",
       "      <td>207</td>\n",
       "      <td>6354</td>\n",
       "      <td>India</td>\n",
       "    </tr>\n",
       "  </tbody>\n",
       "</table>\n",
       "<p>5 rows × 27 columns</p>\n",
       "</div>"
      ],
      "text/plain": [
       "                                   tokenized_content sentiment_vader  \\\n",
       "0  private education training firms subject gst r...         neutral   \n",
       "1  right appeal could deprived amount paid releas...        negative   \n",
       "2  paguthuaribavan still talk south right happene...        positive   \n",
       "3  india online education firms exempt gst clarif...        positive   \n",
       "4  gst caselaw right appeal could deprived amount...        negative   \n",
       "\n",
       "  centre_terms_mentioned state_terms_mentioned       perception  Unnamed: 0  \\\n",
       "0                     []                    []  non-opinionated           0   \n",
       "1                     []               [state]        incorrect           1   \n",
       "2                     []               [state]        incorrect           2   \n",
       "3                     []                    []  non-opinionated           3   \n",
       "4                     []                    []  non-opinionated           4   \n",
       "\n",
       "                        date  \\\n",
       "0  2022-08-23 05:49:44+00:00   \n",
       "1  2022-08-23 02:31:23+00:00   \n",
       "2  2022-08-22 22:56:05+00:00   \n",
       "3  2022-08-22 12:00:09+00:00   \n",
       "4  2022-08-22 11:55:18+00:00   \n",
       "\n",
       "                                             content  replyCount  \\\n",
       "0  Private education training firms subject to GS...           0   \n",
       "1  Right to appeal could not be deprived if amoun...           1   \n",
       "2  @Paguthuaribavan still have to talk about Sout...           0   \n",
       "3  #India\\nOnline education firms not exempt from...           0   \n",
       "4  #GST #CaseLaw\\n\\nRight to appeal could not be ...           0   \n",
       "\n",
       "   retweetCount  ...                               user_raw_description  \\\n",
       "0             0  ...  Read Business related News Today & latest Cryp...   \n",
       "1             0  ...  CA | Certified Fraud Examiner with ACFE | Acti...   \n",
       "2             0  ...                                                NaN   \n",
       "3             0  ...  https://t.co/65UMeDsIIN is the first website t...   \n",
       "4             1  ...  India's #1 source for everything on Tax & Corp...   \n",
       "\n",
       "  user_verified               user_created user_followers_count  \\\n",
       "0         False  2022-08-02T01:29:36+00:00                    0   \n",
       "1         False  2018-07-16T12:19:43+00:00                 1594   \n",
       "2         False  2014-01-21T12:53:19+00:00                   48   \n",
       "3         False  2018-08-30T08:20:45+00:00                  557   \n",
       "4          True  2009-11-30T10:43:39+00:00                83991   \n",
       "\n",
       "  user_friends_count user_status_count user_favourites_count  \\\n",
       "0                  0               597                     0   \n",
       "1               1653             68385                 62100   \n",
       "2                 93             17077                 20328   \n",
       "3               1036             32592                    28   \n",
       "4                318             51603                  8228   \n",
       "\n",
       "  user_listed_count  user_media_count     user_location  \n",
       "0                 0                 0             india  \n",
       "1                10              8506  New Delhi, India  \n",
       "2                 5               675               NaN  \n",
       "3                 5             21493   The Netherlands  \n",
       "4               207              6354             India  \n",
       "\n",
       "[5 rows x 27 columns]"
      ]
     },
     "execution_count": 77,
     "metadata": {},
     "output_type": "execute_result"
    }
   ],
   "source": [
    "content_perception_df.head()"
   ]
  },
  {
   "cell_type": "code",
   "execution_count": 78,
   "id": "16197da1",
   "metadata": {},
   "outputs": [
    {
     "name": "stdout",
     "output_type": "stream",
     "text": [
      "Percentage non-opinionated    0.640241\n",
      "correct            0.192694\n",
      "incorrect          0.167065\n",
      "Name: perception, dtype: float64\n"
     ]
    },
    {
     "data": {
      "image/png": "[encoded data removed]",
      "text/plain": [
       "<Figure size 288x288 with 1 Axes>"
      ]
     },
     "metadata": {},
     "output_type": "display_data"
    }
   ],
   "source": [
    "print('Percentage',content_perception_df.perception.value_counts(normalize=True))\n",
    "f, ax = plt.subplots(figsize=(4, 4))\n",
    "plt.pie(content_perception_df['perception'].value_counts().tolist(), \n",
    "        labels=['Non-opinionated', 'Correct', 'incorrect'], autopct='%1.1f%%', startangle=90)\n",
    "axis = plt.axis('equal')"
   ]
  },
  {
   "cell_type": "code",
   "execution_count": null,
   "id": "444c6f7a",
   "metadata": {
    "scrolled": true
   },
   "outputs": [],
   "source": [
    "#def perception(voter):\n",
    "    #if voter == \"1\":\n",
    "        #return \"correct\"\n",
    "    #elif voter == \"\":\n",
    "        #return \"non-partisan\"\n",
    "    #elif voter == \"0\":\n",
    "        #return \"incorrect\""
   ]
  },
  {
   "cell_type": "code",
   "execution_count": null,
   "id": "0fcc0c37",
   "metadata": {},
   "outputs": [],
   "source": [
    "#content_perception_df['voter'] = content_perception_df['voter_perception'].apply(perception)"
   ]
  },
  {
   "cell_type": "code",
   "execution_count": null,
   "id": "a4eecfb0",
   "metadata": {},
   "outputs": [],
   "source": [
    "#content_perception_df"
   ]
  },
  {
   "cell_type": "code",
   "execution_count": null,
   "id": "dcc4753f",
   "metadata": {},
   "outputs": [],
   "source": [
    "#fig = plt.figure(figsize=(5,5))\n",
    "#sns.countplot(x='voter', data = content_perception_df)"
   ]
  },
  {
   "cell_type": "markdown",
   "id": "5a8adada",
   "metadata": {},
   "source": [
    "#### fig = plt.figure(figsize=(7,7))\n",
    "colors = (\"yellowgreen\", \"gold\", \"red\")\n",
    "wp = {'linewidth':2, 'edgecolor': \"black\"}\n",
    "tags = content_perception_df['voter'].value_counts()\n",
    "explode = (0.1,0.1,0.1)\n",
    "tags.plot(kind='pie', autopct='%1.1f%%', shadow=True, colors = colors, startangle=90, wedgeprops = wp,\n",
    "         explode = explode, label=\"\")\n",
    "plt.title(\"attribution of responsibility by voters\")"
   ]
  },
  {
   "cell_type": "code",
   "execution_count": null,
   "id": "5bc9ee0c",
   "metadata": {},
   "outputs": [],
   "source": []
  },
  {
   "cell_type": "code",
   "execution_count": null,
   "id": "7f7f8aa6",
   "metadata": {},
   "outputs": [],
   "source": []
  },
  {
   "cell_type": "code",
   "execution_count": 55,
   "id": "972c8c80",
   "metadata": {},
   "outputs": [],
   "source": [
    "from sklearn.feature_extraction.text import CountVectorizer\n",
    "from sklearn.model_selection import train_test_split"
   ]
  },
  {
   "cell_type": "code",
   "execution_count": 56,
   "id": "27ed09d8",
   "metadata": {},
   "outputs": [],
   "source": [
    "vect = CountVectorizer(ngram_range=(1,2)).fit(content_perception_df['tokenized_content'])"
   ]
  },
  {
   "cell_type": "code",
   "execution_count": 57,
   "id": "7dbb5562",
   "metadata": {},
   "outputs": [
    {
     "name": "stdout",
     "output_type": "stream",
     "text": [
      "Number of features: 132386\n",
      "\n",
      "First 20 features:\n",
      " ['000', '000 crores', '000 yogbhavan', '002harryji', '002harryji thenewhound', '01', '01 2019', '01 cochin', '01 july', '01 read', '010', '010 paise', '0101a', '0101a scnorder', '01022020', '01022020 crucial', '010418', '010418 inter', '01042020', '01042020 pakistan']\n"
     ]
    }
   ],
   "source": [
    "feature_names = vect.get_feature_names()\n",
    "print(\"Number of features: {}\\n\".format(len(feature_names)))\n",
    "print(\"First 20 features:\\n {}\".format(feature_names[:20]))"
   ]
  },
  {
   "cell_type": "code",
   "execution_count": 58,
   "id": "8dc13585",
   "metadata": {},
   "outputs": [],
   "source": [
    "x = content_perception_df['tokenized_content']\n",
    "y = content_perception_df['perception']\n",
    "x = vect.transform(x)"
   ]
  },
  {
   "cell_type": "code",
   "execution_count": 59,
   "id": "a25066af",
   "metadata": {},
   "outputs": [
    {
     "data": {
      "text/plain": [
       "(10457, 132386)"
      ]
     },
     "execution_count": 59,
     "metadata": {},
     "output_type": "execute_result"
    }
   ],
   "source": [
    "x.shape"
   ]
  },
  {
   "cell_type": "code",
   "execution_count": 60,
   "id": "107e2625",
   "metadata": {},
   "outputs": [],
   "source": [
    "x_train, x_test, y_train, y_test = train_test_split(x,y, test_size=0.2, random_state=42)"
   ]
  },
  {
   "cell_type": "code",
   "execution_count": 61,
   "id": "1810b504",
   "metadata": {},
   "outputs": [
    {
     "name": "stdout",
     "output_type": "stream",
     "text": [
      "Size of x_train: (8365, 132386)\n",
      "Size of y_train: (8365,)\n",
      "Size of x_test: (2092, 132386)\n",
      "Size of y_test: (2092,)\n"
     ]
    }
   ],
   "source": [
    "print(\"Size of x_train:\", (x_train.shape))\n",
    "print(\"Size of y_train:\", (y_train.shape))\n",
    "print(\"Size of x_test:\", (x_test.shape))\n",
    "print(\"Size of y_test:\", (y_test.shape))"
   ]
  },
  {
   "cell_type": "code",
   "execution_count": 62,
   "id": "092eb53f",
   "metadata": {},
   "outputs": [],
   "source": [
    "from sklearn.linear_model import LogisticRegression\n",
    "from sklearn.metrics import accuracy_score, classification_report, confusion_matrix, ConfusionMatrixDisplay"
   ]
  },
  {
   "cell_type": "code",
   "execution_count": 63,
   "id": "452f87b1",
   "metadata": {},
   "outputs": [
    {
     "name": "stdout",
     "output_type": "stream",
     "text": [
      "Test Accuracy: 87.57%\n"
     ]
    },
    {
     "name": "stderr",
     "output_type": "stream",
     "text": [
      "/Users/noeljoseph/opt/anaconda3/lib/python3.8/site-packages/sklearn/linear_model/_logistic.py:763: ConvergenceWarning: lbfgs failed to converge (status=1):\n",
      "STOP: TOTAL NO. of ITERATIONS REACHED LIMIT.\n",
      "\n",
      "Increase the number of iterations (max_iter) or scale the data as shown in:\n",
      "    https://scikit-learn.org/stable/modules/preprocessing.html\n",
      "Please also refer to the documentation for alternative solver options:\n",
      "    https://scikit-learn.org/stable/modules/linear_model.html#logistic-regression\n",
      "  n_iter_i = _check_optimize_result(\n"
     ]
    }
   ],
   "source": [
    "logreg = LogisticRegression()\n",
    "logreg.fit(x_train, y_train)\n",
    "logreg_pred = logreg.predict(x_test)\n",
    "logreg_acc = accuracy_score(logreg_pred, y_test)\n",
    "print(\"Test Accuracy: {:.2f}%\".format(logreg_acc*100))"
   ]
  },
  {
   "cell_type": "code",
   "execution_count": 64,
   "id": "d7d84570",
   "metadata": {},
   "outputs": [
    {
     "name": "stdout",
     "output_type": "stream",
     "text": [
      "[[1282   35   40]\n",
      " [  63  310    9]\n",
      " [ 112    1  240]]\n",
      "\n",
      "\n",
      "              precision    recall  f1-score   support\n",
      "\n",
      "                   0.88      0.94      0.91      1357\n",
      "     correct       0.90      0.81      0.85       382\n",
      "   incorrect       0.83      0.68      0.75       353\n",
      "\n",
      "    accuracy                           0.88      2092\n",
      "   macro avg       0.87      0.81      0.84      2092\n",
      "weighted avg       0.87      0.88      0.87      2092\n",
      "\n"
     ]
    }
   ],
   "source": [
    "print(confusion_matrix(y_test, logreg_pred))\n",
    "print(\"\\n\")\n",
    "print(classification_report(y_test, logreg_pred))"
   ]
  },
  {
   "cell_type": "code",
   "execution_count": 65,
   "id": "c9952ade",
   "metadata": {},
   "outputs": [
    {
     "data": {
      "text/plain": [
       "<sklearn.metrics._plot.confusion_matrix.ConfusionMatrixDisplay at 0x7fca885e6f40>"
      ]
     },
     "execution_count": 65,
     "metadata": {},
     "output_type": "execute_result"
    },
    {
     "data": {
      "image/png": "[encoded data removed]",
      "text/plain": [
       "<Figure size 640x480 with 2 Axes>"
      ]
     },
     "metadata": {},
     "output_type": "display_data"
    }
   ],
   "source": [
    "style.use('classic')\n",
    "cm = confusion_matrix(y_test, logreg_pred, labels=logreg.classes_)\n",
    "disp = ConfusionMatrixDisplay(confusion_matrix = cm, display_labels=logreg.classes_)\n",
    "disp.plot()"
   ]
  },
  {
   "cell_type": "code",
   "execution_count": 66,
   "id": "ae267873",
   "metadata": {},
   "outputs": [],
   "source": [
    "from sklearn.model_selection import GridSearchCV"
   ]
  },
  {
   "cell_type": "code",
   "execution_count": 67,
   "id": "d0e4ef9f",
   "metadata": {},
   "outputs": [
    {
     "name": "stderr",
     "output_type": "stream",
     "text": [
      "/Users/noeljoseph/opt/anaconda3/lib/python3.8/site-packages/sklearn/linear_model/_logistic.py:763: ConvergenceWarning: lbfgs failed to converge (status=1):\n",
      "STOP: TOTAL NO. of ITERATIONS REACHED LIMIT.\n",
      "\n",
      "Increase the number of iterations (max_iter) or scale the data as shown in:\n",
      "    https://scikit-learn.org/stable/modules/preprocessing.html\n",
      "Please also refer to the documentation for alternative solver options:\n",
      "    https://scikit-learn.org/stable/modules/linear_model.html#logistic-regression\n",
      "  n_iter_i = _check_optimize_result(\n",
      "/Users/noeljoseph/opt/anaconda3/lib/python3.8/site-packages/sklearn/linear_model/_logistic.py:763: ConvergenceWarning: lbfgs failed to converge (status=1):\n",
      "STOP: TOTAL NO. of ITERATIONS REACHED LIMIT.\n",
      "\n",
      "Increase the number of iterations (max_iter) or scale the data as shown in:\n",
      "    https://scikit-learn.org/stable/modules/preprocessing.html\n",
      "Please also refer to the documentation for alternative solver options:\n",
      "    https://scikit-learn.org/stable/modules/linear_model.html#logistic-regression\n",
      "  n_iter_i = _check_optimize_result(\n",
      "/Users/noeljoseph/opt/anaconda3/lib/python3.8/site-packages/sklearn/linear_model/_logistic.py:763: ConvergenceWarning: lbfgs failed to converge (status=1):\n",
      "STOP: TOTAL NO. of ITERATIONS REACHED LIMIT.\n",
      "\n",
      "Increase the number of iterations (max_iter) or scale the data as shown in:\n",
      "    https://scikit-learn.org/stable/modules/preprocessing.html\n",
      "Please also refer to the documentation for alternative solver options:\n",
      "    https://scikit-learn.org/stable/modules/linear_model.html#logistic-regression\n",
      "  n_iter_i = _check_optimize_result(\n",
      "/Users/noeljoseph/opt/anaconda3/lib/python3.8/site-packages/sklearn/linear_model/_logistic.py:763: ConvergenceWarning: lbfgs failed to converge (status=1):\n",
      "STOP: TOTAL NO. of ITERATIONS REACHED LIMIT.\n",
      "\n",
      "Increase the number of iterations (max_iter) or scale the data as shown in:\n",
      "    https://scikit-learn.org/stable/modules/preprocessing.html\n",
      "Please also refer to the documentation for alternative solver options:\n",
      "    https://scikit-learn.org/stable/modules/linear_model.html#logistic-regression\n",
      "  n_iter_i = _check_optimize_result(\n",
      "/Users/noeljoseph/opt/anaconda3/lib/python3.8/site-packages/sklearn/linear_model/_logistic.py:763: ConvergenceWarning: lbfgs failed to converge (status=1):\n",
      "STOP: TOTAL NO. of ITERATIONS REACHED LIMIT.\n",
      "\n",
      "Increase the number of iterations (max_iter) or scale the data as shown in:\n",
      "    https://scikit-learn.org/stable/modules/preprocessing.html\n",
      "Please also refer to the documentation for alternative solver options:\n",
      "    https://scikit-learn.org/stable/modules/linear_model.html#logistic-regression\n",
      "  n_iter_i = _check_optimize_result(\n",
      "/Users/noeljoseph/opt/anaconda3/lib/python3.8/site-packages/sklearn/linear_model/_logistic.py:763: ConvergenceWarning: lbfgs failed to converge (status=1):\n",
      "STOP: TOTAL NO. of ITERATIONS REACHED LIMIT.\n",
      "\n",
      "Increase the number of iterations (max_iter) or scale the data as shown in:\n",
      "    https://scikit-learn.org/stable/modules/preprocessing.html\n",
      "Please also refer to the documentation for alternative solver options:\n",
      "    https://scikit-learn.org/stable/modules/linear_model.html#logistic-regression\n",
      "  n_iter_i = _check_optimize_result(\n",
      "/Users/noeljoseph/opt/anaconda3/lib/python3.8/site-packages/sklearn/linear_model/_logistic.py:763: ConvergenceWarning: lbfgs failed to converge (status=1):\n",
      "STOP: TOTAL NO. of ITERATIONS REACHED LIMIT.\n",
      "\n",
      "Increase the number of iterations (max_iter) or scale the data as shown in:\n",
      "    https://scikit-learn.org/stable/modules/preprocessing.html\n",
      "Please also refer to the documentation for alternative solver options:\n",
      "    https://scikit-learn.org/stable/modules/linear_model.html#logistic-regression\n",
      "  n_iter_i = _check_optimize_result(\n"
     ]
    },
    {
     "data": {
      "text/plain": [
       "GridSearchCV(estimator=LogisticRegression(),\n",
       "             param_grid={'C': [0.001, 0.01, 0.1, 1, 10]})"
      ]
     },
     "execution_count": 67,
     "metadata": {},
     "output_type": "execute_result"
    }
   ],
   "source": [
    "param_grid={'C':[0.001,0.01,0.1,1,10]}\n",
    "grid = GridSearchCV(LogisticRegression(), param_grid)\n",
    "grid.fit(x_train, y_train)"
   ]
  },
  {
   "cell_type": "code",
   "execution_count": 68,
   "id": "48caeacf",
   "metadata": {},
   "outputs": [
    {
     "name": "stdout",
     "output_type": "stream",
     "text": [
      "Best parameters: {'C': 10}\n"
     ]
    }
   ],
   "source": [
    "print(\"Best parameters:\", grid.best_params_)"
   ]
  },
  {
   "cell_type": "code",
   "execution_count": 69,
   "id": "b4eab37c",
   "metadata": {},
   "outputs": [],
   "source": [
    "y_pred= grid.predict(x_test)"
   ]
  },
  {
   "cell_type": "code",
   "execution_count": 70,
   "id": "0dbfbab4",
   "metadata": {},
   "outputs": [
    {
     "name": "stdout",
     "output_type": "stream",
     "text": [
      "Test accuracy: 88.15%\n"
     ]
    }
   ],
   "source": [
    "logreg_acc = accuracy_score(y_pred, y_test)\n",
    "print(\"Test accuracy: {:.2f}%\".format(logreg_acc*100))"
   ]
  },
  {
   "cell_type": "code",
   "execution_count": 71,
   "id": "07b2b002",
   "metadata": {},
   "outputs": [
    {
     "name": "stdout",
     "output_type": "stream",
     "text": [
      "[[1282   35   40]\n",
      " [  63  310    9]\n",
      " [ 112    1  240]]\n",
      "\n",
      "\n",
      "              precision    recall  f1-score   support\n",
      "\n",
      "                   0.88      0.94      0.91      1357\n",
      "     correct       0.90      0.81      0.85       382\n",
      "   incorrect       0.83      0.68      0.75       353\n",
      "\n",
      "    accuracy                           0.88      2092\n",
      "   macro avg       0.87      0.81      0.84      2092\n",
      "weighted avg       0.87      0.88      0.87      2092\n",
      "\n"
     ]
    }
   ],
   "source": [
    "print(confusion_matrix(y_test, logreg_pred))\n",
    "print(\"\\n\")\n",
    "print(classification_report(y_test, logreg_pred))"
   ]
  },
  {
   "cell_type": "code",
   "execution_count": 72,
   "id": "f5dc6109",
   "metadata": {},
   "outputs": [
    {
     "data": {
      "text/plain": [
       "LinearSVC()"
      ]
     },
     "execution_count": 72,
     "metadata": {},
     "output_type": "execute_result"
    }
   ],
   "source": [
    "SVCmodel = LinearSVC()\n",
    "SVCmodel.fit(x_train, y_train)"
   ]
  },
  {
   "cell_type": "code",
   "execution_count": 73,
   "id": "784b7236",
   "metadata": {},
   "outputs": [
    {
     "name": "stdout",
     "output_type": "stream",
     "text": [
      "test accuracy: 88.240918%\n"
     ]
    }
   ],
   "source": [
    "svc_pred = SVCmodel.predict(x_test)\n",
    "svc_acc = accuracy_score(svc_pred, y_test)\n",
    "print(\"test accuracy: {:2f}%\".format(svc_acc*100))"
   ]
  },
  {
   "cell_type": "code",
   "execution_count": 74,
   "id": "bb7269a6",
   "metadata": {},
   "outputs": [
    {
     "name": "stdout",
     "output_type": "stream",
     "text": [
      "[[1274   42   41]\n",
      " [  52  322    8]\n",
      " [ 101    2  250]]\n",
      "\n",
      "\n",
      "              precision    recall  f1-score   support\n",
      "\n",
      "                   0.89      0.94      0.92      1357\n",
      "     correct       0.88      0.84      0.86       382\n",
      "   incorrect       0.84      0.71      0.77       353\n",
      "\n",
      "    accuracy                           0.88      2092\n",
      "   macro avg       0.87      0.83      0.85      2092\n",
      "weighted avg       0.88      0.88      0.88      2092\n",
      "\n"
     ]
    }
   ],
   "source": [
    "print(confusion_matrix(y_test, svc_pred))\n",
    "print(\"\\n\")\n",
    "print(classification_report(y_test, svc_pred))"
   ]
  },
  {
   "cell_type": "code",
   "execution_count": 75,
   "id": "af355cfe",
   "metadata": {},
   "outputs": [
    {
     "name": "stderr",
     "output_type": "stream",
     "text": [
      "/Users/noeljoseph/opt/anaconda3/lib/python3.8/site-packages/sklearn/svm/_base.py:985: ConvergenceWarning: Liblinear failed to converge, increase the number of iterations.\n",
      "  warnings.warn(\"Liblinear failed to converge, increase \"\n",
      "/Users/noeljoseph/opt/anaconda3/lib/python3.8/site-packages/sklearn/svm/_base.py:985: ConvergenceWarning: Liblinear failed to converge, increase the number of iterations.\n",
      "  warnings.warn(\"Liblinear failed to converge, increase \"\n",
      "/Users/noeljoseph/opt/anaconda3/lib/python3.8/site-packages/sklearn/svm/_base.py:985: ConvergenceWarning: Liblinear failed to converge, increase the number of iterations.\n",
      "  warnings.warn(\"Liblinear failed to converge, increase \"\n",
      "/Users/noeljoseph/opt/anaconda3/lib/python3.8/site-packages/sklearn/svm/_base.py:985: ConvergenceWarning: Liblinear failed to converge, increase the number of iterations.\n",
      "  warnings.warn(\"Liblinear failed to converge, increase \"\n",
      "/Users/noeljoseph/opt/anaconda3/lib/python3.8/site-packages/sklearn/svm/_base.py:985: ConvergenceWarning: Liblinear failed to converge, increase the number of iterations.\n",
      "  warnings.warn(\"Liblinear failed to converge, increase \"\n"
     ]
    },
    {
     "data": {
      "text/plain": [
       "GridSearchCV(estimator=LinearSVC(), param_grid={'C': [0.001, 0.01, 0.1, 1, 10]})"
      ]
     },
     "execution_count": 75,
     "metadata": {},
     "output_type": "execute_result"
    }
   ],
   "source": [
    "grid = {\n",
    "    'C':[0.01, 0.1, 1, 10],\n",
    "    'kernel': [\"linear\", \"poly\", \"rbf\", \"sigmoid\"],\n",
    "    'degree': [1,3,5,7],\n",
    "    'gamma': [0.01, 1]\n",
    "}\n",
    "grid = GridSearchCV(SVCmodel, param_grid)\n",
    "grid.fit(x_train, y_train)"
   ]
  },
  {
   "cell_type": "code",
   "execution_count": 76,
   "id": "a3560462",
   "metadata": {},
   "outputs": [
    {
     "name": "stdout",
     "output_type": "stream",
     "text": [
      "Best parameter: {'C': 0.1}\n"
     ]
    }
   ],
   "source": [
    "print(\"Best parameter:\", grid.best_params_)"
   ]
  },
  {
   "cell_type": "code",
   "execution_count": 77,
   "id": "849cc718",
   "metadata": {},
   "outputs": [],
   "source": [
    "y_pred = grid.predict(x_test)"
   ]
  },
  {
   "cell_type": "code",
   "execution_count": 78,
   "id": "11109f00",
   "metadata": {},
   "outputs": [
    {
     "name": "stdout",
     "output_type": "stream",
     "text": [
      "Test Accuracy: 87.86%\n"
     ]
    }
   ],
   "source": [
    "logreg_acc= accuracy_score(y_pred, y_test)\n",
    "print(\"Test Accuracy: {:.2f}%\".format(logreg_acc*100))"
   ]
  },
  {
   "cell_type": "code",
   "execution_count": 79,
   "id": "d6757168",
   "metadata": {},
   "outputs": [
    {
     "name": "stdout",
     "output_type": "stream",
     "text": [
      "[[1275   42   40]\n",
      " [  54  320    8]\n",
      " [ 108    2  243]]\n",
      "\n",
      "\n",
      "              precision    recall  f1-score   support\n",
      "\n",
      "                   0.89      0.94      0.91      1357\n",
      "     correct       0.88      0.84      0.86       382\n",
      "   incorrect       0.84      0.69      0.75       353\n",
      "\n",
      "    accuracy                           0.88      2092\n",
      "   macro avg       0.87      0.82      0.84      2092\n",
      "weighted avg       0.88      0.88      0.88      2092\n",
      "\n"
     ]
    }
   ],
   "source": [
    "print(confusion_matrix(y_test, y_pred))\n",
    "print(\"\\n\")\n",
    "print(classification_report(y_test, y_pred))"
   ]
  },
  {
   "cell_type": "code",
   "execution_count": null,
   "id": "fea02209",
   "metadata": {},
   "outputs": [],
   "source": []
  },
  {
   "cell_type": "code",
   "execution_count": 76,
   "id": "f5a67584",
   "metadata": {},
   "outputs": [
    {
     "name": "stderr",
     "output_type": "stream",
     "text": [
      "/Users/noeljoseph/opt/anaconda3/lib/python3.8/site-packages/IPython/core/interactiveshell.py:3165: DtypeWarning: Columns (28,54,162,163,164,165,166,168,169,171,172,173,174,175,176,183,184,185,186,187,188,190,196,197,198,199,200,201,202,207,210,212,213,214,215) have mixed types.Specify dtype option on import or set low_memory=False.\n",
      "  has_raised = await self.run_ast_nodes(code_ast.body, cell_name,\n"
     ]
    }
   ],
   "source": [
    "test_df = pd.read_csv('tweetfinalhealthkerala.csv')"
   ]
  },
  {
   "cell_type": "code",
   "execution_count": null,
   "id": "0ca95ece",
   "metadata": {},
   "outputs": [],
   "source": [
    "test_df.info()"
   ]
  },
  {
   "cell_type": "code",
   "execution_count": null,
   "id": "da9ea4b2",
   "metadata": {},
   "outputs": [],
   "source": [
    "# drop the columns that are not required\n",
    "test_df = test_df.drop(['_type', 'url', 'renderedContent', 'id', 'user',\n",
    "                 'quoteCount', 'conversationId', 'source', 'sourceUrl',\n",
    "                 'outlinks', 'tcooutlinks', 'media', 'retweetedTweet',\n",
    "                 'quotedTweet', 'inReplyToTweetId','inReplyToUser',\n",
    "                 'mentionedUsers', 'coordinates', 'place', 'cashtags',\n",
    "                 'user_type', 'userID', 'user_description_urls',\n",
    "                 'user_protected', 'user_link_url', 'user_linkTcourl',\n",
    "                 'user_profile_imageUrl', 'user_profile_bannerUrl', 'user_label',\n",
    "                 'user_url', 'label._type', 'label.description', 'label.url',\n",
    "                 'label.badgeUrl', 'label.longDescription', '_type', 'id',\n",
    "                 'quotedTweet.mentionedUsers', 'quotedTweet.coordinates',\n",
    "                 'quotedTweet.place', 'quotedTweet.hashtags', 'quotedTweet.cashtags',\n",
    "                 'user.label._type', 'user.label.description', 'user.label.url',\n",
    "                 'user.label.badgeUrl','user.label.longDescription', 'quotedTweet.source',\n",
    "                 'quotedTweet.sourceUrl', 'quotedTweet.sourceLabel', 'quotedTweet.outlinks',\n",
    "                 'quotedTweet.tcooutlinks', 'quotedTweet.media', 'quotedTweet.retweetedTweet',\n",
    "                 'quotedTweet.quotedTweet', 'quotedTweet.inReplyToTweetId', 'quotedTweet.inReplyToUser'], axis = 'columns')"
   ]
  },
  {
   "cell_type": "code",
   "execution_count": null,
   "id": "1c707e25",
   "metadata": {},
   "outputs": [],
   "source": [
    "# drop additional columns that appear towards the right of the last relevant column\n",
    "test_df.drop(test_df.columns[[22,23, 24, 25, 26, 27, 28, 29, 30, 31, 32, 33, 34, 35, 36, 37, 38,\n",
    "                    39, 40, 41, 42, 43, 44, 45, 46, 47, 48, 49, 50, 51, 52, 53, 54, 55, 56,\n",
    "                    57, 58, 59, 60, 61, 62, 63, 64, 65, 66, 67, 68, 69, 70, 71, 72, 73, 74, 75,\n",
    "                    76, 77, 78, 79, 80, 81, 82, 83, 84, 85, 86, 87, 88, 89, 90, 91, 92, 93, 94,\n",
    "                    95, 96, 97, 98, 99, 100, 101, 102, 103, 104, 105, 106, 107, 108, 109, 110,\n",
    "                    111, 112, 113, 114, 115, 116, 117, 118, 119, 120, 121, 122, 123, 124, 125,\n",
    "                    126, 127, 128, 129, 130, 131, 132, 133, 134, 135, 136, 137, 138, 139, 140,\n",
    "                    141, 142, 143, 144, 145, 146, 147, 148, 149, 150, 151, 152, 153, 154, 155,\n",
    "                    156, 157, 158, 159, 160, 161]], axis=1, inplace=True)"
   ]
  },
  {
   "cell_type": "code",
   "execution_count": null,
   "id": "479ba516",
   "metadata": {},
   "outputs": [],
   "source": [
    "test_df.info()"
   ]
  },
  {
   "cell_type": "code",
   "execution_count": null,
   "id": "12bc3a33",
   "metadata": {},
   "outputs": [],
   "source": [
    "# drop the rows\n",
    "test_df.drop(test_df.index[:19800],0,inplace=True)"
   ]
  },
  {
   "cell_type": "code",
   "execution_count": null,
   "id": "489c6071",
   "metadata": {},
   "outputs": [],
   "source": [
    "test_df.info()"
   ]
  },
  {
   "cell_type": "code",
   "execution_count": null,
   "id": "bf11950f",
   "metadata": {},
   "outputs": [],
   "source": [
    "#visualising for better undertanding of the spread of the variables\n",
    "test_df.hist(bins=100, figsize=(20,15))\n",
    "plt.show()"
   ]
  },
  {
   "cell_type": "code",
   "execution_count": null,
   "id": "d1419368",
   "metadata": {},
   "outputs": [],
   "source": [
    "test_df.columns"
   ]
  },
  {
   "cell_type": "code",
   "execution_count": null,
   "id": "be7ed220",
   "metadata": {},
   "outputs": [],
   "source": [
    "content_test_df = test_df.drop(['Unnamed: 0', 'date', 'replyCount', 'retweetCount',\n",
    "                      'likeCount', 'lang', 'sourceLabel', 'hashtags', 'username',\n",
    "                      'user_dispaly_name', 'user_description', 'user_raw_description',\n",
    "                      'user_verified', 'user_created', 'user_followers_count',\n",
    "                      'user_friends_count', 'user_status_count', 'user_favourites_count',\n",
    "                      'user_listed_count', 'user_media_count', 'user_location'], axis=1)\n",
    "content_test_df.head()"
   ]
  },
  {
   "cell_type": "code",
   "execution_count": null,
   "id": "ad4961fa",
   "metadata": {},
   "outputs": [],
   "source": [
    "def preprocess_content_test_text(content):\n",
    "    \n",
    "    #convert all text to lowercase\n",
    "    content = content.lower()\n",
    "    \n",
    "    #remove any urls\n",
    "    content = re.sub(r\"http\\S+|www\\S+|https\\s+\", \"\", content, flags=re.MULTILINE)\n",
    "    \n",
    "    #remove punctuations\n",
    "    content = content.translate(str.maketrans(\"\", \"\", string.punctuation))\n",
    "    \n",
    "    #remove # from tweet\n",
    "    content = re.sub(r'\\#', \"\", content)\n",
    "    \n",
    "    #remove stopwords\n",
    "    content_tokens = word_tokenize(content)\n",
    "    filtered_words = [word for word in content_tokens if word not in stop_words]\n",
    "    \n",
    "    #stemming\n",
    "    #ps = PorterStemmer()\n",
    "    #stemmed_words = [ps.stem(w) for w in filtered_words]\n",
    "    \n",
    "    #lemmatizing\n",
    "    #lemmatizer = WordNetLemmatizer()\n",
    "    #lemma_words = [lemmatizer.lemmatize(w, pos='a') for w in stemmed_words]\n",
    "    \n",
    "    return \" \".join(filtered_words)\n",
    "    "
   ]
  },
  {
   "cell_type": "code",
   "execution_count": null,
   "id": "1c969c08",
   "metadata": {},
   "outputs": [],
   "source": [
    "content_test_df.content = content_test_df['content'].apply(preprocess_content_test_text)"
   ]
  },
  {
   "cell_type": "code",
   "execution_count": null,
   "id": "374e32e4",
   "metadata": {},
   "outputs": [],
   "source": [
    "content_test_df.content.head()"
   ]
  },
  {
   "cell_type": "code",
   "execution_count": null,
   "id": "e7436dc8",
   "metadata": {},
   "outputs": [],
   "source": [
    "#stemming\n",
    "stemmer = PorterStemmer()\n",
    "def stemming(data):\n",
    "    content = [stemmer.stem(word) for word in data]\n",
    "    return data"
   ]
  },
  {
   "cell_type": "code",
   "execution_count": null,
   "id": "9295e311",
   "metadata": {},
   "outputs": [],
   "source": [
    "content_test_df['content'] = content_test_df['content'].apply(lambda x: stemming(x))"
   ]
  },
  {
   "cell_type": "code",
   "execution_count": null,
   "id": "dd9b3bad",
   "metadata": {},
   "outputs": [],
   "source": [
    "content_test_df"
   ]
  },
  {
   "cell_type": "code",
   "execution_count": null,
   "id": "a81c9c7b",
   "metadata": {},
   "outputs": [],
   "source": [
    "vect = CountVectorizer(ngram_range=(1,2)).fit(content_test_df['content'])"
   ]
  },
  {
   "cell_type": "code",
   "execution_count": null,
   "id": "5c703484",
   "metadata": {},
   "outputs": [],
   "source": [
    "feature_names = vect.get_feature_names()\n",
    "print(\"Number of features: {}\\n\".format(len(feature_names)))\n",
    "print(\"First 20 features:\\n {}\".format(feature_names[:20]))"
   ]
  },
  {
   "cell_type": "code",
   "execution_count": null,
   "id": "e2656bb2",
   "metadata": {},
   "outputs": [],
   "source": [
    "x = content_test_df['content']\n",
    "x = vect.transform(x)"
   ]
  },
  {
   "cell_type": "code",
   "execution_count": null,
   "id": "d49b10b7",
   "metadata": {},
   "outputs": [],
   "source": [
    "x.shape"
   ]
  },
  {
   "cell_type": "code",
   "execution_count": null,
   "id": "2deda1da",
   "metadata": {
    "scrolled": true
   },
   "outputs": [],
   "source": [
    "content_test_df.shape"
   ]
  },
  {
   "cell_type": "code",
   "execution_count": null,
   "id": "e521d66d",
   "metadata": {},
   "outputs": [],
   "source": [
    "prediction = SVCmodel.predict(x)"
   ]
  },
  {
   "cell_type": "code",
   "execution_count": null,
   "id": "0e4fe5ee",
   "metadata": {},
   "outputs": [],
   "source": []
  },
  {
   "cell_type": "code",
   "execution_count": null,
   "id": "db22395c",
   "metadata": {},
   "outputs": [],
   "source": []
  }
 ],
 "metadata": {
  "kernelspec": {
   "display_name": "Python 3",
   "language": "python",
   "name": "python3"
  },
  "language_info": {
   "codemirror_mode": {
    "name": "ipython",
    "version": 3
   },
   "file_extension": ".py",
   "mimetype": "text/x-python",
   "name": "python",
   "nbconvert_exporter": "python",
   "pygments_lexer": "ipython3",
   "version": "3.8.8"
  }
 },
 "nbformat": 4,
 "nbformat_minor": 5
}
